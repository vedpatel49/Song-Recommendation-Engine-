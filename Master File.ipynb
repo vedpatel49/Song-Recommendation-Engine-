{
  "nbformat": 4,
  "nbformat_minor": 0,
  "metadata": {
    "colab": {
      "name": "Project_03.ipynb",
      "provenance": [],
      "collapsed_sections": []
    },
    "kernelspec": {
      "name": "python3",
      "display_name": "Python 3"
    }
  },
  "cells": [
    {
      "cell_type": "code",
      "metadata": {
        "id": "5Z5mycY45C26"
      },
      "source": [
        "import findspark\n",
        "findspark.init()\n",
        "import random\n",
        "import pyspark"
      ],
      "execution_count": null,
      "outputs": []
    },
    {
      "cell_type": "code",
      "metadata": {
        "id": "K7UPtbn65FKj"
      },
      "source": [
        "import os\n",
        "lehighId =  'team6' # Put here your Lehigh Id\n",
        "\n",
        "config = pyspark.SparkConf().set('spark.executor.memory', '1024M')\\\n",
        "            .set('spark.cores.max', '6')\\\n",
        "            .set('spark.port.maxRetries','200')\\\n",
        "            .set('spark.ui.port', 4040 + hash(random.random())%200)\\\n",
        "            .set('spark.master', 'spark://polyp1:7077')\\\n",
        "            .set('spark.app.name', lehighId+\" Project #3\")\n",
        "\n",
        "ss = pyspark.sql.SparkSession.builder.config(conf = config).getOrCreate()\n",
        "sc = ss.sparkContext"
      ],
      "execution_count": null,
      "outputs": []
    },
    {
      "cell_type": "code",
      "metadata": {
        "id": "r7B-xBR85JBY"
      },
      "source": [
        "from pyspark.sql.functions import *\n",
        "from datetime import datetime\n",
        "import numpy as np\n",
        "import matplotlib.pyplot as plt\n",
        "%matplotlib inline\n",
        "\n",
        "from pyspark.ml.feature import VectorAssembler\n",
        "from pyspark.ml.clustering import KMeans\n",
        "from pyspark.ml.evaluation import ClusteringEvaluator"
      ],
      "execution_count": null,
      "outputs": []
    },
    {
      "cell_type": "code",
      "metadata": {
        "id": "MZR24kLmsO94"
      },
      "source": [
        "# from pyspark.mllib.linalg import Vectors\n",
        "from pyspark.ml.feature import VectorAssembler\n",
        "from pyspark.ml.feature import OneHotEncoder, StringIndexer\n",
        "from pyspark.ml.feature import MinMaxScaler\n",
        "# from pyspark.mllib.linalg import *\n",
        "import pandas as pd"
      ],
      "execution_count": null,
      "outputs": []
    },
    {
      "cell_type": "code",
      "metadata": {
        "id": "czu6d0N1bDn_"
      },
      "source": [
        "from pyspark.ml.feature import BucketedRandomProjectionLSH\n",
        "from pyspark.sql.functions import udf\n",
        "from pyspark.sql.types import *\n",
        "from pyspark.ml.linalg import Vectors\n",
        "from pyspark.mllib.linalg.distributed import RowMatrix"
      ],
      "execution_count": null,
      "outputs": []
    },
    {
      "cell_type": "code",
      "metadata": {
        "id": "lzX-3XoX2klt",
        "colab": {
          "base_uri": "https://localhost:8080/"
        },
        "outputId": "679ad98a-03d5-4467-cf49-11d478ebc8f3"
      },
      "source": [
        "! ls /scratch/ISE495/2020_project_03/team-6"
      ],
      "execution_count": null,
      "outputs": [
        {
          "output_type": "stream",
          "text": [
            "data_by_artist.csv  data_by_year.csv  data_w_genres.csv  spotify_dataset.csv\r\n",
            "data_by_genres.csv  data.csv\t      README.txt\r\n"
          ],
          "name": "stdout"
        }
      ]
    },
    {
      "cell_type": "markdown",
      "metadata": {
        "id": "Qdcghqfj5isJ"
      },
      "source": [
        "Task1: Basic statistical analysis\n",
        "\n",
        "1.   Histograms\n",
        "2.   Mean and var of features\n",
        "3.   Info about features\n",
        "\n"
      ]
    },
    {
      "cell_type": "markdown",
      "metadata": {
        "id": "xKSFJR7cINMt"
      },
      "source": [
        "Task2: Time series analysis \n",
        "1. trend of popular songs and generes\n"
      ]
    },
    {
      "cell_type": "markdown",
      "metadata": {
        "id": "FGv7UCkXIRJq"
      },
      "source": [
        "Task3: Recommendation system\n",
        "\n",
        "1) Content Based Song Recommendation to Users - Using the song features create a user profile (avg of item features, weighted avg if count is present). Calculate (user, item) similarity using random projection LSH (http://spark.apache.org/docs/latest/api/python/pyspark.ml.html#pyspark.ml.feature.BucketedRandomProjectionLSH)\n",
        "\n",
        "\n",
        "*   User - Artist Recommendation (Recommending new artists to users)\n",
        "\n",
        "*   User - Song Recommendation (Recommneding new songs to users)\n",
        "*   Playlist - Song Recommendation (Recommending songs to be added to current playlists)\n",
        "\n",
        "\n",
        "\n",
        "2) Matrix Factorization Method - create tuples (user, item, count) and then use the implicit ALS method to get the predictions on whether the user will respond to the item or not (http://spark.apache.org/docs/latest/api/python/pyspark.ml.html#pyspark.ml.recommendation.ALS)\n",
        "\n",
        "\n",
        "*   Can implicit preferences be created somehow?\n",
        "*   Should hand design implicit parameter (alpha) based on the type of problem at hand\n",
        "*   Obtained recommendation accuracy of less than 50% (suggesting songs at random) threshold for a resonable number of rank. Better performance can be expected at higher value of rank but comes at a great cost.\n",
        "*   Need a custom weight defining formuale. Currently not supported by Spark under its ALS module\n",
        "\n",
        "\n",
        "(https://ieeexplore.ieee.org/document/4781121/authors#authors)\n",
        "\n",
        "(https://web.stanford.edu/~rezab/nips2014workshop/submits/logmat.pdf)\n",
        "\n"
      ]
    },
    {
      "cell_type": "code",
      "metadata": {
        "id": "OG2NzEUV6tt9"
      },
      "source": [
        "# File paths\n",
        "artistDataPath = \"/scratch/ISE495/2020_project_03/team-6/data_by_artist.csv\"\n",
        "genreDataPath = \"/scratch/ISE495/2020_project_03/team-6/data_by_genres.csv\"\n",
        "yearDataPath = \"/scratch/ISE495/2020_project_03/team-6/data_by_year.csv\"\n",
        "DataPath = \"/scratch/ISE495/2020_project_03/team-6/data.csv\"\n",
        "spotifyDataPath = \"/scratch/ISE495/2020_project_03/team-6/spotify_dataset.csv\"\n",
        "wgenresDataPath = \"/scratch/ISE495/2020_project_03/team-6/data_w_genres.csv\""
      ],
      "execution_count": null,
      "outputs": []
    },
    {
      "cell_type": "code",
      "metadata": {
        "colab": {
          "base_uri": "https://localhost:8080/"
        },
        "id": "PxQjvXGSHKjk",
        "outputId": "74f0dcb0-fbb3-49a4-8924-2b8de975d914"
      },
      "source": [
        "! head \"/scratch/ISE495/2020_project_03/team-6/data.csv\""
      ],
      "execution_count": null,
      "outputs": [
        {
          "output_type": "stream",
          "text": [
            "acousticness,artists,danceability,duration_ms,energy,explicit,id,instrumentalness,key,liveness,loudness,mode,name,popularity,release_date,speechiness,tempo,valence,year\r\r\n",
            "0.995,['Carl Woitschach'],0.708,158648,0.195,0,6KbQ3uYMLKb5jDxLF7wYDD,0.563,10,0.151,-12.428,1,Singende Bataillone 1. Teil,0,1928,0.0506,118.469,0.779,1928\r\r\n",
            "0.994,\"['Robert Schumann', 'Vladimir Horowitz']\",0.379,282133,0.0135,0,6KuQTIu1KoTTkLXKrwlLPV,0.901,8,0.0763,-28.454,1,\"Fantasiestücke, Op. 111: Più tosto lento\",0,1928,0.0462,83.97200000000002,0.0767,1928\r\r\n",
            "0.604,['Seweryn Goszczyński'],0.7490000000000001,104300,0.22,0,6L63VW0PibdM1HDSBoqnoM,0.0,5,0.119,-19.924,0,Chapter 1.18 - Zamek kaniowski,0,1928,0.929,107.177,0.88,1928\r\r\n",
            "0.995,['Francisco Canaro'],0.7809999999999999,180760,0.13,0,6M94FkXd15sOAOQYRnWPN8,0.887,1,0.111,-14.734000000000002,0,Bebamos Juntos - Instrumental (Remasterizado),0,1928-09-25,0.0926,108.003,0.72,1928\r\r\n",
            "0.99,\"['Frédéric Chopin', 'Vladimir Horowitz']\",0.21,687733,0.204,0,6N6tiFZ9vLTSOIxkj8qKrd,0.908,11,0.098,-16.829,1,\"Polonaise-Fantaisie in A-Flat Major, Op. 61\",1,1928,0.0424,62.149,0.0693,1928\r\r\n",
            "0.995,\"['Felix Mendelssohn', 'Vladimir Horowitz']\",0.424,352600,0.12,0,6NxAf7M8DNHOBTmEd3JSO5,0.911,6,0.0915,-19.242,0,Scherzo a capriccio: Presto,0,1928,0.0593,63.521,0.266,1928\r\r\n",
            "0.956,\"['Franz Liszt', 'Vladimir Horowitz']\",0.444,136627,0.197,0,6O0puPuyrxPjDTHDUgsWI7,0.435,11,0.0744,-17.226,1,\"Valse oubliée No. 1 in F-Sharp Major, S. 215/1\",0,1928,0.04,80.495,0.305,1928\r\r\n",
            "0.988,['Carl Woitschach'],0.555,153967,0.421,0,6OJjveoYwJdIt76y0Pxpxw,0.836,1,0.105,-9.878,1,Per aspera ad astra,0,1928,0.0474,123.31,0.857,1928\r\r\n",
            "0.995,\"['Francisco Canaro', 'Charlo']\",0.6829999999999999,162493,0.207,0,6OaJ8Bh7lsBeYoBmwmo2nh,0.206,9,0.337,-9.801,0,Moneda Corriente - Remasterizado,0,1928-10-03,0.127,119.833,0.493,1928\r\r\n"
          ],
          "name": "stdout"
        }
      ]
    },
    {
      "cell_type": "code",
      "metadata": {
        "id": "OvzW7SMXrk3Q"
      },
      "source": [
        "#Base Dataframes\n",
        "\n",
        "artistdf = ss.read.csv(artistDataPath,header=True,inferSchema=True)\n",
        "genredf = ss.read.csv(genreDataPath,header=True,inferSchema=True)\n",
        "yeardf = ss.read.csv(yearDataPath,header=True,inferSchema=True)\n",
        "datadf = ss.read.csv(DataPath,header=True,inferSchema=True,escape='\\\"',quote='\\\"') #Escape character set to \"\n",
        "w_genredf = ss.read.csv(wgenresDataPath,header=True,inferSchema=True)\n",
        "\n",
        "spotifydf = ss.read.csv(spotifyDataPath,header=True,inferSchema=True)\n",
        "spotifydf = spotifydf.select('user_id',col(' \"artistname\"').alias('artistname'), col(' \"trackname\"').alias(\"trackname\"),col(' \"playlistname\"').alias('playlistname'))\n",
        "\n"
      ],
      "execution_count": null,
      "outputs": []
    },
    {
      "cell_type": "code",
      "metadata": {
        "id": "NgGfcygwgr13"
      },
      "source": [
        "#Base RDDs\n",
        "\n",
        "artistRDD = artistdf.rdd.map(list)\n",
        "genreRDD = genredf.rdd.map(list)\n",
        "yearRDD = yeardf.rdd.map(list)\n",
        "dataRDD = datadf.rdd.map(list)\n",
        "w_genreRDD = w_genredf.rdd.map(list)\n",
        "\n",
        "spotifyRDD = spotifydf.rdd.map(list) "
      ],
      "execution_count": null,
      "outputs": []
    },
    {
      "cell_type": "code",
      "metadata": {
        "colab": {
          "base_uri": "https://localhost:8080/"
        },
        "id": "OPnR7ZwtURAI",
        "outputId": "e053dae4-9318-45db-df22-e182be452905"
      },
      "source": [
        "datadf.show()"
      ],
      "execution_count": null,
      "outputs": [
        {
          "output_type": "stream",
          "text": [
            "+------------+--------------------+------------------+-----------+-------+--------+--------------------+----------------+---+--------+-------------------+----+--------------------+----------+------------+--------------------+-----------------+-------------------+----+\n",
            "|acousticness|             artists|      danceability|duration_ms| energy|explicit|                  id|instrumentalness|key|liveness|           loudness|mode|                name|popularity|release_date|         speechiness|            tempo|            valence|year|\n",
            "+------------+--------------------+------------------+-----------+-------+--------+--------------------+----------------+---+--------+-------------------+----+--------------------+----------+------------+--------------------+-----------------+-------------------+----+\n",
            "|       0.995| ['Carl Woitschach']|             0.708|     158648|  0.195|       0|6KbQ3uYMLKb5jDxLF...|           0.563| 10|   0.151|            -12.428|   1|Singende Bataillo...|         0|        1928|              0.0506|          118.469|              0.779|1928|\n",
            "|       0.994|['Robert Schumann...|             0.379|     282133| 0.0135|       0|6KuQTIu1KoTTkLXKr...|           0.901|  8|  0.0763|            -28.454|   1|Fantasiestücke, O...|         0|        1928|              0.0462|83.97200000000002|             0.0767|1928|\n",
            "|       0.604|['Seweryn Goszczy...|0.7490000000000001|     104300|   0.22|       0|6L63VW0PibdM1HDSB...|             0.0|  5|   0.119|            -19.924|   0|Chapter 1.18 - Za...|         0|        1928|               0.929|          107.177|               0.88|1928|\n",
            "|       0.995|['Francisco Canaro']|0.7809999999999999|     180760|   0.13|       0|6M94FkXd15sOAOQYR...|           0.887|  1|   0.111|-14.734000000000002|   0|Bebamos Juntos - ...|         0|  1928-09-25|              0.0926|          108.003|               0.72|1928|\n",
            "|        0.99|['Frédéric Chopin...|              0.21|     687733|  0.204|       0|6N6tiFZ9vLTSOIxkj...|           0.908| 11|   0.098|            -16.829|   1|Polonaise-Fantais...|         1|        1928|              0.0424|           62.149|             0.0693|1928|\n",
            "|       0.995|['Felix Mendelsso...|             0.424|     352600|   0.12|       0|6NxAf7M8DNHOBTmEd...|           0.911|  6|  0.0915|            -19.242|   0|Scherzo a capricc...|         0|        1928|              0.0593|           63.521|              0.266|1928|\n",
            "|       0.956|['Franz Liszt', '...|             0.444|     136627|  0.197|       0|6O0puPuyrxPjDTHDU...|           0.435| 11|  0.0744|            -17.226|   1|Valse oubliée No....|         0|        1928|                0.04|           80.495|              0.305|1928|\n",
            "|       0.988| ['Carl Woitschach']|             0.555|     153967|  0.421|       0|6OJjveoYwJdIt76y0...|           0.836|  1|   0.105|             -9.878|   1| Per aspera ad astra|         0|        1928|              0.0474|           123.31|              0.857|1928|\n",
            "|       0.995|['Francisco Canar...|0.6829999999999999|     162493|  0.207|       0|6OaJ8Bh7lsBeYoBmw...|           0.206|  9|   0.337|             -9.801|   0|Moneda Corriente ...|         0|  1928-10-03|               0.127|          119.833|              0.493|1928|\n",
            "|       0.846|['Seweryn Goszczy...|             0.674|     111600|  0.205|       0|6PrZexNb16cabXR8Q...|             0.0|  9|    0.17|            -20.119|   1|Chapter 1.3 - Zam...|         0|        1928|               0.954|           81.249|              0.759|1928|\n",
            "|       0.994|['Sergei Rachmani...|             0.376|     590293| 0.0719|       0|6QBInZBkQNIQYU9gG...|           0.883| 10|   0.196|            -21.849|   0|Piano Sonata No. ...|         0|        1928|              0.0352|           141.39|             0.0393|1928|\n",
            "|       0.989|['Frédéric Chopin...|              0.17|      85133| 0.0823|       0|6QIONtzbQCbnmWNwn...|           0.911| 10|  0.0962|            -30.107|   0|Piano Sonata No. ...|         1|        1928|              0.0317|85.98899999999998|0.34600000000000003|1928|\n",
            "|        0.99|['Samuel Barber',...|             0.359|     338333| 0.0435|       0|6QgdUySTRGVkNo3Kw...|           0.899|  7|   0.109|            -20.858|   1|Piano Sonata in E...|         0|        1928|              0.0424|           96.645|              0.042|1928|\n",
            "|       0.992|['Robert Schumann...|             0.311|     167333| 0.0107|       0|6RvSNoCPBZeTR2LyG...|           0.883|  5|  0.0954|            -35.648|   1|Nachtstücke, Op. ...|         0|        1928|              0.0556|            78.98|0.21600000000000005|1928|\n",
            "|       0.977|['Ludwig van Beet...|             0.335|     276563|  0.105|       0|6Rwn56jcC0TdGQzbR...|            0.84|  5|   0.231|            -16.049|   0|Symphony No. 5 in...|         0|  1928-01-01|              0.0716|           80.204|              0.406|1928|\n",
            "|       0.991|['George Butterwo...|             0.319|     184840|0.00593|       0|6Sdpmree8xpGWaedA...|         6.35E-5|  7|  0.0691|            -25.789|   0|A Shropshire Lad:...|         0|        1928|               0.051|           79.831|0.16899999999999998|1928|\n",
            "|       0.996|['Alexander Scria...|             0.319|     326067|  0.155|       0|6T0mZB7p3qzOifdXZ...|           0.917|  4|   0.126|            -18.728|   1|Sonata No. 3, Op....|         0|        1928|0.036000000000000004|           66.947|             0.0488|1928|\n",
            "|       0.994|['Francisco Canar...|             0.787|     167107|  0.156|       0|6TFuAErGpJ9FpxQQ1...|           0.659|  4|    0.11|            -14.056|   0|Invocación al Tan...|         0|  1928-09-16|               0.157|          117.167| 0.8490000000000001|1928|\n",
            "|       0.993|['Thomas Arne', '...|             0.569|     122533|   0.15|       0|6UUfiNT82MWBNnmsE...|          0.0015|  5|   0.106|            -15.238|   1| Where the Bee Sucks|         0|        1928|              0.0474|            76.93|              0.596|1928|\n",
            "|       0.992|['Francisco Canaro']|             0.763|     173707|  0.132|       0|6Ukl7n0q3Cjd0Og8u...|          0.0693|  4|   0.112|            -13.002|   1|Tendrás Que Llora...|         0|  1928-09-17|              0.0886|          111.679| 0.8320000000000001|1928|\n",
            "+------------+--------------------+------------------+-----------+-------+--------+--------------------+----------------+---+--------+-------------------+----+--------------------+----------+------------+--------------------+-----------------+-------------------+----+\n",
            "only showing top 20 rows\n",
            "\n"
          ],
          "name": "stdout"
        }
      ]
    },
    {
      "cell_type": "code",
      "metadata": {
        "id": "BPI8g2WDc8W7"
      },
      "source": [
        "# Removing songs of duration less than half minute and more than a hour (60 minutes)\n",
        "datadf = ss.read.csv(DataPath,header=True,inferSchema=True,escape='\\\"',quote='\\\"')\n",
        "data_df = datadf.withColumn('artists',translate('artists', '[','')).\\\n",
        "                withColumn('artists',translate('artists', ']','')).\\\n",
        "                withColumn('artists',translate('artists', \"'\",'')).\\\n",
        "                withColumn('artists',split('artists',',')).\\\n",
        "                withColumn(\"duration_ms\",col(\"duration_ms\")/60000).withColumnRenamed(\"duration_ms\",\"duration\")\n",
        "dataDF = data_df.where((data_df['duration'] >= 0.5)&(data_df['duration'] <= 60))\n",
        "dataDF2 = dataDF.select(col(\"*\"),explode(dataDF.artists).alias('artistname'))"
      ],
      "execution_count": null,
      "outputs": []
    },
    {
      "cell_type": "code",
      "metadata": {
        "id": "eEK_2oDn2Bj-"
      },
      "source": [
        "from pyspark.sql.functions import explode\n",
        "from pyspark.sql.functions import col\n",
        "\n",
        "dataDF2 = dataDF.select(col(\"*\"),explode(dataDF.artists).alias('artistname'))"
      ],
      "execution_count": null,
      "outputs": []
    },
    {
      "cell_type": "code",
      "metadata": {
        "colab": {
          "base_uri": "https://localhost:8080/"
        },
        "id": "ykkqQ5AW4nM1",
        "outputId": "69d2e0f5-a15d-45d4-db25-2a2acbc1bbd5"
      },
      "source": [
        "dataDF2.show()"
      ],
      "execution_count": null,
      "outputs": [
        {
          "output_type": "stream",
          "text": [
            "+------------+--------------------+------------------+------------------+------+--------+--------------------+----------------+---+--------+-------------------+----+--------------------+----------+------------+-----------+-----------------+-------------------+----+-------------------+\n",
            "|acousticness|             artists|      danceability|          duration|energy|explicit|                  id|instrumentalness|key|liveness|           loudness|mode|                name|popularity|release_date|speechiness|            tempo|            valence|year|         artistname|\n",
            "+------------+--------------------+------------------+------------------+------+--------+--------------------+----------------+---+--------+-------------------+----+--------------------+----------+------------+-----------+-----------------+-------------------+----+-------------------+\n",
            "|       0.995|   [Carl Woitschach]|             0.708|2.6441333333333334| 0.195|       0|6KbQ3uYMLKb5jDxLF...|           0.563| 10|   0.151|            -12.428|   1|Singende Bataillo...|         0|        1928|     0.0506|          118.469|              0.779|1928|    Carl Woitschach|\n",
            "|       0.994|[Robert Schumann,...|             0.379| 4.702216666666667|0.0135|       0|6KuQTIu1KoTTkLXKr...|           0.901|  8|  0.0763|            -28.454|   1|Fantasiestücke, O...|         0|        1928|     0.0462|83.97200000000002|             0.0767|1928|    Robert Schumann|\n",
            "|       0.994|[Robert Schumann,...|             0.379| 4.702216666666667|0.0135|       0|6KuQTIu1KoTTkLXKr...|           0.901|  8|  0.0763|            -28.454|   1|Fantasiestücke, O...|         0|        1928|     0.0462|83.97200000000002|             0.0767|1928|  Vladimir Horowitz|\n",
            "|       0.604|[Seweryn Goszczyń...|0.7490000000000001|1.7383333333333333|  0.22|       0|6L63VW0PibdM1HDSB...|             0.0|  5|   0.119|            -19.924|   0|Chapter 1.18 - Za...|         0|        1928|      0.929|          107.177|               0.88|1928|Seweryn Goszczyński|\n",
            "|       0.995|  [Francisco Canaro]|0.7809999999999999|3.0126666666666666|  0.13|       0|6M94FkXd15sOAOQYR...|           0.887|  1|   0.111|-14.734000000000002|   0|Bebamos Juntos - ...|         0|  1928-09-25|     0.0926|          108.003|               0.72|1928|   Francisco Canaro|\n",
            "|        0.99|[Frédéric Chopin,...|              0.21|11.462216666666666| 0.204|       0|6N6tiFZ9vLTSOIxkj...|           0.908| 11|   0.098|            -16.829|   1|Polonaise-Fantais...|         1|        1928|     0.0424|           62.149|             0.0693|1928|    Frédéric Chopin|\n",
            "|        0.99|[Frédéric Chopin,...|              0.21|11.462216666666666| 0.204|       0|6N6tiFZ9vLTSOIxkj...|           0.908| 11|   0.098|            -16.829|   1|Polonaise-Fantais...|         1|        1928|     0.0424|           62.149|             0.0693|1928|  Vladimir Horowitz|\n",
            "|       0.995|[Felix Mendelssoh...|             0.424| 5.876666666666667|  0.12|       0|6NxAf7M8DNHOBTmEd...|           0.911|  6|  0.0915|            -19.242|   0|Scherzo a capricc...|         0|        1928|     0.0593|           63.521|              0.266|1928|  Felix Mendelssohn|\n",
            "|       0.995|[Felix Mendelssoh...|             0.424| 5.876666666666667|  0.12|       0|6NxAf7M8DNHOBTmEd...|           0.911|  6|  0.0915|            -19.242|   0|Scherzo a capricc...|         0|        1928|     0.0593|           63.521|              0.266|1928|  Vladimir Horowitz|\n",
            "|       0.956|[Franz Liszt,  Vl...|             0.444|2.2771166666666667| 0.197|       0|6O0puPuyrxPjDTHDU...|           0.435| 11|  0.0744|            -17.226|   1|Valse oubliée No....|         0|        1928|       0.04|           80.495|              0.305|1928|        Franz Liszt|\n",
            "|       0.956|[Franz Liszt,  Vl...|             0.444|2.2771166666666667| 0.197|       0|6O0puPuyrxPjDTHDU...|           0.435| 11|  0.0744|            -17.226|   1|Valse oubliée No....|         0|        1928|       0.04|           80.495|              0.305|1928|  Vladimir Horowitz|\n",
            "|       0.988|   [Carl Woitschach]|             0.555| 2.566116666666667| 0.421|       0|6OJjveoYwJdIt76y0...|           0.836|  1|   0.105|             -9.878|   1| Per aspera ad astra|         0|        1928|     0.0474|           123.31|              0.857|1928|    Carl Woitschach|\n",
            "|       0.995|[Francisco Canaro...|0.6829999999999999|2.7082166666666665| 0.207|       0|6OaJ8Bh7lsBeYoBmw...|           0.206|  9|   0.337|             -9.801|   0|Moneda Corriente ...|         0|  1928-10-03|      0.127|          119.833|              0.493|1928|   Francisco Canaro|\n",
            "|       0.995|[Francisco Canaro...|0.6829999999999999|2.7082166666666665| 0.207|       0|6OaJ8Bh7lsBeYoBmw...|           0.206|  9|   0.337|             -9.801|   0|Moneda Corriente ...|         0|  1928-10-03|      0.127|          119.833|              0.493|1928|             Charlo|\n",
            "|       0.846|[Seweryn Goszczyń...|             0.674|              1.86| 0.205|       0|6PrZexNb16cabXR8Q...|             0.0|  9|    0.17|            -20.119|   1|Chapter 1.3 - Zam...|         0|        1928|      0.954|           81.249|              0.759|1928|Seweryn Goszczyński|\n",
            "|       0.994|[Sergei Rachmanin...|             0.376| 9.838216666666666|0.0719|       0|6QBInZBkQNIQYU9gG...|           0.883| 10|   0.196|            -21.849|   0|Piano Sonata No. ...|         0|        1928|     0.0352|           141.39|             0.0393|1928|Sergei Rachmaninoff|\n",
            "|       0.994|[Sergei Rachmanin...|             0.376| 9.838216666666666|0.0719|       0|6QBInZBkQNIQYU9gG...|           0.883| 10|   0.196|            -21.849|   0|Piano Sonata No. ...|         0|        1928|     0.0352|           141.39|             0.0393|1928|  Vladimir Horowitz|\n",
            "|       0.989|[Frédéric Chopin,...|              0.17|1.4188833333333333|0.0823|       0|6QIONtzbQCbnmWNwn...|           0.911| 10|  0.0962|            -30.107|   0|Piano Sonata No. ...|         1|        1928|     0.0317|85.98899999999998|0.34600000000000003|1928|    Frédéric Chopin|\n",
            "|       0.989|[Frédéric Chopin,...|              0.17|1.4188833333333333|0.0823|       0|6QIONtzbQCbnmWNwn...|           0.911| 10|  0.0962|            -30.107|   0|Piano Sonata No. ...|         1|        1928|     0.0317|85.98899999999998|0.34600000000000003|1928|  Vladimir Horowitz|\n",
            "|        0.99|[Samuel Barber,  ...|             0.359| 5.638883333333333|0.0435|       0|6QgdUySTRGVkNo3Kw...|           0.899|  7|   0.109|            -20.858|   1|Piano Sonata in E...|         0|        1928|     0.0424|           96.645|              0.042|1928|      Samuel Barber|\n",
            "+------------+--------------------+------------------+------------------+------+--------+--------------------+----------------+---+--------+-------------------+----+--------------------+----------+------------+-----------+-----------------+-------------------+----+-------------------+\n",
            "only showing top 20 rows\n",
            "\n"
          ],
          "name": "stdout"
        }
      ]
    },
    {
      "cell_type": "code",
      "metadata": {
        "colab": {
          "base_uri": "https://localhost:8080/"
        },
        "id": "kuOLdUYkDgjW",
        "outputId": "a66b2ed6-d3ab-4588-b664-cbf1a4afdd19"
      },
      "source": [
        "#Feature dataset is clean and does not have any null values\n",
        "#Check for null values and drop the rows which have null enteries\n",
        "spotifydf = ss.read.csv(spotifyDataPath,header=True,inferSchema=True)\n",
        "spotifydf = spotifydf.select('user_id',col(' \"artistname\"').alias('artistname'), col(' \"trackname\"').alias(\"trackname\"),col(' \"playlistname\"').alias('playlistname'))\n",
        "spotifydf.select([count(when(isnull(c), c)).alias(c) for c in spotifydf.columns]).show()\n",
        "spotifydf = spotifydf.na.drop()"
      ],
      "execution_count": null,
      "outputs": [
        {
          "output_type": "stream",
          "text": [
            "+-------+----------+---------+------------+\n",
            "|user_id|artistname|trackname|playlistname|\n",
            "+-------+----------+---------+------------+\n",
            "|      0|     33562|       82|          45|\n",
            "+-------+----------+---------+------------+\n",
            "\n"
          ],
          "name": "stdout"
        }
      ]
    },
    {
      "cell_type": "code",
      "metadata": {
        "id": "_-xe8jhycC_B"
      },
      "source": [
        "joinedDF = spotifydf.join(dataDF2,(dataDF2.name==spotifydf.trackname)&(dataDF2.artistname==spotifydf.artistname))"
      ],
      "execution_count": null,
      "outputs": []
    },
    {
      "cell_type": "code",
      "metadata": {
        "colab": {
          "base_uri": "https://localhost:8080/"
        },
        "id": "be8R5Te3bc7N",
        "outputId": "ce7d91f9-e453-46a6-bd08-50ef964ffa5e"
      },
      "source": [
        "joinedDF.show()"
      ],
      "execution_count": null,
      "outputs": [
        {
          "output_type": "stream",
          "text": [
            "+--------------------+-------------+--------------------+--------------------+------------------+---------------+------------------+------------------+------------------+--------+--------------------+----------------+---+--------+--------+----+--------------------+----------+------------+-----------+------------------+------------------+----+-------------+\n",
            "|             user_id|   artistname|           trackname|        playlistname|      acousticness|        artists|      danceability|          duration|            energy|explicit|                  id|instrumentalness|key|liveness|loudness|mode|                name|popularity|release_date|speechiness|             tempo|           valence|year|   artistname|\n",
            "+--------------------+-------------+--------------------+--------------------+------------------+---------------+------------------+------------------+------------------+--------+--------------------+----------------+---+--------+--------+----+--------------------+----------+------------+-----------+------------------+------------------+----+-------------+\n",
            "|8104bd55908290abe...|    Les Brown|        'S Wonderful|                Jazz|             0.856|    [Les Brown]|             0.573|3.0966666666666667|             0.365|       0|2YStk9PaMs0CxfBxB...|         4.09E-5|  9|  0.0261|  -9.774|   1|        'S Wonderful|         5|        1945|     0.0784|169.74400000000003|             0.539|1945|    Les Brown|\n",
            "|872e0baf7655b1b3e...|    Four Tops|(It's The Way) Na...|Four Tops – The D...|             0.539|    [Four Tops]|0.5770000000000001|3.7897833333333333|             0.604|       0|77ofWAzg1VoiK0mek...|         0.00418|  1|  0.0794|  -8.412|   1|(It's The Way) Na...|        32|  1972-01-01|     0.0337|            92.295|             0.721|1972|    Four Tops|\n",
            "|8c2ca47f1e5de4adb...|    Four Tops|(It's The Way) Na...|              MoTown|             0.539|    [Four Tops]|0.5770000000000001|3.7897833333333333|             0.604|       0|77ofWAzg1VoiK0mek...|         0.00418|  1|  0.0794|  -8.412|   1|(It's The Way) Na...|        32|  1972-01-01|     0.0337|            92.295|             0.721|1972|    Four Tops|\n",
            "|0865fac6e53b2acad...|    Four Tops|(It's The Way) Na...|    Low Rider Oldies|             0.539|    [Four Tops]|0.5770000000000001|3.7897833333333333|             0.604|       0|77ofWAzg1VoiK0mek...|         0.00418|  1|  0.0794|  -8.412|   1|(It's The Way) Na...|        32|  1972-01-01|     0.0337|            92.295|             0.721|1972|    Four Tops|\n",
            "|780a0ccf2cee1ddfc...|    Four Tops|(It's The Way) Na...|Mothership Connec...|             0.539|    [Four Tops]|0.5770000000000001|3.7897833333333333|             0.604|       0|77ofWAzg1VoiK0mek...|         0.00418|  1|  0.0794|  -8.412|   1|(It's The Way) Na...|        32|  1972-01-01|     0.0337|            92.295|             0.721|1972|    Four Tops|\n",
            "|780a0ccf2cee1ddfc...|    Four Tops|(It's The Way) Na...|Mothership Connec...|             0.539|    [Four Tops]|0.5770000000000001|3.7897833333333333|             0.604|       0|77ofWAzg1VoiK0mek...|         0.00418|  1|  0.0794|  -8.412|   1|(It's The Way) Na...|        32|  1972-01-01|     0.0337|            92.295|             0.721|1972|    Four Tops|\n",
            "|ad8b86bd06717ad83...|Elvis Presley|(Let's Have A) Party|Elvis Presley – B...|0.7909999999999999|[Elvis Presley]|             0.579|1.4962166666666668|0.5760000000000001|       0|139AsM1OAu63s4zbZ...|             0.0|  0|  0.0541|  -8.568|   1|(Let's Have A) Party|        32|  1957-06-20|     0.0367|            77.675|             0.765|1957|Elvis Presley|\n",
            "|84f4e6bf38260c7a1...|Elvis Presley|(Let's Have A) Party|     '50s-early '60s|0.7909999999999999|[Elvis Presley]|             0.579|1.4962166666666668|0.5760000000000001|       0|139AsM1OAu63s4zbZ...|             0.0|  0|  0.0541|  -8.568|   1|(Let's Have A) Party|        32|  1957-06-20|     0.0367|            77.675|             0.765|1957|Elvis Presley|\n",
            "|319d1ba60db5f6e03...|Elvis Presley|(Let's Have A) Party|Elvis Presley – B...|0.7909999999999999|[Elvis Presley]|             0.579|1.4962166666666668|0.5760000000000001|       0|139AsM1OAu63s4zbZ...|             0.0|  0|  0.0541|  -8.568|   1|(Let's Have A) Party|        32|  1957-06-20|     0.0367|            77.675|             0.765|1957|Elvis Presley|\n",
            "|43de164bfc3c7c472...|Elvis Presley|(Let's Have A) Party|Robs Forever Favo...|0.7909999999999999|[Elvis Presley]|             0.579|1.4962166666666668|0.5760000000000001|       0|139AsM1OAu63s4zbZ...|             0.0|  0|  0.0541|  -8.568|   1|(Let's Have A) Party|        32|  1957-06-20|     0.0367|            77.675|             0.765|1957|Elvis Presley|\n",
            "|587ed66967af091cb...|Elvis Presley|(Let's Have A) Party|Elvis Presley – T...|0.7909999999999999|[Elvis Presley]|             0.579|1.4962166666666668|0.5760000000000001|       0|139AsM1OAu63s4zbZ...|             0.0|  0|  0.0541|  -8.568|   1|(Let's Have A) Party|        32|  1957-06-20|     0.0367|            77.675|             0.765|1957|Elvis Presley|\n",
            "|4194e0ad90daa3a01...|Elvis Presley|(Let's Have A) Party|                John|0.7909999999999999|[Elvis Presley]|             0.579|1.4962166666666668|0.5760000000000001|       0|139AsM1OAu63s4zbZ...|             0.0|  0|  0.0541|  -8.568|   1|(Let's Have A) Party|        32|  1957-06-20|     0.0367|            77.675|             0.765|1957|Elvis Presley|\n",
            "|db937456654d24652...|       ZZ Top|(Somebody Else Be...|              Strane|             0.078|       [ZZ Top]|             0.728|           2.58555|             0.652|       0|56osPBrG8UgZTlgJN...|          0.0173|  2|  0.0672| -10.123|   1|(Somebody Else Be...|        42|  1970-01-16|     0.0401|            98.265|0.8740000000000001|1970|       ZZ Top|\n",
            "|68848dca039d79d59...|      Chicago|        25 or 6 to 4|              Boogie|             0.241|      [Chicago]|             0.612| 4.884883333333334|0.8690000000000001|       0|65eRcjlStTnk8opG5...|          0.0367|  7|  0.0858|  -9.866|   1|        25 or 6 to 4|        41|  1975-11-10|     0.0515|           147.502|0.7709999999999999|1975|      Chicago|\n",
            "|c31d448d552d0f8ad...|      Chicago|        25 or 6 to 4|             Starred|             0.241|      [Chicago]|             0.612| 4.884883333333334|0.8690000000000001|       0|65eRcjlStTnk8opG5...|          0.0367|  7|  0.0858|  -9.866|   1|        25 or 6 to 4|        41|  1975-11-10|     0.0515|           147.502|0.7709999999999999|1975|      Chicago|\n",
            "|6edc6050245128744...|      Chicago|        25 or 6 to 4|Le Grande Wolf Cl...|             0.241|      [Chicago]|             0.612| 4.884883333333334|0.8690000000000001|       0|65eRcjlStTnk8opG5...|          0.0367|  7|  0.0858|  -9.866|   1|        25 or 6 to 4|        41|  1975-11-10|     0.0515|           147.502|0.7709999999999999|1975|      Chicago|\n",
            "|ab1873a5104a1f74f...|      Chicago|        25 or 6 to 4|   Billboard Singles|             0.241|      [Chicago]|             0.612| 4.884883333333334|0.8690000000000001|       0|65eRcjlStTnk8opG5...|          0.0367|  7|  0.0858|  -9.866|   1|        25 or 6 to 4|        41|  1975-11-10|     0.0515|           147.502|0.7709999999999999|1975|      Chicago|\n",
            "|06b7c141d80fc1f55...|      Chicago|        25 or 6 to 4|             Chicago|             0.241|      [Chicago]|             0.612| 4.884883333333334|0.8690000000000001|       0|65eRcjlStTnk8opG5...|          0.0367|  7|  0.0858|  -9.866|   1|        25 or 6 to 4|        41|  1975-11-10|     0.0515|           147.502|0.7709999999999999|1975|      Chicago|\n",
            "|a51bf8359b9201987...|      Chicago|        25 or 6 to 4|     Everything List|             0.241|      [Chicago]|             0.612| 4.884883333333334|0.8690000000000001|       0|65eRcjlStTnk8opG5...|          0.0367|  7|  0.0858|  -9.866|   1|        25 or 6 to 4|        41|  1975-11-10|     0.0515|           147.502|0.7709999999999999|1975|      Chicago|\n",
            "|61980bffadcd01166...|      Chicago|        25 or 6 to 4|             Starred|             0.241|      [Chicago]|             0.612| 4.884883333333334|0.8690000000000001|       0|65eRcjlStTnk8opG5...|          0.0367|  7|  0.0858|  -9.866|   1|        25 or 6 to 4|        41|  1975-11-10|     0.0515|           147.502|0.7709999999999999|1975|      Chicago|\n",
            "+--------------------+-------------+--------------------+--------------------+------------------+---------------+------------------+------------------+------------------+--------+--------------------+----------------+---+--------+--------+----+--------------------+----------+------------+-----------+------------------+------------------+----+-------------+\n",
            "only showing top 20 rows\n",
            "\n"
          ],
          "name": "stdout"
        }
      ]
    },
    {
      "cell_type": "code",
      "metadata": {
        "colab": {
          "base_uri": "https://localhost:8080/"
        },
        "id": "QcUw8tSq5ENS",
        "outputId": "37912ed7-d26f-41ed-9dbb-34f49a784d31"
      },
      "source": [
        "joinedDF.count()"
      ],
      "execution_count": null,
      "outputs": [
        {
          "output_type": "execute_result",
          "data": {
            "text/plain": [
              "3931817"
            ]
          },
          "metadata": {
            "tags": []
          },
          "execution_count": 24
        }
      ]
    },
    {
      "cell_type": "markdown",
      "metadata": {
        "id": "GznE4dkVYMlH"
      },
      "source": [
        "**Exploratory Analysis**\n",
        "\n",
        "Feature Datasets and Playlist Dataset"
      ]
    },
    {
      "cell_type": "code",
      "metadata": {
        "colab": {
          "base_uri": "https://localhost:8080/"
        },
        "id": "escPE7NCYSMK",
        "outputId": "165a0a71-802f-4e46-b834-33a0ee9d9a0d"
      },
      "source": [
        "print(\"Total number of artists: \" + str(artistdf.count()))\n",
        "print(\"Total number of genres: \" + str(genredf.count()))\n",
        "print(\"Total number of songs: \" + str(datadf.select('name').distinct().count()))\n",
        "print(\"Total number of years: \" + str(yeardf.count()))\n"
      ],
      "execution_count": null,
      "outputs": [
        {
          "output_type": "stream",
          "text": [
            "Total number of artists: 27621\n",
            "Total number of genres: 2664\n",
            "Total number of songs: 132940\n",
            "Total number of years: 100\n"
          ],
          "name": "stdout"
        }
      ]
    },
    {
      "cell_type": "code",
      "metadata": {
        "colab": {
          "base_uri": "https://localhost:8080/"
        },
        "id": "Wi9576hOtszL",
        "outputId": "7566e439-640a-41ab-b529-9c7bf3d556ce"
      },
      "source": [
        "datadf.count()-data_df.count()"
      ],
      "execution_count": null,
      "outputs": [
        {
          "output_type": "execute_result",
          "data": {
            "text/plain": [
              "36969"
            ]
          },
          "metadata": {
            "tags": []
          },
          "execution_count": 97
        }
      ]
    },
    {
      "cell_type": "code",
      "metadata": {
        "colab": {
          "base_uri": "https://localhost:8080/"
        },
        "id": "qOBRalvCOryJ",
        "outputId": "5b1f4190-f3e7-4b2d-853a-7b636cead713"
      },
      "source": [
        "print('Total number of users in playlist dataset: ' + str(spotifydf.select(\"user_id\").distinct().count()))\n",
        "print('Total number of artists in playlist dataset: ' + str(spotifydf.select('artistname').distinct().count()))\n",
        "print('Total number of songs in playlist dataset: ' + str(spotifydf.select('trackname').distinct().count()))\n",
        "print('Total number of playlists in playlist dataset: ' + str(spotifydf.select('playlistname').distinct().count()))"
      ],
      "execution_count": null,
      "outputs": [
        {
          "output_type": "stream",
          "text": [
            "Total number of users in playlist dataset: 15914\n",
            "Total number of artists in playlist dataset: 289810\n",
            "Total number of songs in playlist dataset: 2009677\n",
            "Total number of playlists in playlist dataset: 161327\n"
          ],
          "name": "stdout"
        }
      ]
    },
    {
      "cell_type": "markdown",
      "metadata": {
        "id": "4M9JNxdYy2jq"
      },
      "source": [
        "Time Series Analysis"
      ]
    },
    {
      "cell_type": "code",
      "metadata": {
        "colab": {
          "base_uri": "https://localhost:8080/",
          "height": 879
        },
        "id": "wDvZsZfjiPJ_",
        "outputId": "abea7ee1-2a71-44ac-f045-53ced9266e87"
      },
      "source": [
        "y = yeardf.columns[1:10]\n",
        "\n",
        "fig, axs = plt.subplots(3,3, figsize=(15, 15), facecolor='w', edgecolor='k')\n",
        "fig.subplots_adjust(hspace=0.25, wspace=0.25)\n",
        "\n",
        "axs = axs.ravel()\n",
        "\n",
        "for i in range(len(y)):\n",
        "    axs[i].plot(yeardf.select('year').collect(),yeardf.select(y[i]).collect())\n",
        "    axs[i].set_title(y[i])"
      ],
      "execution_count": null,
      "outputs": [
        {
          "output_type": "display_data",
          "data": {
            "text/plain": [
              "<Figure size 1080x1080 with 9 Axes>"
            ],
            "image/png": "[encoded data removed]"
          },
          "metadata": {
            "tags": []
          }
        }
      ]
    },
    {
      "cell_type": "code",
      "metadata": {
        "colab": {
          "base_uri": "https://localhost:8080/"
        },
        "id": "sGrHreTZ9YtF",
        "outputId": "5a902432-46ac-44e1-bd4e-07dd6312b4f2"
      },
      "source": [
        "#top 20 artists by number of tracks\n",
        "spotifydf.createOrReplaceTempView('spotify_Table')\n",
        "ss.sql(\"SELECT artistname,COUNT(DISTINCT trackname) FROM spotify_Table GROUP BY artistname ORDER BY COUNT(DISTINCT trackname) DESC\").show(truncate=False)"
      ],
      "execution_count": null,
      "outputs": [
        {
          "output_type": "stream",
          "text": [
            "+-----------------------+-------------------------+\n",
            "|artistname             |count(DISTINCT trackname)|\n",
            "+-----------------------+-------------------------+\n",
            "|Johann Sebastian Bach  |6967                     |\n",
            "|Various Artists        |6784                     |\n",
            "|Wolfgang Amadeus Mozart|5872                     |\n",
            "|Vitamin String Quartet |3651                     |\n",
            "|Frank Sinatra          |3408                     |\n",
            "|Ludwig van Beethoven   |3404                     |\n",
            "|Grateful Dead          |3396                     |\n",
            "|Ella Fitzgerald        |3307                     |\n",
            "|Johnny Cash            |2500                     |\n",
            "|Lata Mangeshkar        |2479                     |\n",
            "|Ennio Morricone        |2397                     |\n",
            "|George Frideric Handel |2389                     |\n",
            "|Antonio Vivaldi        |2340                     |\n",
            "|Billie Holiday         |2327                     |\n",
            "|Miles Davis            |2276                     |\n",
            "|Ilaiyaraaja            |2241                     |\n",
            "|Louis Armstrong        |2143                     |\n",
            "|Frédéric Chopin        |1864                     |\n",
            "|Elvis Presley          |1854                     |\n",
            "|Django Reinhardt       |1845                     |\n",
            "+-----------------------+-------------------------+\n",
            "only showing top 20 rows\n",
            "\n"
          ],
          "name": "stdout"
        }
      ]
    },
    {
      "cell_type": "code",
      "metadata": {
        "colab": {
          "base_uri": "https://localhost:8080/"
        },
        "id": "Tl_2jpXZCgfq",
        "outputId": "5ddb0001-feea-4d47-dbbc-e114f7b402cb"
      },
      "source": [
        "#top20 playlists based on number of users listening to those playlists\n",
        "ss.sql(\"SELECT playlistname,COUNT(DISTINCT user_id) FROM spotify_Table GROUP BY playlistname ORDER BY COUNT(DISTINCT user_id) DESC\").show(truncate=False)"
      ],
      "execution_count": null,
      "outputs": [
        {
          "output_type": "stream",
          "text": [
            "+----------------------------------+-----------------------+\n",
            "|playlistname                      |count(DISTINCT user_id)|\n",
            "+----------------------------------+-----------------------+\n",
            "|Starred                           |5016                   |\n",
            "|Liked from Radio                  |3125                   |\n",
            "|Favoritas de la radio             |745                    |\n",
            "|My Shazam Tracks                  |424                    |\n",
            "|Christmas                         |312                    |\n",
            "|Rock                              |202                    |\n",
            "|Chill                             |175                    |\n",
            "|Country                           |172                    |\n",
            "|Classical                         |161                    |\n",
            "|Jazz                              |154                    |\n",
            "| The Breaks Over\"\"                |145                    |\n",
            "|Daft Punk - Random Access Memories|143                    |\n",
            "|2014                              |143                    |\n",
            "|Running                           |142                    |\n",
            "|New Playlist                      |142                    |\n",
            "|2013                              |137                    |\n",
            "|Mis pistas de Shazam              |122                    |\n",
            "|Dance                             |118                    |\n",
            "|Coldplay                          |112                    |\n",
            "|Oldies                            |110                    |\n",
            "+----------------------------------+-----------------------+\n",
            "only showing top 20 rows\n",
            "\n"
          ],
          "name": "stdout"
        }
      ]
    },
    {
      "cell_type": "code",
      "metadata": {
        "colab": {
          "base_uri": "https://localhost:8080/"
        },
        "id": "gO-G8hINDL_r",
        "outputId": "5505724f-1a06-4658-9678-63fd9720039e"
      },
      "source": [
        "#top20 tracks based on number of users listening to those tracks\n",
        "ss.sql(\"SELECT trackname,COUNT(DISTINCT user_id) FROM spotify_Table GROUP BY trackname ORDER BY COUNT(DISTINCT user_id) DESC\").show(truncate=False)"
      ],
      "execution_count": null,
      "outputs": [
        {
          "output_type": "stream",
          "text": [
            "+-------------+-----------------------+\n",
            "|trackname    |count(DISTINCT user_id)|\n",
            "+-------------+-----------------------+\n",
            "|Intro        |3872                   |\n",
            "|Home         |3504                   |\n",
            "|Runaway      |2434                   |\n",
            "|Closer       |2431                   |\n",
            "|Radioactive  |2337                   |\n",
            "|Hold On      |2260                   |\n",
            "|Stay         |2198                   |\n",
            "|Alive        |2130                   |\n",
            "|Forever      |2110                   |\n",
            "|Trouble      |2072                   |\n",
            "|Heaven       |2057                   |\n",
            "|Wake Me Up   |2043                   |\n",
            "|Happy        |2027                   |\n",
            "|Crazy        |2012                   |\n",
            "|Kids         |1980                   |\n",
            "|Breathe      |1978                   |\n",
            "|Dreams       |1976                   |\n",
            "|One          |1963                   |\n",
            "|Angel        |1962                   |\n",
            "|Midnight City|1899                   |\n",
            "+-------------+-----------------------+\n",
            "only showing top 20 rows\n",
            "\n"
          ],
          "name": "stdout"
        }
      ]
    },
    {
      "cell_type": "code",
      "metadata": {
        "colab": {
          "base_uri": "https://localhost:8080/"
        },
        "id": "013DZHlPsynw",
        "outputId": "5a3e507d-b71d-44cb-b4fa-31cc9f2e405b"
      },
      "source": [
        "#Create a dataframe grouped on trackname and with columns having all unique enteries\n",
        "spotify_df = spotifydf.groupBy('trackname').agg(F.collect_set(\"user_id\").alias('user_ids'),\\\n",
        "                                                F.collect_set(\"playlistname\").alias('playlists'),\\\n",
        "                                                F.collect_set(\"artistname\").alias('artists'))\n",
        "\n",
        "spotify_df.show(5,truncate=False)"
      ],
      "execution_count": null,
      "outputs": [
        {
          "output_type": "stream",
          "text": [
            "+----------------------------------------------------------------------+----------------------------------------------------------------------------------------------------------------------------------------------------------------------------------------------------------------------------------------------+----------------------------------------------------------------------------------------------------------------------------------------------------------------------+-------------------------------------------------------------+\n",
            "|trackname                                                             |user_ids                                                                                                                                                                                                                                      |playlists                                                                                                                                                             |artists                                                      |\n",
            "+----------------------------------------------------------------------+----------------------------------------------------------------------------------------------------------------------------------------------------------------------------------------------------------------------------------------------+----------------------------------------------------------------------------------------------------------------------------------------------------------------------+-------------------------------------------------------------+\n",
            "|\"\"A Lovely Night\" (Reprise)\"                                          |[1e0f84f87f532cf5504ea26a34dc719f, a5f45cfbbc02946d574b2f5d6221f022, ee4da8928a3cb4ceb3e464bc83d64dc3, bd24cbf8c0ce1a3944430e196b007d80]                                                                                                      |[tpac 2015 - 2016, Broadway, Ben - christian, Music Theater]                                                                                                          |[Rodgers + Hammerstein's Cinderella (Original Broadway Cast)]|\n",
            "|\"\"Can't Hurt Me Now\"\"                                                 |[9143afd2386256a6a498845aa1505ef5]                                                                                                                                                                                                            |[Melodifestivalen 2015 final]                                                                                                                                         |[Jessica Andersson]                                          |\n",
            "|\"\"Growltiger's Last Stand\"\"                                           |[6b85a8076b4f3b1036ef15f09e2feeeb]                                                                                                                                                                                                            |[Generos]                                                                                                                                                             |[Stephen Hanan, Bonnie Simmons & company]                    |\n",
            "|\"\"Happy Birthday\" Variations: Polka/Valse\"                            |[5e265d84ab4b18b5e727194e4148c539, dfa418303dd1e0245b798ad9849f015a]                                                                                                                                                                          |[Bday Songs for Theo Babes, Gidon Kremer/Kremerata Baltica – Happy Birthday]                                                                                          |[Kremerata Baltica]                                          |\n",
            "|\"\"In April\" Single from Song One (Original Motion Picture Soundtrack)\"|[63efed28c367097db81094c49ec20bfb, 339a36a9c0d943a7c2a2454e234a6009, 1213285b7beb39d659f01fcae5dd61b1, 4398de6902abde3351347b048fcdc287, e775cb867fd97ce1038aeb5d4b475b78, 48da4a7b1a0ff8f0d605b6565971816b, 3b956eff6c194a97057ef3ccb5840b25]|[Anne, 2014 New Tunage, 2015 January, 2014 Favorite Songs, KCRW Music Mine Playlist 1/13/15, KCRW Music Mine Playlist 1/25/15, Library & Streams (Part 26), mountains]|[Johnny Flynn]                                               |\n",
            "+----------------------------------------------------------------------+----------------------------------------------------------------------------------------------------------------------------------------------------------------------------------------------------------------------------------------------+----------------------------------------------------------------------------------------------------------------------------------------------------------------------+-------------------------------------------------------------+\n",
            "only showing top 5 rows\n",
            "\n"
          ],
          "name": "stdout"
        }
      ]
    },
    {
      "cell_type": "code",
      "metadata": {
        "colab": {
          "base_uri": "https://localhost:8080/"
        },
        "id": "aig99QU6ulvX",
        "outputId": "3b608144-dc63-47b3-91dc-4f8e27d5ab83"
      },
      "source": [
        "#Function to create a flat list of all artists who are associated with a song. \n",
        "#Since the dataframe interprets it as a string, we need to split the enteries for single song and then groupby the song name to get all artists\n",
        "\n",
        "def listoflists(s):\n",
        "  k = s[0]\n",
        "  v = s[1].replace('[','').replace(']','').replace(\"'\",'').split(',')\n",
        "  return k,v\n",
        "\n",
        "artistdata = datadf.select('name','artists').rdd.map(tuple).map(listoflists).\\\n",
        "              toDF(['name','artists']).groupBy('name').\\\n",
        "              agg(F.collect_set('artists').alias('artist')).\\\n",
        "              withColumn(\"artist\",flatten('artist'))\n",
        "\n",
        "#join data_df and artistdata and convert duration from millisecond to minutes\n",
        "data_df_joined = data_df.join(artistdata,'name').withColumn(\"duration_ms\",col(\"duration_ms\")/60000).withColumnRenamed(\"duration_ms\",\"duration\")\n",
        "\n",
        "print('We have ' +str(data_df_joined.where(data_df_joined['duration'] <= 0.5).count()) + ' songs which are less than 30 seconds')\n",
        "print('We have ' +str(data_df_joined.where(data_df_joined['duration'] >= 60).count()) + ' songs which are more than 1 hour')\n",
        "\n",
        "#Filter out songs less than 30 secs and more than 1 hour to avoid improper scaling of data\n",
        "dataDF = data_df_joined.where((data_df_joined['duration'] >= 0.5)&(data_df_joined['duration'] <= 60))"
      ],
      "execution_count": null,
      "outputs": [
        {
          "output_type": "stream",
          "text": [
            "We have 150 songs which are less than 30 seconds\n",
            "We have 7 songs which are more than 1 hour\n"
          ],
          "name": "stdout"
        }
      ]
    },
    {
      "cell_type": "code",
      "metadata": {
        "id": "staKFtKYIwcU"
      },
      "source": [
        "#Join the spotify dataset and feature dataset based on the trackname\n",
        "joined_df = dataDF.join(spotify_df,dataDF.name==spotify_df.trackname)"
      ],
      "execution_count": null,
      "outputs": []
    },
    {
      "cell_type": "code",
      "metadata": {
        "colab": {
          "base_uri": "https://localhost:8080/"
        },
        "id": "Uki7oDw5nq5x",
        "outputId": "e5641253-3b2d-4422-bc9d-fc9ada16a1b2"
      },
      "source": [
        "print('Total number of enteries are ' + str(joined_df.count()))"
      ],
      "execution_count": null,
      "outputs": [
        {
          "output_type": "stream",
          "text": [
            "Total number of enteries are 72204\n"
          ],
          "name": "stdout"
        }
      ]
    },
    {
      "cell_type": "code",
      "metadata": {
        "colab": {
          "base_uri": "https://localhost:8080/"
        },
        "id": "VYBeYqzooglO",
        "outputId": "105214aa-b5e0-4e4b-bded-41b2100ccb73"
      },
      "source": [
        "#This is a joined dataset which contains unique songs along with associated features and list of playlists, userids and artists\n",
        "#Need to combine the two artists column and get a set of artists associated with that song\n",
        "joined_df.show(5,truncate=False)"
      ],
      "execution_count": null,
      "outputs": [
        {
          "output_type": "stream",
          "text": [
            "+--------------------------------------------+----+--------------------+------------------+-----------------+------------------+--------+-------------------+---+--------+------------------+----------+-----------+------------------+-------+----------+----------------------+--------------------------------------------+----------------------------------------------------------------------------------------------------------------------------------------------------------------------------------------------------------------------------------------------------------------------------------------------------------------------------------------------------------------------------------------------------------------------------------------------------------------------------------------------------------------------------------------------------------------------------------------------------------------------------------------------------------------------------------------------------------------------------------------------------------------------------------------------------------------------------------------------------------------------------------------------------------------------------------------------------------------------------------------------------------------------------------------------------------------------------------------------------------------------------------------------------------------------------------------------------------------------------------------------------------------------------------------------------------------------------------------------------------------------------------------------------------------------------------------------------------------------------------------------------------------------------------------------------------------------------------------------------------------------------------------------------------------------------------------------------------------------------------------------------------------------------------------------------------------------------------------------------------------------------------------------------------------------------------------------------------------------------------------------------------------------------------------------------------------------------------------------------------------------------------------------------------------------------------------------------------------------------------------------------------------------------------------------------------------------------------------------------------------------------------------------------------------------------------------------------------------------------------------------------------------------------------------------------------------------------------------------------------------------------------------------------------------------------------------------------------------------------------------------------------------------------------------------------------------------------------------------------------------------------------------------------------------------------------------------------------------------------------------------------------------------------------------------------------------------------------------------------------------------------------------------------------------------------------------------------------------------------------------------------------------------------------------------------------------------------------------------------------------------------------------------------------------------------------------------------------------------------------------------------------------------------------------------------------------------------------------------------------------------------------------------------------------------------------------------------------------------------------------------------------------------------------------------------------------------------------------------------------------------------------------------------------------------------------------------------------------------------------------------------------------------------------------------------------------------------------------------------------------------------------------------------------------------------------------------------------------------------------------------------------------------------------------------------------------------------------------------------------------------------------------------------------------------------------------------------------------------------------------------------------------------------------------------------------------------------------------------------------------------------------------------------------------------------------------------------------------------------------------------------------------------------------------------------------------------------------------------------------------------------------------------------------------------------------------------------------------------------------------------------------------------------------------------------------------------------------------------------------------------------------------------------------------------------------------------------------------------------------------------------------------------------------------------------------------------------------------------------------------------------------------------------------------------------------------------------------------------------------------------------------------------------------------------------------------------------------------------------------------------------------------------------------------------------------------------------------------------------------------------------------------------------------------------------------------------------------------------------------------------------------------------------------------------------------------------------------------------------------------------------------------------------------------------------------------------------------------------------------------------------------------------------------------------------------------------------------------------------------------------------------------------------------------------------------------------------------------------------------------------------------------------------------------------------------------------------------------------------------------------------------------------------------------------------------------------------------------------------------------------------------------------------------------------------------------------------------------------------------------------------------------------------------------------------------------------------------------------------------------------------------------------------------------------------------------------------------------------------------------------------------------------------------------------------------------------------------------------------------------------------------------------------------------------------------------------------------------------------------------------------------------------------------------------------------------------------------------------------------------------------------------------------------------------------------------------------------------------------------------------------------------------------------------------------------------------------------------------------------------------------------------------------------------------------------------------------------------------------------------------------------------------------------------------------------------------------------------------------------------------------------------------------------------------------------------------------------------------------------------------------------------------------------------------------------------------------------------------------------------------------------------------------------------------------------------------------------------------------------------------------------------------------------------------------------------------------------------------------------------------------------------------------------------------------------------------------------------------------------------------------------------------------------------------------------------------------------------------------------------------------------------------------------------------------------------------------------------------------------------------------------------------------------------------------------------------------------------------------------------------------------------------------------------------------------------------------------------------------------------------------------------------------------------------------------------+----------------------------------------------------------------------------------------------------------------------------------------------------------------------------------------------------------------------------------------------------------------------------------------------------------------------------------------------------------------------------------------------------------------------------------------------------------------------------------------------------------------------------------------------------------------------------------------------------------------------------------------------------------------------------------------------------------------------------------------------------------------------------------------------------------------------------------------------------------------------------------------------------------------------------------------------------------------------------------------------------------------------------------------------------------------------------------------------------------------------------------------------------------------------------------------------------------------------------------------------------------------------------------------------------------------------------------------------------------------------------------------------------------------------------------------------------------------------------------------------------------------------------------------------------------------------------------------------------------------------------------------------------------------------------------------------------------------------------------------------------------------------------------------------------------------------------------------------------------------------------------------------------------------------------------------------------------------------------------------------------------------------------------------------------------------------------------------------------------------------------------------------------------------------------------------------------------------------------------------------------------------------------------------------------------------------------------------------------------------------------------------------------------------------------------------------------------------------------------------------------------------------------------------------------------------------------------------------------------------------------------------------------------------------------------------------------------------------------------------------------------------------------------------------------------------------------------------------------------------------------------------------------------------------------------------------------------------------------------------------------------------------------------------------------------------------------------------------------------------------------------------------------------------------------------------------------------------------------------------------------------------------------------------------------------------------------------------------------------------------------------------------------------------------------------------------------------------------------------------------------------------------------------------------------------------------------------------------------------------------------------------------------------------------------------------------------------------------------------------------------------------------------------------------------------------------------------------------------------------------------------------------------------------------------------------------------------------------------------------------------------------------------------------------------------------------------------------------------------------------+------------------------------------------------------------------------+\n",
            "|name                                        |mode|acousticness        |danceability      |duration         |energy            |explicit|instrumentalness   |key|liveness|loudness          |popularity|speechiness|tempo             |valence|year      |artist                |trackname                                   |user_ids                                                                                                                                                                                                                                                                                                                                                                                                                                                                                                                                                                                                                                                                                                                                                                                                                                                                                                                                                                                                                                                                                                                                                                                                                                                                                                                                                                                                                                                                                                                                                                                                                                                                                                                                                                                                                                                                                                                                                                                                                                                                                                                                                                                                                                                                                                                                                                                                                                                                                                                                                                                                                                                                                                                                                                                                                                                                                                                                                                                                                                                                                                                                                                                                                                                                                                                                                                                                                                                                                                                                                                                                                                                                                                                                                                                                                                                                                                                                                                                                                                                                                                                                                                                                                                                                                                                                                                                                                                                                                                                                                                                                                                                                                                                                                                                                                                                                                                                                                                                                                                                                                                                                                                                                                                                                                                                                                                                                                                                                                                                                                                                                                                                                                                                                                                                                                                                                                                                                                                                                                                                                                                                                                                                                                                                                                                                                                                                                                                                                                                                                                                                                                                                                                                                                                                                                                                                                                                                                                                                                                                                                                                                                                                                                                                                                                                                                                                                                                                                                                                                                                                                                                                                                                                                                                                                                                                                                                                                                                                                                                                                                                                                                                                                                                                                                                                                                                                                                                                                                                                                                                                                                                                                                                                                                                                                                                                                                                                                                                                                                                                                        |playlists                                                                                                                                                                                                                                                                                                                                                                                                                                                                                                                                                                                                                                                                                                                                                                                                                                                                                                                                                                                                                                                                                                                                                                                                                                                                                                                                                                                                                                                                                                                                                                                                                                                                                                                                                                                                                                                                                                                                                                                                                                                                                                                                                                                                                                                                                                                                                                                                                                                                                                                                                                                                                                                                                                                                                                                                                                                                                                                                                                                                                                                                                                                                                                                                                                                                                                                                                                                                                                                                                                                                                                                                                                                                                                                                                                                                                                                                                                                                                                                                                                                                                                             |artists                                                                 |\n",
            "+--------------------------------------------+----+--------------------+------------------+-----------------+------------------+--------+-------------------+---+--------+------------------+----------+-----------+------------------+-------+----------+----------------------+--------------------------------------------+----------------------------------------------------------------------------------------------------------------------------------------------------------------------------------------------------------------------------------------------------------------------------------------------------------------------------------------------------------------------------------------------------------------------------------------------------------------------------------------------------------------------------------------------------------------------------------------------------------------------------------------------------------------------------------------------------------------------------------------------------------------------------------------------------------------------------------------------------------------------------------------------------------------------------------------------------------------------------------------------------------------------------------------------------------------------------------------------------------------------------------------------------------------------------------------------------------------------------------------------------------------------------------------------------------------------------------------------------------------------------------------------------------------------------------------------------------------------------------------------------------------------------------------------------------------------------------------------------------------------------------------------------------------------------------------------------------------------------------------------------------------------------------------------------------------------------------------------------------------------------------------------------------------------------------------------------------------------------------------------------------------------------------------------------------------------------------------------------------------------------------------------------------------------------------------------------------------------------------------------------------------------------------------------------------------------------------------------------------------------------------------------------------------------------------------------------------------------------------------------------------------------------------------------------------------------------------------------------------------------------------------------------------------------------------------------------------------------------------------------------------------------------------------------------------------------------------------------------------------------------------------------------------------------------------------------------------------------------------------------------------------------------------------------------------------------------------------------------------------------------------------------------------------------------------------------------------------------------------------------------------------------------------------------------------------------------------------------------------------------------------------------------------------------------------------------------------------------------------------------------------------------------------------------------------------------------------------------------------------------------------------------------------------------------------------------------------------------------------------------------------------------------------------------------------------------------------------------------------------------------------------------------------------------------------------------------------------------------------------------------------------------------------------------------------------------------------------------------------------------------------------------------------------------------------------------------------------------------------------------------------------------------------------------------------------------------------------------------------------------------------------------------------------------------------------------------------------------------------------------------------------------------------------------------------------------------------------------------------------------------------------------------------------------------------------------------------------------------------------------------------------------------------------------------------------------------------------------------------------------------------------------------------------------------------------------------------------------------------------------------------------------------------------------------------------------------------------------------------------------------------------------------------------------------------------------------------------------------------------------------------------------------------------------------------------------------------------------------------------------------------------------------------------------------------------------------------------------------------------------------------------------------------------------------------------------------------------------------------------------------------------------------------------------------------------------------------------------------------------------------------------------------------------------------------------------------------------------------------------------------------------------------------------------------------------------------------------------------------------------------------------------------------------------------------------------------------------------------------------------------------------------------------------------------------------------------------------------------------------------------------------------------------------------------------------------------------------------------------------------------------------------------------------------------------------------------------------------------------------------------------------------------------------------------------------------------------------------------------------------------------------------------------------------------------------------------------------------------------------------------------------------------------------------------------------------------------------------------------------------------------------------------------------------------------------------------------------------------------------------------------------------------------------------------------------------------------------------------------------------------------------------------------------------------------------------------------------------------------------------------------------------------------------------------------------------------------------------------------------------------------------------------------------------------------------------------------------------------------------------------------------------------------------------------------------------------------------------------------------------------------------------------------------------------------------------------------------------------------------------------------------------------------------------------------------------------------------------------------------------------------------------------------------------------------------------------------------------------------------------------------------------------------------------------------------------------------------------------------------------------------------------------------------------------------------------------------------------------------------------------------------------------------------------------------------------------------------------------------------------------------------------------------------------------------------------------------------------------------------------------------------------------------------------------------------------------------------------------------------------------------------------------------------------------------------------------------------------------------------------------------------------------------------------------------------------------------------------------------------------------------------------------------------------------------------------------------------------------------------------------------------------------------------------------------------+----------------------------------------------------------------------------------------------------------------------------------------------------------------------------------------------------------------------------------------------------------------------------------------------------------------------------------------------------------------------------------------------------------------------------------------------------------------------------------------------------------------------------------------------------------------------------------------------------------------------------------------------------------------------------------------------------------------------------------------------------------------------------------------------------------------------------------------------------------------------------------------------------------------------------------------------------------------------------------------------------------------------------------------------------------------------------------------------------------------------------------------------------------------------------------------------------------------------------------------------------------------------------------------------------------------------------------------------------------------------------------------------------------------------------------------------------------------------------------------------------------------------------------------------------------------------------------------------------------------------------------------------------------------------------------------------------------------------------------------------------------------------------------------------------------------------------------------------------------------------------------------------------------------------------------------------------------------------------------------------------------------------------------------------------------------------------------------------------------------------------------------------------------------------------------------------------------------------------------------------------------------------------------------------------------------------------------------------------------------------------------------------------------------------------------------------------------------------------------------------------------------------------------------------------------------------------------------------------------------------------------------------------------------------------------------------------------------------------------------------------------------------------------------------------------------------------------------------------------------------------------------------------------------------------------------------------------------------------------------------------------------------------------------------------------------------------------------------------------------------------------------------------------------------------------------------------------------------------------------------------------------------------------------------------------------------------------------------------------------------------------------------------------------------------------------------------------------------------------------------------------------------------------------------------------------------------------------------------------------------------------------------------------------------------------------------------------------------------------------------------------------------------------------------------------------------------------------------------------------------------------------------------------------------------------------------------------------------------------------------------------------------------------------------------------------------------------------------------------------------+------------------------------------------------------------------------+\n",
            "|'75 aka Stay With You                       |1   |0.0307              |0.7120000000000001|6.191783333333333|0.8270000000000001|0       |0.795              |1  |0.122   |-7.331            |51.0      |0.0414     |126.001           |0.305  |2005-01-01|[Lemon Jelly]         |'75 aka Stay With You                       |[17c3906bdda34fef83ade03c59a8de73, 1492005fc80d9da35c8a4a4dbdf93e7f, ee72596274442315fee63dd6d43bbce2, 17517bd28007df7ab2d1f1ffcc270f23]                                                                                                                                                                                                                                                                                                                                                                                                                                                                                                                                                                                                                                                                                                                                                                                                                                                                                                                                                                                                                                                                                                                                                                                                                                                                                                                                                                                                                                                                                                                                                                                                                                                                                                                                                                                                                                                                                                                                                                                                                                                                                                                                                                                                                                                                                                                                                                                                                                                                                                                                                                                                                                                                                                                                                                                                                                                                                                                                                                                                                                                                                                                                                                                                                                                                                                                                                                                                                                                                                                                                                                                                                                                                                                                                                                                                                                                                                                                                                                                                                                                                                                                                                                                                                                                                                                                                                                                                                                                                                                                                                                                                                                                                                                                                                                                                                                                                                                                                                                                                                                                                                                                                                                                                                                                                                                                                                                                                                                                                                                                                                                                                                                                                                                                                                                                                                                                                                                                                                                                                                                                                                                                                                                                                                                                                                                                                                                                                                                                                                                                                                                                                                                                                                                                                                                                                                                                                                                                                                                                                                                                                                                                                                                                                                                                                                                                                                                                                                                                                                                                                                                                                                                                                                                                                                                                                                                                                                                                                                                                                                                                                                                                                                                                                                                                                                                                                                                                                                                                                                                                                                                                                                                                                                                                                                                                                                                                                                                                        |[DeDuped, Working out, iPad Playlist, Hippy, Lemon Jelly, Just a thought, Purchased 1, On-The-Go 1]                                                                                                                                                                                                                                                                                                                                                                                                                                                                                                                                                                                                                                                                                                                                                                                                                                                                                                                                                                                                                                                                                                                                                                                                                                                                                                                                                                                                                                                                                                                                                                                                                                                                                                                                                                                                                                                                                                                                                                                                                                                                                                                                                                                                                                                                                                                                                                                                                                                                                                                                                                                                                                                                                                                                                                                                                                                                                                                                                                                                                                                                                                                                                                                                                                                                                                                                                                                                                                                                                                                                                                                                                                                                                                                                                                                                                                                                                                                                                                                                                   |[Lemon Jelly]                                                           |\n",
            "|(I Can't Get No) Satisfaction - Mono Version|1   |0.018509750000000002|0.72725           |3.7145           |0.84775           |0       |0.09457499999999999|2  |0.1422  |-8.341999999999999|47.5      |0.0421     |135.93425         |0.88875|1966-01-01|[The Rolling Stones]  |(I Can't Get No) Satisfaction - Mono Version|[e2308ee83730c9d950a6d2762169fb97, 3de3df940637d8faf9021dac810d3744, db2292c21310071d8c488e6112d38b16, 608e07a06084210c34f3321b4e568780, cddd0a1908ac0b8c8dbe77a35ad7084a, 13e999f0fe9591bcf4f4eea2379b9a61, 080ec72ac2874fcfac9b5e73db083b51, 923c7ff3ade0af8f4a32d43720d17620, 05422749e89268463444e00ddea1faf1, 1a4a2cd2f221a1d352fc8bb9d5832891, d38b0e3718571a6594275b30c3eee728, 8e70713d67b956631d8749d3b14219a5, 17d3218f5c65d85bc8ea3ff06bc7c65c, 6f33405a345af4196ae5534ed4b04ca0, 24b681215493a2de518c4e7a98ffcbaa, ee72596274442315fee63dd6d43bbce2, 094cd2c1de68cf6dd9b5bca45c9a33ed, 2628df34881728b239f5fd36490c7f5c, 7ffae624f8f096dd429b1f7e78efb32b, 169f99540ced55f034bf3fdecf16fd42, df0e586d06ff2d386e32159a4ed9e385, 3520e05ff9427e2f04e640eb176846e6, 1f34dc0b6716615271fbded52f53ed77, 0fab78957b05bb156c96454899a9439f, 09a7b636064d4f2db5c1fa74b16d8ae5, df6d7a3aa454cea42bd4213b3828d0e8, d504c61821d9602fd5a5658a878b6a8c, e7d6d80f513ea9d4955e8d80d66bbdfa, dd38383db7cbf8d4814c70c0784d1081, b4b6dcfb7c750eb394a787a7a6d95153, f6d976d63c646df2b3ba185a374258bc, 471eb5ca25761d4d041cd8779a76960c, c2d2fed26e858f82fdd8ac2e791cab1f, 8537c2650019bcbc8ccd5e19331de3fb, 65fdf0ad01992a87a2ddcc33f511ff00, 932d18ffe570c999355cd5d7627ed375, 016a8eb7c9e5f511bd3749552ab19e56, 01957b56d1ffbbe29f527f0334930d4e, d0b243d3e32a6b0b905bef09eeeefdf8, 4a6c7b5a240278e8ad5b59d1e8c90761, 85cfa7514539b45a367b49e13869af20, f995dde60de26b8116554184ef9603d0, 0f82fb0ae296c3f1618a79a451967f1a, b727a15313d096f700052354720a92c7, 6c1e023949693fc83735efb6c7988f45, 80ac5d846414f6af7bbef2c5f170cd09, 25086dd9a3566a5c4479f2a48ddfda71, a5606dd3456b35e0874f775107f36e0d, f488caaa471ee52a0a090fd69e571741, 71eedcf69ebd1c64103699a9be750b04, c411684f86b76734deeb3739bb3ba8f7, 0817c289b394a7e826cdfaa7b5445b65, 6a8c2124f30ae9026462733c4c4f5925, ee4c2080a04f5bba5176ce0bdd927f14, 36c7085f880000436c6f67c1e65737a7, 43de164bfc3c7c472902a19cb2874908, 5fbad477896dd5f78885c2057bd4e696, 662af94748b84583bfe9e1fc322877c6, d540542f3f0a2f6ab74b9a458a3d999f, 67b095ad8a1c67cce2b503d07e7b8fd6, 014e695cc6df96011b90a5beb3206012, 4131bf462bb771b9f2913fb41e4d4736, 42f5289bfa83726edd652392ea09984a, 752283fa76cc65ce1bdb6d88da086be8, 5c21a05141cd4cd56f202c368dec1e92, a0021b55eb8daf3f24eb323c1f1cac66, 479f25792f741c4fc0b1c664f3f0ab7a, 4e3e85f11e4fcbec2412805981ba97b8, 1ac6b7186c9cb74eb11d17ee624c32ff, 285b7d2042905443e0e12bb78515ce78, 17b578fd9481e122ec055027ca016238, 8273791852d0ddde002895d31bd8033c, 93aa892d8c68a46a683d0b76a485fff3, 139c408e52a497aac29753125d65b0ae, 9c62bd5f7ce5923282f8e7c8dc9dc052, c9fc14fa732d07ad587fd606e1b71aea, fac4dfbf705359708f9394d05c3bad33, f7ff25c64fb150549e22bb4c9abf7e0b, 0e8a2028b0ca919a288924dea8719973, d555d882a4e3282802034fa7628f294e, ca66c0dba50b8b2269c560a592cd5d44, 0094bb6a43cc8def50d85335f9edcb79, 036b482a22973185444fffb736d602e2, 887366963f90f6f7f6758aafec104a02, f7fd975316a5176068fd348ff6278666, 45b9a3571be8865530bdca602d249464, feb84e7ac1f5a60963d40a0d4b6d8ad8, 8899edd80d24c0ac702dcb9c43ebde22, 6f4c71189b8de167f505a920e26d5a90, 5118ca628dda8b7c33b7eb7931e5a73f, 6a70dc170abd576171d74f1e63b4c903, 07b96fd8b8a7b6367a93598169f97a85, 097ea65e0ab962d31230169076505184, 16a796d6041b34982b0e9b33e4ebff6b, 948e5f01952c1c9f9df84b9ba08dc79e, 1d15535e5807a132d195035587989e45, f8630a13b84a0c9a552927afd14f8d43, ab601af74ab0196de74adb6008ade1dd, 0e302b5f309ac2bdd003cf71e8919fbf, fad0273bf37f80d4774d57c9f909d4af, f6b5cc40aac6f1b76d12d1b9bfbad06f, eb1e2fe0a4eb2c5d04a6dfaa5a1a3033, dc6c71df374e55822dbe1547c4ea8206, a25dda23b41d7d068419ba7825575b8c, 32b524ed367b1e5a714228fbec80849d, e78709067b8c3a5ea83a29b62fb4ef91, 68756b4d60b6fac27789e85c2b63d1c6, 470b0f08fd0c795527c6d2d3c9d79023, 9bb069b97a8d4fd0f3dbb704ec8fe843, 483e2b0776f7c293881212968756f394, a21d5388639329b7d5865521ca96ea1b, 007cab633671b7475e317587ebb31d8c, 07f59174d771eb0d5006b0c5ee855f4e, 479b628d65e913dd390e47d698a79295, 2b0e89bffd233758536bbbeb3840ac20, f3d1a771b178910b0372e0359e6d7083, c6487390a4d8ca273d93ca811648dbeb, 65c3f67f6cde406ffb261bbff874a3a7, 37d0fa9196970f901c6c2106ecd28c93, ca4308af4e07f63ef20969e7aa95f8bd, d517db2b3f61ed99032b34441b8fbea8, 14c19a3b5dfc1e78cfbcfb446fbe8632, 8d534bb9b880f7a41dcf499cc28720d0, b60af45d21859a8f9fe65caa95628e28, 38e4b4274a59884e9b163755aac7a191, 7ee2b92c5bcf6133b8132363e5bda960, 7e52a845c8e213749ba06236944804e3, 9ca6be8f20deb46c1683c36ec7d1c0c0, 7d06c5ed75906453c3d79223aaed7a91, 8682c03a02adb9072ca7b9cdbf232bb7, 3ef6ca07e4a4445016156e1846bf46de, 0e1ec67c3d7e7e37c2a9effeaf6c378a, 7eda304b859fd2822c06015d30663b59, fdaa36b2af00504f6b77c05826a271c0, 2dc487267656213155d485f1b4017325, f3989a363200baa095fdd5457a7db3fb, 7699acb2111f22b80211750fbba36fbc, 5ee2963f40da3699173be8f34fdf242f, bc781946c8698232dcb84790c34a7e56, 827a25328a6838cfe2293f2da6935dda, 84ea812556fe862a57b012b50e4c2e1c, 7ebea16420d094da7f635ad5512977fa, 9ecbbafe05e7c74298282930cc8ca102, e33f0c4ea274ca137af82d9040033a1e, a04ad79c61b4f748c11c57dbdd7c35d1, 211aba7c4b9f7f3eeec007316d4ff52b, 3196442b472af9bbb51e1628ca3c188a, cb077345a084a99cc37ab0ecfd86c34c, 48c1328bb3c64c5c270fdab9c1a39c9e, 084a033ec7d0397afbb7c42d0fc2117c, 1e96cede11e5bc520c9993f1a079756d, 235af84f0039ee849ae8e9059741cc2d, 156fd148c44f2bce755b09bf95985ee8, 4031e7daf820a32b471329968831560c, d5da0984947338aa73649c97da7d0fe6, 4dd211f6d18ebef8a170cd84bcdef8ec, 2f297520d23c27c5a1f549ebbfceb517, bdf0d13fc90c6122f5753662d838c6eb, 1d178f45f11578f1f1568ad4ba2b9552, 36e68b4dc64360b8590901dd8d5f2451, 28848a0dd73195aee92dd2aac49b85a0, 042e14a38f5254aad4fc9b0f9e1f9376, e020a7170411209f4f357b6c7c659800, 61980bffadcd011669919a20ec42ea89, fbea46c7a6d8a8d673b059c5d71b3c29, c8018ea109b5f806d01b50e9b8a4fd31, 8ca4798c43f8382960d52a0867a51925, d8a30c6826f861a300bbd83544711e8e, 70e4277376547ba0c5a5594968dd9df5, 78bf71f2bb5c828aad3a050047586dee, 761e82fdf3ae3999f185632a6ef6775c, 6c8f1823b67a1656cbc28c2fcc1a7fb6, 64f6735541f574296c4075ed6f804254, 6d1a624887174802acced40c2cad4f2e, 3f549a3050b5c03d5dd112f2b54aec60, 9d9d487bc48542d37a488e438e39821c, 0fa63ff977a1298e87e456aea5c47ff7, 71a129431e112cb4d6a51f5f3d64b265, 89759de28ebbdbda875e3333cbcf078c, 7828c8c38a51637339cdb965dc1acc1b, 91bbb8ec272f400d370f52db425a6fc2, aa3c26648db966d94059dca56e592c64, e64f48b6873a8dd3cce77a43ac3f0dd1, 9906f7a13e65fd7edd7892102d63ece3, 8a34eb9b95a80216e05804467ded3eb1, dc22b0897ce2674dffd4e6b4fab314ad, 33f017b6a8430af2dc5e02b98a0fdbe7, 70be0150d6a3c263a28e2b791c98c56f, 7ca16720c3006383878a19ee7d4e061e, b09385449a725763f3d25aa65be95daa, 4a6a3dd3319cc2c0e5ae15fe06446d0e, 497795e8fe69c901f460ed05c9d5dfe0, 6a3802a41fc88e4b5517d0c5485b6818, 00be8fa9d10f6318156fa753857597cf, 8b604df97432544b8788112f36bc2f07, eddac86c675a1dade0ad770835b0abd8, 59cef25640211fd1eae154a615d97374, dc7023dff6006fbda30a9722fe5fdc2e, 5f3c528d27d67a9fc9cc3a4dc75dce4a, 4742f23bf33e0db4a287f10f80cf1aa3, fccf4fe64593304bc46b6e0a1ace91b7, ce7eab9cbb66a49a8b71c751458e8663, 624d08a5520b9ef3d98f61e63477e2d9, 87945fe2a6ff403809064e79b92ed9aa, b03fbf6a9a927767c37f4566a23f6db4, 3ee9953f85f9dbd131ffd064354b5002, ed85ecf19a57b7dcbf8673451eea5c51, a862c58a86321fa9445ab239bfe306f9, db966c49073cc6094ce252951ec9418d, 5020b69b2434acf541d854e8e8e1ae4b, b332f11f6fa4e468d9826db3734bd9e3, 2b3434e8ada0ee6cd9a85b032a7994dd, c126e3612077c80a3dcf496c882533f1, a0adbf695329edcaaa2add16b2f4b8bb, fa849dabeb14a2800ad5130907fc5018, 7f19c7be591295149e78275bf905b2ef, 2148fcff653b805ff9d66e4ceecdeeac, 5feb28f84903187157c34a54b5d241d4, 3606c6d7e6c91faba6b10fe5804d7d02, 8e15cf066b0218e0613c6277bdbff5f2, 7f8901607e1be3c2e131199c480c3871, 56a25e8c5bae96b031d11cb4a38eed38, c58f54367b9f947ceff6e8cfa426346c, 691a1f0207cf3c4c1e6cb8ea804bb713, f1d8257e1ab3cf18ef047490fbf5ac54, d016d39826ae8ee018f541a3ae097e75, b8482ce173e577567a656f007aebabef, 8bc614867c796992a6e8f989a090d0a3, 942df7097753710c9d7a048163ed5523, 25ab79e930c4c356895e66752afff1db, a269d6d18b4a2278e109c77984d5d69a, f09dcdcc75ff05240d038f087c361e91, 7e233fe91e92c7b5f583ff6c60b08996, 9e23437d927a9c47bdbc1b2996b76000, 0b1c807509f73d44cbfd23bc012e085c, f63cfc40bf823a5f59814e4dc327ddab, 832d05dcb4b2284b389747c864b490cc, f90350d19966731831f493e7e99228c0, d99fbc2856c8c5de24167d05e80ee088, 812171731b24d7f184ac727a1bb7c488, 9e5b775f0e1a951cafa87f270833b4fa, 760c692b306114960773c74b99a6e4ac, 0e34052048fa61c5d1e235992a6b57f5, ae7ff3b06481888a4245681f0d646741, 479b70f0fa04f20af57002cc34b025f0, 74d4033ef9db9f711816c3a7981513f2, 5356a8142a48615e48149af0b56895ea, 9993284db21fd28c8930c195f9e08f41, 38d7a6ad064f793909652ae485719410, 267627049679d295a50c5819a451fc81, 49b04efd7b419f3e30b3bbe6aed9ba51, 2583ba7bbdc32a51b3596a714a356514, cad90a18d3475287eccbfa92b477761e, a1d5305dd126e0aafa72c435fe5cc946, 3bb2a66276b5e77e0963ab2754c09d29, c8d8a7b5590bf08bb351757686304152]|[bra(k)skit/minnen, Playlist éclectique, rock, Top 500, Rock Anthems, Lista Moti, London & Manchester, Classic Rock, La Bombonera(Electro-Latino & Pachanga Summer' 2015), Rollinga, Formal friday, ., De lo bueno lo mejor, de lo mejor, lo superior, La Bombonera(Tino's Y Valpa), ROLLING STONES, Rolling Stone's 100 Greatest Guitarists of All Time 2, cocomoti, Cenita, 2010 - 2014, Best of Ymse, Mezclado, Chillax, Nats 30th, Temas2012, Anna, Summer 2012, variadas en ingles, Retro, Library 4, 1, Night Fever by Harri, skiing sing a long, M80, recopilaciones, The Classics- 90s and early, Noches largas de café y apuntes  ✏, Blandat godis, Lista 1, tormarod, new in, Rock 2, Tailgate Party, guitah, Spotify, various, Los 60 y 70, Summer Break (Spotify), old skool, La Bombonera(Electro-Latino & Pachanga Spring' 2015), Tobias Bende's playlist, SAUSAGEFEST 2010, Greattest Hits, Good shit! / A, arnau 2010, de tot, 60's, 9PM [Till I Come], ::.: rockakola, rolling stones 23, hip hop, guateque de los 80 ingles, The Rolling Stones — The Rolling Stones Singles Collection * The London Years, nova tunes ...., Covers & More Covers, Goodmood, Oldies (Combined), My Favorites, OPQRSTU, Spakolemos House Mix, Stones, Rolling Stones, coche, summer, Vinyl Deep Cuts, Rock, VOGUE ((Granada)), stuff, clasicos del rock, Bitches on my dick, 30 årsfest, Mix,  Rock 70,80,90, ingles, Paula Camps, Oldies, running, Spakolemos, Råckenråll, lolesgr, Roller Disco Derby, Good shit, Influences, classics70's/80's, The Rolling Stones - Out Of Our Heads, Sultans Of Swing, ROLLINGS, ETZI, Old is cool 70's e 80's Rock, Borsalino, rolling, Classics, Rob, Next Up,  versiones, The Rolling stones, My stuff nin part, Pool party 7.4.14 , 170514, DeDuped, rock - shuffle to use, Dads, Oldies But Goldies, 2012 SOUNDTRACK, Cool Vibes, Riffs para no parar, varios, Acceptable in the 80s, Mias Rock ingles Oldies, rock fm, Mine, Classic Rock 70'S 80'S & 90'S, la lista de mi vida, Pool Party, Top 100 Guitar RS, Sonia :), GLOBALE - De tout, 60s Jukebox, Bob Dylan – Modern Times, Mejores canciones segun rolling stones, MÚSICA, Otherside [Mix Cut] - 2012 Official Mix, If I did a club night, it might sound a little something like this., de buen rollete, Old School Rock, pop divas, Classic, KCRW Music Mine Playlist 7/20/12, Soy underground y moderna de mierda, WORLD ROCK, 1960's Flashback, Tunes, Songs of the century, 🎅, throwbacks, Zeta 4 you, Multiple personality playlist#2, Sticky Lips early repertoire, Coffee and Cigarettes, Subidon para all publics, Doors radio, Rolling stones, Classic Rock <3, Rock & Gol - Rock FM, Rock & Metal head, Songs to Drive, 60s, kiss/m80, ski apartment 2014, Rock Style, Internacional, härligmusik., 60er,70er,80er, tontcho´s ROCK`N ROLL/GARAGE Hits #1, LIVING FOR MUSIC, kiss, Originals, Rolling stones all the hits, Anglo, Legends, 50's60's, Rock Masters, ¡Rock, Rock, Rock!, Lista_Variado, JB, Sånt som faller mig i smaken nu, Rock'N'Rolla, !Rawk, V-ROCK!, Lite hårdare musik..., 70's mix, Men, Pauer's, Oldies But Goodies, prov åk 8, HIPPY SUMMER BEBE, The Rolling Stones, PV , Liked from Radio, The Rolling Stones – Singles Collection: The London Years, Musica Eva Vida, Alt/Indie/Rock, Nueva lista de reproducción 2, Mixed best ofs, Classic Rock Your Face, Gran Reserva Internacional, Mis favoritos , Temones, Rock, Hårdrock, Country , Rolling Stone's 100 Greatest Guitarists of All Time, Rock'n roll, Who Are You, @jhojhocraazy, Cris - Clásicos Rock, CLASSICS, The Somebody's, Starred, FAVORITISIMAS, PR Jams, Poolside playlist, London Calling, The Rolling Stones – Hot Rocks 1964-1971, Rock'n'roll, Sooo last year or older, exitos 80 y 90, 60 al poder, 10.000 sounds of metal, rock and hard rock, Covers, Capital Gold Top 900, cool, weekendlist: published earlier in this list, Vinyl Second Cuts, lo mejor de los 80·s, pues, the best, The British Invasion - English Culture, Rock y Heavy Metal, JB - The past, Sixties diverse, dance, 60s70s]|[The Rolling Stones]                                                    |\n",
            "|(I'd Choose) You Again                      |1   |0.491               |0.517             |3.316            |0.267             |0       |5.45E-6            |5  |0.125   |-16.078           |32.0      |0.0319     |129.825           |0.394  |1987-01-01|[The Forester Sisters]|(I'd Choose) You Again                      |[a4cc8e1b3ad661089420e49796066691, e917ead978acc0533a5107c7dd0af935]                                                                                                                                                                                                                                                                                                                                                                                                                                                                                                                                                                                                                                                                                                                                                                                                                                                                                                                                                                                                                                                                                                                                                                                                                                                                                                                                                                                                                                                                                                                                                                                                                                                                                                                                                                                                                                                                                                                                                                                                                                                                                                                                                                                                                                                                                                                                                                                                                                                                                                                                                                                                                                                                                                                                                                                                                                                                                                                                                                                                                                                                                                                                                                                                                                                                                                                                                                                                                                                                                                                                                                                                                                                                                                                                                                                                                                                                                                                                                                                                                                                                                                                                                                                                                                                                                                                                                                                                                                                                                                                                                                                                                                                                                                                                                                                                                                                                                                                                                                                                                                                                                                                                                                                                                                                                                                                                                                                                                                                                                                                                                                                                                                                                                                                                                                                                                                                                                                                                                                                                                                                                                                                                                                                                                                                                                                                                                                                                                                                                                                                                                                                                                                                                                                                                                                                                                                                                                                                                                                                                                                                                                                                                                                                                                                                                                                                                                                                                                                                                                                                                                                                                                                                                                                                                                                                                                                                                                                                                                                                                                                                                                                                                                                                                                                                                                                                                                                                                                                                                                                                                                                                                                                                                                                                                                                                                                                                                                                                                                                                            |[Rhino Hi-Five, Old country Music 60's, 70's 80's]                                                                                                                                                                                                                                                                                                                                                                                                                                                                                                                                                                                                                                                                                                                                                                                                                                                                                                                                                                                                                                                                                                                                                                                                                                                                                                                                                                                                                                                                                                                                                                                                                                                                                                                                                                                                                                                                                                                                                                                                                                                                                                                                                                                                                                                                                                                                                                                                                                                                                                                                                                                                                                                                                                                                                                                                                                                                                                                                                                                                                                                                                                                                                                                                                                                                                                                                                                                                                                                                                                                                                                                                                                                                                                                                                                                                                                                                                                                                                                                                                                                                    |[The Forester Sisters]                                                  |\n",
            "|2-Tone Army                                 |1   |0.0111              |0.648             |3.326            |0.93              |0       |0.00861            |7  |0.239   |-6.005            |42.0      |0.0466     |165.78599999999997|0.963  |1996-01-01|[The Toasters]        |2-Tone Army                                 |[dfc453d06e9ed75e342c0106c73c8df2, d2298ccb03607d1dff71c76436dca222, cf87cc340888564f82dbf75d30f1befd, 2bd1ceb91e9537c9ce296551effaec81, 76604238bf5d221de438f8c8f85174ba, 4eb20b940d44d4d3197d3235a4034215, 3f30047abd0b82240c0861a63e07255a, f5ec55c26078717908650417cd90b78b, b909619a4095373c8b9ab6c32ae80caf, 54887c596086ede9107968b66ae95244, 57984127760287097ed301000081d42f, 4f599038a4e343d6a7c9f34fc0c03801]                                                                                                                                                                                                                                                                                                                                                                                                                                                                                                                                                                                                                                                                                                                                                                                                                                                                                                                                                                                                                                                                                                                                                                                                                                                                                                                                                                                                                                                                                                                                                                                                                                                                                                                                                                                                                                                                                                                                                                                                                                                                                                                                                                                                                                                                                                                                                                                                                                                                                                                                                                                                                                                                                                                                                                                                                                                                                                                                                                                                                                                                                                                                                                                                                                                                                                                                                                                                                                                                                                                                                                                                                                                                                                                                                                                                                                                                                                                                                                                                                                                                                                                                                                                                                                                                                                                                                                                                                                                                                                                                                                                                                                                                                                                                                                                                                                                                                                                                                                                                                                                                                                                                                                                                                                                                                                                                                                                                                                                                                                                                                                                                                                                                                                                                                                                                                                                                                                                                                                                                                                                                                                                                                                                                                                                                                                                                                                                                                                                                                                                                                                                                                                                                                                                                                                                                                                                                                                                                                                                                                                                                                                                                                                                                                                                                                                                                                                                                                                                                                                                                                                                                                                                                                                                                                                                                                                                                                                                                                                                                                                                                                                                                                                                                                                                                                                                                                                                                                                                                                                                                                                                                                                        |[Ska mostly, Reggae i Ska, Starred, Favorite Ska, Music Dump, The Prequels Setlist, punk, SKA, aup, Bands I've Seen Live, ∞tracks, Berra Baiona, Halloween 2013 Additions, Viña Rock 2012]                                                                                                                                                                                                                                                                                                                                                                                                                                                                                                                                                                                                                                                                                                                                                                                                                                                                                                                                                                                                                                                                                                                                                                                                                                                                                                                                                                                                                                                                                                                                                                                                                                                                                                                                                                                                                                                                                                                                                                                                                                                                                                                                                                                                                                                                                                                                                                                                                                                                                                                                                                                                                                                                                                                                                                                                                                                                                                                                                                                                                                                                                                                                                                                                                                                                                                                                                                                                                                                                                                                                                                                                                                                                                                                                                                                                                                                                                                                            |[The Toasters]                                                          |\n",
            "|A Change Of Heart                           |1   |0.211               |0.74              |4.730666666666667|0.51              |1       |0.00951            |5  |0.0825  |-7.477            |56.0      |0.0242     |105.013           |0.528  |2016-01-01|[The 1975]            |A Change Of Heart                           |[460e8c3e712049ddf2363acb448142a8, 3196442b472af9bbb51e1628ca3c188a, ce99f6abc665f1d94ab8a899e4e3f44a, b77d5938d008b095fbc5d4afe4c11f68, 129d2e9bb4a5327c26426927640c022e, 3c4d9cf0d5c2e3d8b0595da950bfecfd, c637591c689a705a23ab5b922748e076, e2d888e31b6a9bfab8751de0e4ab9cd7]                                                                                                                                                                                                                                                                                                                                                                                                                                                                                                                                                                                                                                                                                                                                                                                                                                                                                                                                                                                                                                                                                                                                                                                                                                                                                                                                                                                                                                                                                                                                                                                                                                                                                                                                                                                                                                                                                                                                                                                                                                                                                                                                                                                                                                                                                                                                                                                                                                                                                                                                                                                                                                                                                                                                                                                                                                                                                                                                                                                                                                                                                                                                                                                                                                                                                                                                                                                                                                                                                                                                                                                                                                                                                                                                                                                                                                                                                                                                                                                                                                                                                                                                                                                                                                                                                                                                                                                                                                                                                                                                                                                                                                                                                                                                                                                                                                                                                                                                                                                                                                                                                                                                                                                                                                                                                                                                                                                                                                                                                                                                                                                                                                                                                                                                                                                                                                                                                                                                                                                                                                                                                                                                                                                                                                                                                                                                                                                                                                                                                                                                                                                                                                                                                                                                                                                                                                                                                                                                                                                                                                                                                                                                                                                                                                                                                                                                                                                                                                                                                                                                                                                                                                                                                                                                                                                                                                                                                                                                                                                                                                                                                                                                                                                                                                                                                                                                                                                                                                                                                                                                                                                                                                                                                                                                                                                |[Estas si que si., Indie-lo-fi-lectro-math-popsicle, Pids music, Starred, Jazz, ABCDEFG, -'00s, Random, Last.fm Recommendations]                                                                                                                                                                                                                                                                                                                                                                                                                                                                                                                                                                                                                                                                                                                                                                                                                                                                                                                                                                                                                                                                                                                                                                                                                                                                                                                                                                                                                                                                                                                                                                                                                                                                                                                                                                                                                                                                                                                                                                                                                                                                                                                                                                                                                                                                                                                                                                                                                                                                                                                                                                                                                                                                                                                                                                                                                                                                                                                                                                                                                                                                                                                                                                                                                                                                                                                                                                                                                                                                                                                                                                                                                                                                                                                                                                                                                                                                                                                                                                                      |[Tall Ships, Bernard Butler, David Sanborn, 7 Worlds Collide, Meon Pooj]|\n",
            "+--------------------------------------------+----+--------------------+------------------+-----------------+------------------+--------+-------------------+---+--------+------------------+----------+-----------+------------------+-------+----------+----------------------+--------------------------------------------+----------------------------------------------------------------------------------------------------------------------------------------------------------------------------------------------------------------------------------------------------------------------------------------------------------------------------------------------------------------------------------------------------------------------------------------------------------------------------------------------------------------------------------------------------------------------------------------------------------------------------------------------------------------------------------------------------------------------------------------------------------------------------------------------------------------------------------------------------------------------------------------------------------------------------------------------------------------------------------------------------------------------------------------------------------------------------------------------------------------------------------------------------------------------------------------------------------------------------------------------------------------------------------------------------------------------------------------------------------------------------------------------------------------------------------------------------------------------------------------------------------------------------------------------------------------------------------------------------------------------------------------------------------------------------------------------------------------------------------------------------------------------------------------------------------------------------------------------------------------------------------------------------------------------------------------------------------------------------------------------------------------------------------------------------------------------------------------------------------------------------------------------------------------------------------------------------------------------------------------------------------------------------------------------------------------------------------------------------------------------------------------------------------------------------------------------------------------------------------------------------------------------------------------------------------------------------------------------------------------------------------------------------------------------------------------------------------------------------------------------------------------------------------------------------------------------------------------------------------------------------------------------------------------------------------------------------------------------------------------------------------------------------------------------------------------------------------------------------------------------------------------------------------------------------------------------------------------------------------------------------------------------------------------------------------------------------------------------------------------------------------------------------------------------------------------------------------------------------------------------------------------------------------------------------------------------------------------------------------------------------------------------------------------------------------------------------------------------------------------------------------------------------------------------------------------------------------------------------------------------------------------------------------------------------------------------------------------------------------------------------------------------------------------------------------------------------------------------------------------------------------------------------------------------------------------------------------------------------------------------------------------------------------------------------------------------------------------------------------------------------------------------------------------------------------------------------------------------------------------------------------------------------------------------------------------------------------------------------------------------------------------------------------------------------------------------------------------------------------------------------------------------------------------------------------------------------------------------------------------------------------------------------------------------------------------------------------------------------------------------------------------------------------------------------------------------------------------------------------------------------------------------------------------------------------------------------------------------------------------------------------------------------------------------------------------------------------------------------------------------------------------------------------------------------------------------------------------------------------------------------------------------------------------------------------------------------------------------------------------------------------------------------------------------------------------------------------------------------------------------------------------------------------------------------------------------------------------------------------------------------------------------------------------------------------------------------------------------------------------------------------------------------------------------------------------------------------------------------------------------------------------------------------------------------------------------------------------------------------------------------------------------------------------------------------------------------------------------------------------------------------------------------------------------------------------------------------------------------------------------------------------------------------------------------------------------------------------------------------------------------------------------------------------------------------------------------------------------------------------------------------------------------------------------------------------------------------------------------------------------------------------------------------------------------------------------------------------------------------------------------------------------------------------------------------------------------------------------------------------------------------------------------------------------------------------------------------------------------------------------------------------------------------------------------------------------------------------------------------------------------------------------------------------------------------------------------------------------------------------------------------------------------------------------------------------------------------------------------------------------------------------------------------------------------------------------------------------------------------------------------------------------------------------------------------------------------------------------------------------------------------------------------------------------------------------------------------------------------------------------------------------------------------------------------------------------------------------------------------------------------------------------------------------------------------------------------------------------------------------------------------------------------------------------------------------------------------------------------------------------------------------------------------------------------------------------------------------------------------------------------------------------------------------------------------------------------------------------------------------------------------------------------------------------------------------------------------------------------------------------------------------------------------------------------------------------------------------------------------------------------------------------------------------------------------------------------------------------------------------------------------------------------------------------------------------+----------------------------------------------------------------------------------------------------------------------------------------------------------------------------------------------------------------------------------------------------------------------------------------------------------------------------------------------------------------------------------------------------------------------------------------------------------------------------------------------------------------------------------------------------------------------------------------------------------------------------------------------------------------------------------------------------------------------------------------------------------------------------------------------------------------------------------------------------------------------------------------------------------------------------------------------------------------------------------------------------------------------------------------------------------------------------------------------------------------------------------------------------------------------------------------------------------------------------------------------------------------------------------------------------------------------------------------------------------------------------------------------------------------------------------------------------------------------------------------------------------------------------------------------------------------------------------------------------------------------------------------------------------------------------------------------------------------------------------------------------------------------------------------------------------------------------------------------------------------------------------------------------------------------------------------------------------------------------------------------------------------------------------------------------------------------------------------------------------------------------------------------------------------------------------------------------------------------------------------------------------------------------------------------------------------------------------------------------------------------------------------------------------------------------------------------------------------------------------------------------------------------------------------------------------------------------------------------------------------------------------------------------------------------------------------------------------------------------------------------------------------------------------------------------------------------------------------------------------------------------------------------------------------------------------------------------------------------------------------------------------------------------------------------------------------------------------------------------------------------------------------------------------------------------------------------------------------------------------------------------------------------------------------------------------------------------------------------------------------------------------------------------------------------------------------------------------------------------------------------------------------------------------------------------------------------------------------------------------------------------------------------------------------------------------------------------------------------------------------------------------------------------------------------------------------------------------------------------------------------------------------------------------------------------------------------------------------------------------------------------------------------------------------------------------------------------------------------------------------------+------------------------------------------------------------------------+\n",
            "only showing top 5 rows\n",
            "\n"
          ],
          "name": "stdout"
        }
      ]
    },
    {
      "cell_type": "code",
      "metadata": {
        "colab": {
          "base_uri": "https://localhost:8080/"
        },
        "id": "iZF5qFXxqH79",
        "outputId": "fc793f13-8da0-472f-eb82-9751c1c17fe0"
      },
      "source": [
        "# Analysis of features\n",
        "# The features are well balanced and thus no exclusion is necessary \n",
        "dataDF.summary().show(truncate=False)"
      ],
      "execution_count": null,
      "outputs": [
        {
          "output_type": "stream",
          "text": [
            "+-------+-------------------------------------------+------------------+------------------+-------------------+------------------+------------------+-------------------+-------------------+-----------------+-------------------+-------------------+------------------+-------------------+------------------+-------------------+\n",
            "|summary|name                                       |mode              |acousticness      |danceability       |duration          |energy            |explicit           |instrumentalness   |key              |liveness           |loudness           |popularity        |speechiness        |tempo             |valence            |\n",
            "+-------+-------------------------------------------+------------------+------------------+-------------------+------------------+------------------+-------------------+-------------------+-----------------+-------------------+-------------------+------------------+-------------------+------------------+-------------------+\n",
            "|count  |132789                                     |132789            |132789            |132789             |132789            |132789            |132789             |132789             |132789           |132789             |132789             |132789            |132789             |132789            |132789             |\n",
            "|mean   |Infinity                                   |0.7072950319680094|0.495186249742738 |0.5388250779310363 |3.8550527208779832|0.4890356303004952|0.09051201530247234|0.16516457583539118|5.203390341067408|0.21149942954854095|-11.422196133131347|30.682123322330206|0.10177487692089862|116.95039097759256|0.5358254771167189 |\n",
            "|stddev |NaN                                        |0.4550058558017062|0.3742082540364194|0.17419133158492134|2.0171205761195954|0.2643327107577222|0.2869149879682288 |0.30668367766247473|3.517858203116302|0.17836304932798536|5.629492362554266  |21.379281846223435|0.16293223234847487|29.957015757140788|0.25869107160611704|\n",
            "|min    |!Que Vida! - Mono Version                  |0                 |0.0               |0.0                |0.5               |0.0               |0                  |0.0                |0                |0.0                |-60.0              |0.0               |0.0                |0.0               |0.0                |\n",
            "|25%    |33.0                                       |0                 |0.104             |0.42               |2.856883333333333 |0.266             |0                  |0.0                |2                |0.101              |-14.439            |10.0              |0.0358             |94.348            |0.33399999999999996|\n",
            "|50%    |745.0                                      |1                 |0.48795           |0.548875           |3.4771833333333335|0.484             |0                  |3.61E-4            |5                |0.1418             |-10.491            |33.0              |0.0467             |114.998           |0.5489999999999999 |\n",
            "|75%    |1979.0                                     |1                 |0.889             |0.667              |4.370666666666667 |0.7045            |0                  |0.125              |8                |0.267              |-7.244             |47.0              |0.0816             |135.009           |0.747              |\n",
            "|max    |화려하지 않은 고백 Confession Is Not Flashy|1                 |0.996             |0.988              |59.29925          |1.0               |1                  |1.0                |11               |1.0                |3.855              |97.0              |0.969              |244.091           |1.0                |\n",
            "+-------+-------------------------------------------+------------------+------------------+-------------------+------------------+------------------+-------------------+-------------------+-----------------+-------------------+-------------------+------------------+-------------------+------------------+-------------------+\n",
            "\n"
          ],
          "name": "stdout"
        }
      ]
    },
    {
      "cell_type": "code",
      "metadata": {
        "colab": {
          "base_uri": "https://localhost:8080/",
          "height": 282
        },
        "id": "ROMbvDrMtoUk",
        "outputId": "26ea809b-3e71-44fe-964b-19bc043840a6"
      },
      "source": [
        "popularity_histogram = dataDF.select('popularity').rdd.flatMap(lambda x: x).histogram([0,10,20,30,40,50,60,70,80,90,100])\n",
        "\n",
        "# Loading the Computed Histogram into a Pandas Dataframe for plotting\n",
        "pd.DataFrame(\n",
        "    list(zip(*popularity_histogram)), \n",
        "    columns=['bin', 'frequency']\n",
        ").set_index(\n",
        "    'bin'\n",
        ").plot(kind='bar');"
      ],
      "execution_count": null,
      "outputs": [
        {
          "output_type": "display_data",
          "data": {
            "text/plain": [
              "<Figure size 432x288 with 1 Axes>"
            ],
            "image/png": "[encoded data removed]"
          },
          "metadata": {
            "tags": [],
            "needs_background": "light"
          }
        }
      ]
    },
    {
      "cell_type": "code",
      "metadata": {
        "colab": {
          "base_uri": "https://localhost:8080/"
        },
        "id": "_jzEt46Fu3HM",
        "outputId": "3db52ac8-9640-4672-a728-2985dfd1e17c"
      },
      "source": [
        "# Total number of tracks with zero popularity. Popularity rating depends on the number of times a track is played and if it has been played recently or not\n",
        "# High popularity of song means that it has been played a lot recently (https://developer.spotify.com/documentation/web-api/reference/tracks/get-track/)\n",
        "\n",
        "zero_popularity_count = dataDF.filter(dataDF['popularity'] == 0).count()\n",
        "print(\"There are are %d number of tracks with zero popularity rating\" % zero_popularity_count)"
      ],
      "execution_count": null,
      "outputs": [
        {
          "output_type": "stream",
          "text": [
            "There are are 23638 number of tracks with zero popularity rating\n"
          ],
          "name": "stdout"
        }
      ]
    },
    {
      "cell_type": "code",
      "metadata": {
        "colab": {
          "base_uri": "https://localhost:8080/",
          "height": 304
        },
        "id": "9kaidmTf3PI1",
        "outputId": "8374f4d8-6079-42e4-c3e9-888cdf549725"
      },
      "source": [
        "# Plotting Instrumentalness histogram to understand its data distribution\n",
        "# This feature represents the extent of instrumentalness in the song. Values greater than 0.5 represent instrumental tracks and tracks with value 0 represent \n",
        "# that the track contained large amount of vocals (https://developer.spotify.com/documentation/web-api/reference/tracks/get-track/)\n",
        "\n",
        "instrumentalness_histogram = dataDF.select('instrumentalness').rdd.flatMap(lambda x: x).histogram([0,0.000001,0.00001,0.0001,0.001,0.1,0.25,0.5,0.75,1])\n",
        "\n",
        "# Loading the Computed Histogram into a Pandas Dataframe for plotting\n",
        "pd.DataFrame(\n",
        "    list(zip(*instrumentalness_histogram)), \n",
        "    columns=['bin', 'frequency']\n",
        ").set_index(\n",
        "    'bin'\n",
        ").plot(kind='bar');\n"
      ],
      "execution_count": null,
      "outputs": [
        {
          "output_type": "display_data",
          "data": {
            "text/plain": [
              "<Figure size 432x288 with 1 Axes>"
            ],
            "image/png": "[encoded data removed]"
          },
          "metadata": {
            "tags": [],
            "needs_background": "light"
          }
        }
      ]
    },
    {
      "cell_type": "markdown",
      "metadata": {
        "id": "JNCtKaPDQ7Yk"
      },
      "source": [
        "## User - Artist Recommendation using LSH"
      ]
    },
    {
      "cell_type": "code",
      "metadata": {
        "id": "yIpaQ1Gk6dyK"
      },
      "source": [
        "from pyspark.ml.feature import BucketedRandomProjectionLSH\n",
        "from pyspark.sql.functions import *\n",
        "from pyspark.sql.types import *\n",
        "from pyspark.ml.linalg import Vectors\n",
        "from pyspark.ml.linalg import DenseVector\n",
        "from pyspark.mllib.linalg.distributed import RowMatrix\n",
        "# from pyspark.mllib.linalg import Vectors\n",
        "from pyspark.ml.feature import VectorAssembler\n",
        "from pyspark.ml.feature import OneHotEncoder, StringIndexer\n",
        "from pyspark.ml.feature import MinMaxScaler\n",
        "# from pyspark.mllib.linalg import *\n",
        "import pandas as pd"
      ],
      "execution_count": null,
      "outputs": []
    },
    {
      "cell_type": "code",
      "metadata": {
        "id": "57HwjUg-RBEu"
      },
      "source": [
        "# Building Hash projections of Artists and in order to do that artist profiles are to be made into vectors\n",
        "# Convert the duration of songs to minutes and remove any outliers\n",
        "# Convert key into one hot encoded vector and remove count as an feature for the artists (we want to build artists profile solely based on their track features)\n",
        "# Convert each artists features into a dense vector (mapping it into rdd and then again to df)\n",
        "\n",
        "# Join spotify df and artist df by artistname and map it intoa rdd\n",
        "# Pick a random user and create a artist profile for that user (it will be weighted average as the features will be weighted by their count)\n",
        "# Query that user to find top 10 artists and then validate by calculating cosine similarity (or euclidian distance) b/w suggested artists and the top 5 artists\n",
        "# the user has listened to by count \n"
      ],
      "execution_count": null,
      "outputs": []
    },
    {
      "cell_type": "code",
      "metadata": {
        "colab": {
          "base_uri": "https://localhost:8080/"
        },
        "id": "qH280Xg0Ui7J",
        "outputId": "16d9a49b-d752-4ffb-e0f8-ff2a2a20ff03"
      },
      "source": [
        "# Convert duration from ms -> minutes and remove any outlier\n",
        "# ----------------------------------------- #\n",
        "artistdf = ss.read.csv(artistDataPath,header=True,inferSchema=True)\n",
        "artistdf = artistdf.withColumn('artists',translate('artists', '\"','')).withColumn('artists',translate('artists', '”', ''))\n",
        "artistdf = artistdf.withColumn('duration',col(\"duration_ms\")/60000)\n",
        "artistdf.show(2, truncate=False)\n",
        "artistdf.printSchema()"
      ],
      "execution_count": null,
      "outputs": [
        {
          "output_type": "stream",
          "text": [
            "+------------------------------+------------------+------------------+-----------+------------------+--------------------+-------------------+-------------------+-------------------+------------------+------------------+-----------------+---+----+-----+--------+\n",
            "|artists                       |acousticness      |danceability      |duration_ms|energy            |instrumentalness    |liveness           |loudness           |speechiness        |tempo             |valence           |popularity       |key|mode|count|duration|\n",
            "+------------------------------+------------------+------------------+-----------+------------------+--------------------+-------------------+-------------------+-------------------+------------------+------------------+-----------------+---+----+-----+--------+\n",
            "|Cats 1981 Original London Cast|0.5750833333333334|0.44275           |247260.0   |0.3863358333333334|0.022717396666666667|0.2877083333333333 |-14.205416666666665|0.18067500000000009|115.9835          |0.3344333333333333|38.0             |5  |1   |12   |4.121   |\n",
            "|Cats 1983 Broadway Cast       |0.8625384615384614|0.4417307692307693|287280.0   |0.4068076923076924|0.08115826423076923 |0.31521538461538456|-10.69             |0.17621153846153847|103.04415384615385|0.2688653846153846|33.07692307692308|5  |1   |26   |4.788   |\n",
            "+------------------------------+------------------+------------------+-----------+------------------+--------------------+-------------------+-------------------+-------------------+------------------+------------------+-----------------+---+----+-----+--------+\n",
            "only showing top 2 rows\n",
            "\n",
            "root\n",
            " |-- artists: string (nullable = true)\n",
            " |-- acousticness: double (nullable = true)\n",
            " |-- danceability: double (nullable = true)\n",
            " |-- duration_ms: double (nullable = true)\n",
            " |-- energy: double (nullable = true)\n",
            " |-- instrumentalness: double (nullable = true)\n",
            " |-- liveness: double (nullable = true)\n",
            " |-- loudness: double (nullable = true)\n",
            " |-- speechiness: double (nullable = true)\n",
            " |-- tempo: double (nullable = true)\n",
            " |-- valence: double (nullable = true)\n",
            " |-- popularity: double (nullable = true)\n",
            " |-- key: integer (nullable = true)\n",
            " |-- mode: integer (nullable = true)\n",
            " |-- count: integer (nullable = true)\n",
            " |-- duration: double (nullable = true)\n",
            "\n"
          ],
          "name": "stdout"
        }
      ]
    },
    {
      "cell_type": "code",
      "metadata": {
        "colab": {
          "base_uri": "https://localhost:8080/"
        },
        "id": "QtT5TGMnUiQO",
        "outputId": "729b771b-76b1-45a6-e092-affc2a1bfe9a"
      },
      "source": [
        "# Convert key feature into a one hot encoeded vector \n",
        "ohe = OneHotEncoder()\n",
        "ohe.setInputCols([\"key\"])\n",
        "ohe.setOutputCols([\"key_vector\"])\n",
        "model = ohe.fit(artistdf)\n",
        "artistdf_key_encoded = model.transform(artistdf)\n",
        "artistdf_key_encoded.show(2, truncate=False)"
      ],
      "execution_count": null,
      "outputs": [
        {
          "output_type": "stream",
          "text": [
            "+------------------------------+------------------+------------------+-----------+------------------+--------------------+-------------------+-------------------+-------------------+------------------+------------------+-----------------+---+----+-----+--------+--------------+\n",
            "|artists                       |acousticness      |danceability      |duration_ms|energy            |instrumentalness    |liveness           |loudness           |speechiness        |tempo             |valence           |popularity       |key|mode|count|duration|key_vector    |\n",
            "+------------------------------+------------------+------------------+-----------+------------------+--------------------+-------------------+-------------------+-------------------+------------------+------------------+-----------------+---+----+-----+--------+--------------+\n",
            "|Cats 1981 Original London Cast|0.5750833333333334|0.44275           |247260.0   |0.3863358333333334|0.022717396666666667|0.2877083333333333 |-14.205416666666665|0.18067500000000009|115.9835          |0.3344333333333333|38.0             |5  |1   |12   |4.121   |(11,[5],[1.0])|\n",
            "|Cats 1983 Broadway Cast       |0.8625384615384614|0.4417307692307693|287280.0   |0.4068076923076924|0.08115826423076923 |0.31521538461538456|-10.69             |0.17621153846153847|103.04415384615385|0.2688653846153846|33.07692307692308|5  |1   |26   |4.788   |(11,[5],[1.0])|\n",
            "+------------------------------+------------------+------------------+-----------+------------------+--------------------+-------------------+-------------------+-------------------+------------------+------------------+-----------------+---+----+-----+--------+--------------+\n",
            "only showing top 2 rows\n",
            "\n"
          ],
          "name": "stdout"
        }
      ]
    },
    {
      "cell_type": "code",
      "metadata": {
        "colab": {
          "base_uri": "https://localhost:8080/"
        },
        "id": "yXdVB6urUiEK",
        "outputId": "0ec10d87-114c-4cf6-c145-2bf26596d8f7"
      },
      "source": [
        "# Assemble all features into one to create a single vector\n",
        "audio_feature_columns = ['acousticness', 'danceability', 'energy', 'duration', 'instrumentalness', 'valence', 'popularity',\n",
        "                                    'tempo', 'liveness', 'loudness', 'speechiness', 'mode', 'count', 'key_vector']\n",
        "assembler = VectorAssembler(\n",
        "    inputCols=audio_feature_columns,\n",
        "    outputCol=\"features\")\n",
        "artistdf_feature = assembler.transform(artistdf_key_encoded)\n",
        "artistdf_feature.show(2, truncate=False)"
      ],
      "execution_count": null,
      "outputs": [
        {
          "output_type": "stream",
          "text": [
            "+------------------------------+------------------+------------------+-----------+------------------+--------------------+-------------------+-------------------+-------------------+------------------+------------------+-----------------+---+----+-----+--------+--------------+-----------------------------------------------------------------------------------------------------------------------------------------------------------------------------------------------------------------------------------------------+\n",
            "|artists                       |acousticness      |danceability      |duration_ms|energy            |instrumentalness    |liveness           |loudness           |speechiness        |tempo             |valence           |popularity       |key|mode|count|duration|key_vector    |features                                                                                                                                                                                                                                       |\n",
            "+------------------------------+------------------+------------------+-----------+------------------+--------------------+-------------------+-------------------+-------------------+------------------+------------------+-----------------+---+----+-----+--------+--------------+-----------------------------------------------------------------------------------------------------------------------------------------------------------------------------------------------------------------------------------------------+\n",
            "|Cats 1981 Original London Cast|0.5750833333333334|0.44275           |247260.0   |0.3863358333333334|0.022717396666666667|0.2877083333333333 |-14.205416666666665|0.18067500000000009|115.9835          |0.3344333333333333|38.0             |5  |1   |12   |4.121   |(11,[5],[1.0])|(24,[0,1,2,3,4,5,6,7,8,9,10,11,12,18],[0.5750833333333334,0.44275,0.3863358333333334,4.121,0.022717396666666667,0.3344333333333333,38.0,115.9835,0.2877083333333333,-14.205416666666665,0.18067500000000009,1.0,12.0,1.0])                     |\n",
            "|Cats 1983 Broadway Cast       |0.8625384615384614|0.4417307692307693|287280.0   |0.4068076923076924|0.08115826423076923 |0.31521538461538456|-10.69             |0.17621153846153847|103.04415384615385|0.2688653846153846|33.07692307692308|5  |1   |26   |4.788   |(11,[5],[1.0])|(24,[0,1,2,3,4,5,6,7,8,9,10,11,12,18],[0.8625384615384614,0.4417307692307693,0.4068076923076924,4.788,0.08115826423076923,0.2688653846153846,33.07692307692308,103.04415384615385,0.31521538461538456,-10.69,0.17621153846153847,1.0,26.0,1.0])|\n",
            "+------------------------------+------------------+------------------+-----------+------------------+--------------------+-------------------+-------------------+-------------------+------------------+------------------+-----------------+---+----+-----+--------+--------------+-----------------------------------------------------------------------------------------------------------------------------------------------------------------------------------------------------------------------------------------------+\n",
            "only showing top 2 rows\n",
            "\n"
          ],
          "name": "stdout"
        }
      ]
    },
    {
      "cell_type": "code",
      "metadata": {
        "id": "YZYaAzBo7ABr",
        "colab": {
          "base_uri": "https://localhost:8080/"
        },
        "outputId": "80017a24-a083-4fe9-caa2-5ae57e6b84ec"
      },
      "source": [
        "# Creating artists feature vectos for user profile tags creation (count to be eliminated as feature not present in genres)\n",
        "audio_feature_columns_id = ['acousticness', 'danceability', 'energy', 'duration', 'instrumentalness', 'valence', 'popularity',\n",
        "                                    'tempo', 'liveness', 'loudness', 'speechiness', 'mode', 'key_vector']\n",
        "assembler_id = VectorAssembler(\n",
        "    inputCols=audio_feature_columns_id,\n",
        "    outputCol=\"features\")\n",
        "artistdf_feature_id = assembler_id.transform(artistdf_key_encoded)\n",
        "artistdf_feature_id.show(2, truncate=False)"
      ],
      "execution_count": null,
      "outputs": [
        {
          "output_type": "stream",
          "text": [
            "+------------------------------+------------------+------------------+-----------+------------------+--------------------+-------------------+-------------------+-------------------+------------------+------------------+-----------------+---+----+-----+--------+--------------+---------------------------------------------------------------------------------------------------------------------------------------------------------------------------------------------------------------------------------------+\n",
            "|artists                       |acousticness      |danceability      |duration_ms|energy            |instrumentalness    |liveness           |loudness           |speechiness        |tempo             |valence           |popularity       |key|mode|count|duration|key_vector    |features                                                                                                                                                                                                                               |\n",
            "+------------------------------+------------------+------------------+-----------+------------------+--------------------+-------------------+-------------------+-------------------+------------------+------------------+-----------------+---+----+-----+--------+--------------+---------------------------------------------------------------------------------------------------------------------------------------------------------------------------------------------------------------------------------------+\n",
            "|Cats 1981 Original London Cast|0.5750833333333334|0.44275           |247260.0   |0.3863358333333334|0.022717396666666667|0.2877083333333333 |-14.205416666666665|0.18067500000000009|115.9835          |0.3344333333333333|38.0             |5  |1   |12   |4.121   |(11,[5],[1.0])|(23,[0,1,2,3,4,5,6,7,8,9,10,11,17],[0.5750833333333334,0.44275,0.3863358333333334,4.121,0.022717396666666667,0.3344333333333333,38.0,115.9835,0.2877083333333333,-14.205416666666665,0.18067500000000009,1.0,1.0])                     |\n",
            "|Cats 1983 Broadway Cast       |0.8625384615384614|0.4417307692307693|287280.0   |0.4068076923076924|0.08115826423076923 |0.31521538461538456|-10.69             |0.17621153846153847|103.04415384615385|0.2688653846153846|33.07692307692308|5  |1   |26   |4.788   |(11,[5],[1.0])|(23,[0,1,2,3,4,5,6,7,8,9,10,11,17],[0.8625384615384614,0.4417307692307693,0.4068076923076924,4.788,0.08115826423076923,0.2688653846153846,33.07692307692308,103.04415384615385,0.31521538461538456,-10.69,0.17621153846153847,1.0,1.0])|\n",
            "+------------------------------+------------------+------------------+-----------+------------------+--------------------+-------------------+-------------------+-------------------+------------------+------------------+-----------------+---+----+-----+--------+--------------+---------------------------------------------------------------------------------------------------------------------------------------------------------------------------------------------------------------------------------------+\n",
            "only showing top 2 rows\n",
            "\n"
          ],
          "name": "stdout"
        }
      ]
    },
    {
      "cell_type": "code",
      "metadata": {
        "colab": {
          "base_uri": "https://localhost:8080/"
        },
        "id": "7uh2A5oUUh4_",
        "outputId": "b89d03f2-0b8e-4c18-9def-edd70e61d015"
      },
      "source": [
        "# Scale all features using MinMax scaling method\n",
        "mmScaler = MinMaxScaler(outputCol=\"scaled_features\")\n",
        "mmScaler.setInputCol(\"features\")\n",
        "model = mmScaler.fit(artistdf_feature)\n",
        "artistdf_scaled = model.transform(artistdf_feature)\n",
        "artistdf_scaled.show(2, truncate=False)"
      ],
      "execution_count": null,
      "outputs": [
        {
          "output_type": "stream",
          "text": [
            "+------------------------------+------------------+------------------+-----------+------------------+--------------------+-------------------+-------------------+-------------------+------------------+------------------+-----------------+---+----+-----+--------+--------------+-----------------------------------------------------------------------------------------------------------------------------------------------------------------------------------------------------------------------------------------------+-------------------------------------------------------------------------------------------------------------------------------------------------------------------------------------------------------------------------------------------------------------------------------------------+\n",
            "|artists                       |acousticness      |danceability      |duration_ms|energy            |instrumentalness    |liveness           |loudness           |speechiness        |tempo             |valence           |popularity       |key|mode|count|duration|key_vector    |features                                                                                                                                                                                                                                       |scaled_features                                                                                                                                                                                                                                                                            |\n",
            "+------------------------------+------------------+------------------+-----------+------------------+--------------------+-------------------+-------------------+-------------------+------------------+------------------+-----------------+---+----+-----+--------+--------------+-----------------------------------------------------------------------------------------------------------------------------------------------------------------------------------------------------------------------------------------------+-------------------------------------------------------------------------------------------------------------------------------------------------------------------------------------------------------------------------------------------------------------------------------------------+\n",
            "|Cats 1981 Original London Cast|0.5750833333333334|0.44275           |247260.0   |0.3863358333333334|0.022717396666666667|0.2877083333333333 |-14.205416666666665|0.18067500000000009|115.9835          |0.3344333333333333|38.0             |5  |1   |12   |4.121   |(11,[5],[1.0])|(24,[0,1,2,3,4,5,6,7,8,9,10,11,12,18],[0.5750833333333334,0.44275,0.3863358333333334,4.121,0.022717396666666667,0.3344333333333333,38.0,115.9835,0.2877083333333333,-14.205416666666665,0.18067500000000009,1.0,12.0,1.0])                     |(24,[0,1,2,3,4,5,6,7,8,9,10,11,12,18],[0.5773929049531459,0.4490365111561866,0.3863358333333334,0.042428419238233046,0.022717396666666667,0.3374705684493777,0.39999999999999997,0.5326623588358753,0.29032122435250585,0.746545325117103,0.1874221991701246,1.0,0.003468937243771681,1.0])|\n",
            "|Cats 1983 Broadway Cast       |0.8625384615384614|0.4417307692307693|287280.0   |0.4068076923076924|0.08115826423076923 |0.31521538461538456|-10.69             |0.17621153846153847|103.04415384615385|0.2688653846153846|33.07692307692308|5  |1   |26   |4.788   |(11,[5],[1.0])|(24,[0,1,2,3,4,5,6,7,8,9,10,11,12,18],[0.8625384615384614,0.4417307692307693,0.4068076923076924,4.788,0.08115826423076923,0.2688653846153846,33.07692307692308,103.04415384615385,0.31521538461538456,-10.69,0.17621153846153847,1.0,26.0,1.0])|(24,[0,1,2,3,4,5,6,7,8,9,10,11,12,18],[0.8660024714241579,0.448002808550476,0.4068076923076924,0.049860581950225864,0.08115826423076923,0.2713071489559885,0.3481781376518219,0.4732375040582423,0.31807808740200255,0.8038538032669298,0.18279205234599427,1.0,0.007883948281299274,1.0]) |\n",
            "+------------------------------+------------------+------------------+-----------+------------------+--------------------+-------------------+-------------------+-------------------+------------------+------------------+-----------------+---+----+-----+--------+--------------+-----------------------------------------------------------------------------------------------------------------------------------------------------------------------------------------------------------------------------------------------+-------------------------------------------------------------------------------------------------------------------------------------------------------------------------------------------------------------------------------------------------------------------------------------------+\n",
            "only showing top 2 rows\n",
            "\n"
          ],
          "name": "stdout"
        }
      ]
    },
    {
      "cell_type": "code",
      "metadata": {
        "id": "z6ht5BBt7Xl9"
      },
      "source": [
        "# Scaling the reduced artists features for user id tag as well\n",
        "mmScaler_id = MinMaxScaler(outputCol=\"scaled_features\")\n",
        "mmScaler_id.setInputCol(\"features\")\n",
        "model_id = mmScaler_id.fit(artistdf_feature_id)\n",
        "artistdf_scaled_id = model_id.transform(artistdf_feature_id)\n",
        "# artistdf_scaled.show(2, truncate=False)"
      ],
      "execution_count": null,
      "outputs": []
    },
    {
      "cell_type": "code",
      "metadata": {
        "colab": {
          "base_uri": "https://localhost:8080/"
        },
        "id": "v93TxuI8Uhtq",
        "outputId": "d9a31634-f988-4298-8c0a-5cb1f64a587e"
      },
      "source": [
        "# Convert sparse vectors into dense vectors\n",
        "data_feature_rdd = artistdf_scaled.select(['artists', 'scaled_features']).rdd.map(list)\n",
        "artistdF_dense = data_feature_rdd.map(lambda kv: (kv[0], DenseVector(kv[1].toArray()))).toDF()\n",
        "artistdF_dense = artistdF_dense.withColumnRenamed('_1', 'artists').withColumnRenamed('_2', 'scaled_features')\n",
        "artistdF_dense.printSchema()\n",
        "artistdF_dense.show(2, truncate=False)"
      ],
      "execution_count": null,
      "outputs": [
        {
          "output_type": "stream",
          "text": [
            "root\n",
            " |-- artists: string (nullable = true)\n",
            " |-- scaled_features: vector (nullable = true)\n",
            "\n",
            "+------------------------------+--------------------------------------------------------------------------------------------------------------------------------------------------------------------------------------------------------------------------------------------------------------------------------------------+\n",
            "|artists                       |scaled_features                                                                                                                                                                                                                                                                             |\n",
            "+------------------------------+--------------------------------------------------------------------------------------------------------------------------------------------------------------------------------------------------------------------------------------------------------------------------------------------+\n",
            "|Cats 1981 Original London Cast|[0.5773929049531459,0.4490365111561866,0.3863358333333334,0.042428419238233046,0.022717396666666667,0.3374705684493777,0.39999999999999997,0.5326623588358753,0.29032122435250585,0.746545325117103,0.1874221991701246,1.0,0.003468937243771681,0.0,0.0,0.0,0.0,0.0,1.0,0.0,0.0,0.0,0.0,0.0]|\n",
            "|Cats 1983 Broadway Cast       |[0.8660024714241579,0.448002808550476,0.4068076923076924,0.049860581950225864,0.08115826423076923,0.2713071489559885,0.3481781376518219,0.4732375040582423,0.31807808740200255,0.8038538032669298,0.18279205234599427,1.0,0.007883948281299274,0.0,0.0,0.0,0.0,0.0,1.0,0.0,0.0,0.0,0.0,0.0] |\n",
            "+------------------------------+--------------------------------------------------------------------------------------------------------------------------------------------------------------------------------------------------------------------------------------------------------------------------------------------+\n",
            "only showing top 2 rows\n",
            "\n"
          ],
          "name": "stdout"
        }
      ]
    },
    {
      "cell_type": "code",
      "metadata": {
        "id": "JSkRi1P97mFq"
      },
      "source": [
        "# COnverting the sparse artists vectors for the user profile id into dense vector as well\n",
        "data_feature_rdd_id = artistdf_scaled_id.select(['artists', 'scaled_features']).rdd.map(list)\n",
        "artistdF_dense_id = data_feature_rdd_id.map(lambda kv: (kv[0], DenseVector(kv[1].toArray()))).toDF()\n",
        "artistdF_dense_id = artistdF_dense_id.withColumnRenamed('_1', 'artists').withColumnRenamed('_2', 'scaled_features')"
      ],
      "execution_count": null,
      "outputs": []
    },
    {
      "cell_type": "code",
      "metadata": {
        "colab": {
          "base_uri": "https://localhost:8080/"
        },
        "id": "Fdl23q2jUzuA",
        "outputId": "059f48e8-7d23-4577-dd4f-cb75842ba575"
      },
      "source": [
        "# Create Hash Projections\n",
        "brp = BucketedRandomProjectionLSH(inputCol='scaled_features', outputCol='hashed_projections', seed=123, numHashTables=5, bucketLength=10)\n",
        "brp_model = brp.fit(artistdF_dense)\n",
        "artistdF_hashed = brp_model.transform(artistdF_dense)\n",
        "artistdF_hashed.show(2, truncate=False)"
      ],
      "execution_count": null,
      "outputs": [
        {
          "output_type": "stream",
          "text": [
            "+------------------------------+--------------------------------------------------------------------------------------------------------------------------------------------------------------------------------------------------------------------------------------------------------------------------------------------+---------------------------------------+\n",
            "|artists                       |scaled_features                                                                                                                                                                                                                                                                             |hashed_projections                     |\n",
            "+------------------------------+--------------------------------------------------------------------------------------------------------------------------------------------------------------------------------------------------------------------------------------------------------------------------------------------+---------------------------------------+\n",
            "|Cats 1981 Original London Cast|[0.5773929049531459,0.4490365111561866,0.3863358333333334,0.042428419238233046,0.022717396666666667,0.3374705684493777,0.39999999999999997,0.5326623588358753,0.29032122435250585,0.746545325117103,0.1874221991701246,1.0,0.003468937243771681,0.0,0.0,0.0,0.0,0.0,1.0,0.0,0.0,0.0,0.0,0.0]|[[-1.0], [0.0], [0.0], [-1.0], [-1.0]] |\n",
            "|Cats 1983 Broadway Cast       |[0.8660024714241579,0.448002808550476,0.4068076923076924,0.049860581950225864,0.08115826423076923,0.2713071489559885,0.3481781376518219,0.4732375040582423,0.31807808740200255,0.8038538032669298,0.18279205234599427,1.0,0.007883948281299274,0.0,0.0,0.0,0.0,0.0,1.0,0.0,0.0,0.0,0.0,0.0] |[[-1.0], [0.0], [-1.0], [-1.0], [-1.0]]|\n",
            "+------------------------------+--------------------------------------------------------------------------------------------------------------------------------------------------------------------------------------------------------------------------------------------------------------------------------------------+---------------------------------------+\n",
            "only showing top 2 rows\n",
            "\n"
          ],
          "name": "stdout"
        }
      ]
    },
    {
      "cell_type": "code",
      "metadata": {
        "colab": {
          "base_uri": "https://localhost:8080/"
        },
        "id": "pS3Aw2-FUzp9",
        "outputId": "38c86c7e-8c22-421a-f29f-d36233b913b7"
      },
      "source": [
        "# Get the spotify playlist dataset and Check for null values and drop the rows which have null enteries\n",
        "spotifydf = ss.read.csv(spotifyDataPath,header=True,inferSchema=True)\n",
        "spotifydf = spotifydf.select('user_id',col(' \"artistname\"').alias('artistname'), col(' \"trackname\"').alias(\"trackname\"),col(' \"playlistname\"').alias('playlistname'))\n",
        "spotifydf.select([count(when(isnull(c), c)).alias(c) for c in spotifydf.columns]).show()\n",
        "spotifydf = spotifydf.na.drop()\n",
        "spotifydf.show(5, truncate=False)"
      ],
      "execution_count": null,
      "outputs": [
        {
          "output_type": "stream",
          "text": [
            "+-------+----------+---------+------------+\n",
            "|user_id|artistname|trackname|playlistname|\n",
            "+-------+----------+---------+------------+\n",
            "|      0|     33562|       82|          45|\n",
            "+-------+----------+---------+------------+\n",
            "\n",
            "+--------------------------------+--------------------------------+-----------------------------------------------------+--------------+\n",
            "|user_id                         |artistname                      |trackname                                            |playlistname  |\n",
            "+--------------------------------+--------------------------------+-----------------------------------------------------+--------------+\n",
            "|9cc0cfd4d7d7885102480dd99e7a90d6|Elvis Costello                  |(The Angels Wanna Wear My) Red Shoes                 |HARD ROCK 2010|\n",
            "|9cc0cfd4d7d7885102480dd99e7a90d6|Elvis Costello & The Attractions|(What's So Funny 'Bout) Peace, Love And Understanding|HARD ROCK 2010|\n",
            "|9cc0cfd4d7d7885102480dd99e7a90d6|Tiffany Page                    |7 Years Too Late                                     |HARD ROCK 2010|\n",
            "|9cc0cfd4d7d7885102480dd99e7a90d6|Elvis Costello & The Attractions|Accidents Will Happen                                |HARD ROCK 2010|\n",
            "|9cc0cfd4d7d7885102480dd99e7a90d6|Elvis Costello                  |Alison                                               |HARD ROCK 2010|\n",
            "+--------------------------------+--------------------------------+-----------------------------------------------------+--------------+\n",
            "only showing top 5 rows\n",
            "\n"
          ],
          "name": "stdout"
        }
      ]
    },
    {
      "cell_type": "code",
      "metadata": {
        "colab": {
          "base_uri": "https://localhost:8080/"
        },
        "id": "_sR-YRWIUzmB",
        "outputId": "5e45ce5c-9728-4e8a-d108-2b0f9dc54a3e"
      },
      "source": [
        "# Join the artist and playlist df\n",
        "joined_artist_df = spotifydf.join(artistdF_dense, spotifydf.artistname==artistdF_dense.artists)\n",
        "joined_artist_df.show(5, truncate=False)"
      ],
      "execution_count": null,
      "outputs": [
        {
          "output_type": "stream",
          "text": [
            "+--------------------------------+----------+-------------------+-----------------+-------+---------------------------------------------------------------------------------------------------------------------------------------------------------------------------------------------------------------------------------------------------------------------------------------------+\n",
            "|user_id                         |artistname|trackname          |playlistname     |artists|scaled_features                                                                                                                                                                                                                                                                              |\n",
            "+--------------------------------+----------+-------------------+-----------------+-------+---------------------------------------------------------------------------------------------------------------------------------------------------------------------------------------------------------------------------------------------------------------------------------------------+\n",
            "|b5daa64b8ae6b352e5c77f3c4e832181|*NSYNC    |Tearin' Up My Heart|Get Movin'       |*NSYNC |[0.1573870868087735,0.6511676288552556,0.7193205128205126,0.04053741720098342,0.003624652307692304,0.6207146368599448,0.48205128205128206,0.5266999074538238,0.21939765582550647,0.8798100435640784,0.06966299606341102,1.0,0.024282560706401765,1.0,0.0,0.0,0.0,0.0,0.0,0.0,0.0,0.0,0.0,0.0]|\n",
            "|ccdbbd7f10743262dcb0081a251ae555|*NSYNC    |Bye Bye Bye        |Fascinate        |*NSYNC |[0.1573870868087735,0.6511676288552556,0.7193205128205126,0.04053741720098342,0.003624652307692304,0.6207146368599448,0.48205128205128206,0.5266999074538238,0.21939765582550647,0.8798100435640784,0.06966299606341102,1.0,0.024282560706401765,1.0,0.0,0.0,0.0,0.0,0.0,0.0,0.0,0.0,0.0,0.0]|\n",
            "|03b3c34198301598b0908862a4f86138|*NSYNC    |Tearin' Up My Heart|90's Extravaganza|*NSYNC |[0.1573870868087735,0.6511676288552556,0.7193205128205126,0.04053741720098342,0.003624652307692304,0.6207146368599448,0.48205128205128206,0.5266999074538238,0.21939765582550647,0.8798100435640784,0.06966299606341102,1.0,0.024282560706401765,1.0,0.0,0.0,0.0,0.0,0.0,0.0,0.0,0.0,0.0,0.0]|\n",
            "|03b3c34198301598b0908862a4f86138|*NSYNC    |Tearin' Up My Heart|Christmas List   |*NSYNC |[0.1573870868087735,0.6511676288552556,0.7193205128205126,0.04053741720098342,0.003624652307692304,0.6207146368599448,0.48205128205128206,0.5266999074538238,0.21939765582550647,0.8798100435640784,0.06966299606341102,1.0,0.024282560706401765,1.0,0.0,0.0,0.0,0.0,0.0,0.0,0.0,0.0,0.0,0.0]|\n",
            "|03b3c34198301598b0908862a4f86138|*NSYNC    |Tearin' Up My Heart|Party Mix        |*NSYNC |[0.1573870868087735,0.6511676288552556,0.7193205128205126,0.04053741720098342,0.003624652307692304,0.6207146368599448,0.48205128205128206,0.5266999074538238,0.21939765582550647,0.8798100435640784,0.06966299606341102,1.0,0.024282560706401765,1.0,0.0,0.0,0.0,0.0,0.0,0.0,0.0,0.0,0.0,0.0]|\n",
            "+--------------------------------+----------+-------------------+-----------------+-------+---------------------------------------------------------------------------------------------------------------------------------------------------------------------------------------------------------------------------------------------------------------------------------------------+\n",
            "only showing top 5 rows\n",
            "\n"
          ],
          "name": "stdout"
        }
      ]
    },
    {
      "cell_type": "code",
      "metadata": {
        "colab": {
          "base_uri": "https://localhost:8080/"
        },
        "id": "EiLrJ9as_cEG",
        "outputId": "ce41adfb-b0aa-4f58-a88f-831347a7821a"
      },
      "source": [
        "# Joining the spotify df and the new artist df required for user id tag \n",
        "joined_artist_df_id = spotifydf.join(artistdF_dense_id, spotifydf.artistname==artistdF_dense_id.artists)\n",
        "joined_artist_df_id.show(2, truncate=False)"
      ],
      "execution_count": null,
      "outputs": [
        {
          "output_type": "stream",
          "text": [
            "+--------------------------------+----------+-------------------+------------+-------+------------------------------------------------------------------------------------------------------------------------------------------------------------------------------------------------------------------------------------------------------------------------+\n",
            "|user_id                         |artistname|trackname          |playlistname|artists|scaled_features                                                                                                                                                                                                                                                         |\n",
            "+--------------------------------+----------+-------------------+------------+-------+------------------------------------------------------------------------------------------------------------------------------------------------------------------------------------------------------------------------------------------------------------------------+\n",
            "|74bc80e9a16ccd15a85f8d4d871000cf|*NSYNC    |Pop [Radio Version]|Osu!        |*NSYNC |[0.1573870868087735,0.6511676288552556,0.7193205128205126,0.04053741720098342,0.003624652307692304,0.6207146368599448,0.48205128205128206,0.5266999074538238,0.21939765582550647,0.8798100435640784,0.06966299606341102,1.0,1.0,0.0,0.0,0.0,0.0,0.0,0.0,0.0,0.0,0.0,0.0]|\n",
            "|6d6d8ddf2fcb2cd1f7861b30ffa2b6c5|*NSYNC    |Tearin' Up My Heart|Run A       |*NSYNC |[0.1573870868087735,0.6511676288552556,0.7193205128205126,0.04053741720098342,0.003624652307692304,0.6207146368599448,0.48205128205128206,0.5266999074538238,0.21939765582550647,0.8798100435640784,0.06966299606341102,1.0,1.0,0.0,0.0,0.0,0.0,0.0,0.0,0.0,0.0,0.0,0.0]|\n",
            "+--------------------------------+----------+-------------------+------------+-------+------------------------------------------------------------------------------------------------------------------------------------------------------------------------------------------------------------------------------------------------------------------------+\n",
            "only showing top 2 rows\n",
            "\n"
          ],
          "name": "stdout"
        }
      ]
    },
    {
      "cell_type": "code",
      "metadata": {
        "colab": {
          "base_uri": "https://localhost:8080/"
        },
        "id": "qEfywI1NF6OA",
        "outputId": "be310136-0091-41f9-8160-8aea5ba7ca68"
      },
      "source": [
        "print(\"The total number of observations in the joined df is\", joined_artist_df.count())\n",
        "print(\"The total number of unique artists in the joined df is\", joined_artist_df.select('artistname').distinct().count())\n",
        "print(\"The total number of unique users in the joined df is\", joined_artist_df.select('user_id').distinct().count())"
      ],
      "execution_count": null,
      "outputs": [
        {
          "output_type": "stream",
          "text": [
            "The total number of observations in the joined df is 8547183\n",
            "The total number of unique artists in the joined df is 16644\n",
            "The total number of unique artists in the joined df is 15601\n"
          ],
          "name": "stdout"
        }
      ]
    },
    {
      "cell_type": "code",
      "metadata": {
        "colab": {
          "base_uri": "https://localhost:8080/"
        },
        "id": "rt3bfKGlFjKc",
        "outputId": "3c9ee56b-dc75-4c00-a6a4-a78f4d9e11aa"
      },
      "source": [
        "user_distinct_artist = joined_artist_df.groupby('user_id').agg(countDistinct('artistname').alias('distinct_artist'))"
      ],
      "execution_count": null,
      "outputs": [
        {
          "output_type": "stream",
          "text": [
            "+--------------------------------+---------------+\n",
            "|user_id                         |distinct_artist|\n",
            "+--------------------------------+---------------+\n",
            "|2c0c379f89a3dac1c64e04ef0340b75c|6              |\n",
            "|1c5ff5dce0c7f6011f748461fea511d7|5              |\n",
            "|0360dadb07b1f2aaeb15f0f210237302|8              |\n",
            "|056545ff6bee20986204f331df00328d|10             |\n",
            "|920cfa37e3ec93e348950670b6195069|6              |\n",
            "|a69804103a1cc1310f5c3fa9fba5c4ce|1              |\n",
            "|d88386da3cf26ecc10ba81cf01f39d71|3              |\n",
            "|a2fe5f2f6c81adf9532a97304b528d7e|2              |\n",
            "|c816c5059da625c062aee20ed1424de2|6              |\n",
            "|634286dd46e2a30a807ef140db7f296e|7              |\n",
            "+--------------------------------+---------------+\n",
            "only showing top 10 rows\n",
            "\n"
          ],
          "name": "stdout"
        }
      ]
    },
    {
      "cell_type": "code",
      "metadata": {
        "colab": {
          "base_uri": "https://localhost:8080/"
        },
        "id": "tDmz5tuAHhZz",
        "outputId": "87463a82-eb87-412b-8cbd-100a69e015a2"
      },
      "source": [
        "# Selected a random user and Checking what artists did this user listened to?\n",
        "# The user can be divided largely into 3 groups based on the distinct number of artists the user listened to: \n",
        "#       1) Large Artist Base - (500+)\n",
        "#       2) Medium Artist Base - (100+)\n",
        "#       3) Low Artist Base - (10+)\n",
        "# We will select a random user from each group and test our model\n",
        "# Finding users from the 3 groups\n",
        "\n",
        "user_distinct_artist.filter(col('distinct_artist') <= 10).sort(col('distinct_artist').desc()).show(10, truncate=False)\n",
        "user_distinct_artist.filter(col('distinct_artist') <= 100).sort(col('distinct_artist').desc()).show(10, truncate=False)\n",
        "user_distinct_artist.filter(col('distinct_artist') <= 500).sort(col('distinct_artist').desc()).show(10, truncate=False)"
      ],
      "execution_count": null,
      "outputs": [
        {
          "output_type": "stream",
          "text": [
            "+--------------------------------+---------------+\n",
            "|user_id                         |distinct_artist|\n",
            "+--------------------------------+---------------+\n",
            "|f2ed2c13b1ee9c9b490b303d700eda9f|500            |\n",
            "|c126e3612077c80a3dcf496c882533f1|500            |\n",
            "|478b6343aecfa493c489d7ebdda36b8c|500            |\n",
            "|1ba47c0c9d49d911e86cc0d666402246|499            |\n",
            "|376b6b26d087cb19b0a5981b38565b0f|498            |\n",
            "|91d36e483e6ca77ea5b2b12c13e69bc7|498            |\n",
            "|20249f8f758d196e0ee5f242697d28be|497            |\n",
            "|761e82fdf3ae3999f185632a6ef6775c|497            |\n",
            "|5e288c7e0c059cc56d7ac1646942a39e|497            |\n",
            "|13e999f0fe9591bcf4f4eea2379b9a61|496            |\n",
            "+--------------------------------+---------------+\n",
            "only showing top 10 rows\n",
            "\n"
          ],
          "name": "stdout"
        }
      ]
    },
    {
      "cell_type": "markdown",
      "metadata": {
        "id": "-qWS88DgI7mz"
      },
      "source": [
        "User 1 -> 1a005fecd058d6383e2db01d06a74743 -> 10 distinct artists\n",
        "\n",
        "User 2 -> 2b9384c530a562c8b2b931b7a5da9773 -> 100 distinct artists\n",
        "\n",
        "User 3 -> f2ed2c13b1ee9c9b490b303d700eda9f -> 500 distinct artists"
      ]
    },
    {
      "cell_type": "code",
      "metadata": {
        "id": "Sb8MgxRcFt2Z"
      },
      "source": [
        "joined_artist_df.createOrReplaceTempView('joined_artist_table')\n",
        "\n",
        "# ss.sql(\"SELECT artistname, COUNT(artistname) FROM joined_artist_table WHERE user_id = 'f2ed2c13b1ee9c9b490b303d700eda9f' GROUP BY artistname ORDER BY COUNT(artistname) DESC\").show()\n",
        "# ss.sql(\"SELECT user_id, COUNT(DISTINCT artistname) FROM joined_artist_table WHERE COUNT(DISTINCT artistname) <= 10 GROUP BY user_id ORDER BY COUNT(DISTINCT artistname) DESC LIMIT 10\").show(truncate=False)\n",
        "# ss.sql(\"SELECT user_id, COUNT(DISTINCT artistname) FROM joined_artist_table GROUP BY user_id ORDER BY COUNT(DISTINCT artistname) LIMIT 10\").show(truncate=False)\n",
        "\n",
        "# user_artist_count = ss.sql(\"SELECT artistname, COUNT(artistname) FROM joined_artist_table WHERE user_id == 'd481556edb513b3d2ea28ed7a68491c4' GROUP BY artistname ORDER BY COUNT(artistname) DESC LIMIT 10\").collect()\n",
        "# ss.sql(\"SELECT COUNT(artistname) FROM joined_artist_table WHERE user_id == 'd481556edb513b3d2ea28ed7a68491c4'\").show()"
      ],
      "execution_count": null,
      "outputs": []
    },
    {
      "cell_type": "code",
      "metadata": {
        "id": "UHEBrS0AJKn6"
      },
      "source": [
        "user_1_artist_count = ss.sql(\"SELECT artistname, COUNT(artistname) FROM joined_artist_table WHERE user_id = '1a005fecd058d6383e2db01d06a74743' GROUP BY artistname ORDER BY COUNT(artistname) DESC LIMIT 10\").collect()\n",
        "user_2_artist_count = ss.sql(\"SELECT artistname, COUNT(artistname) FROM joined_artist_table WHERE user_id = '2b9384c530a562c8b2b931b7a5da9773' GROUP BY artistname ORDER BY COUNT(artistname) DESC LIMIT 10\").collect()\n",
        "user_3_artist_count = ss.sql(\"SELECT artistname, COUNT(artistname) FROM joined_artist_table WHERE user_id = 'f2ed2c13b1ee9c9b490b303d700eda9f' GROUP BY artistname ORDER BY COUNT(artistname) DESC LIMIT 10\").collect()"
      ],
      "execution_count": null,
      "outputs": []
    },
    {
      "cell_type": "code",
      "metadata": {
        "colab": {
          "base_uri": "https://localhost:8080/"
        },
        "id": "egQ3ax81Fto1",
        "outputId": "a87beda0-a9a0-4f36-dcca-19860b69ae69"
      },
      "source": [
        "# Creating artists profile for the 3 users\n",
        "joined_artist_rdd = joined_artist_df.rdd.map(list)\n",
        "joined_artist_rdd.take(2)"
      ],
      "execution_count": null,
      "outputs": [
        {
          "output_type": "execute_result",
          "data": {
            "text/plain": [
              "[['b5daa64b8ae6b352e5c77f3c4e832181',\n",
              "  '*NSYNC',\n",
              "  \"Tearin' Up My Heart\",\n",
              "  \"Get Movin'\",\n",
              "  '*NSYNC',\n",
              "  DenseVector([0.1574, 0.6512, 0.7193, 0.0405, 0.0036, 0.6207, 0.4821, 0.5267, 0.2194, 0.8798, 0.0697, 1.0, 0.0243, 1.0, 0.0, 0.0, 0.0, 0.0, 0.0, 0.0, 0.0, 0.0, 0.0, 0.0])],\n",
              " ['ccdbbd7f10743262dcb0081a251ae555',\n",
              "  '*NSYNC',\n",
              "  'Bye Bye Bye',\n",
              "  'Fascinate',\n",
              "  '*NSYNC',\n",
              "  DenseVector([0.1574, 0.6512, 0.7193, 0.0405, 0.0036, 0.6207, 0.4821, 0.5267, 0.2194, 0.8798, 0.0697, 1.0, 0.0243, 1.0, 0.0, 0.0, 0.0, 0.0, 0.0, 0.0, 0.0, 0.0, 0.0, 0.0])]]"
            ]
          },
          "metadata": {
            "tags": []
          },
          "execution_count": 93
        }
      ]
    },
    {
      "cell_type": "code",
      "metadata": {
        "id": "9kBjAqWNFtj8"
      },
      "source": [
        "# Creating the artist profile for that user (the profile would be a weighted average)\n",
        "\n",
        "user_1_artist_profile = joined_artist_rdd.map(lambda l: (l[0], (l[-1], 1)))\\\n",
        "                                        .filter(lambda l: l[0] == '1a005fecd058d6383e2db01d06a74743')\\\n",
        "                                        .reduceByKey(lambda a,b: (a[0]+b[0], a[1]+b[1]))\\\n",
        "                                        .map(lambda kv: kv[1][0] / kv[1][1])\\\n",
        "                                        .collect()\n",
        "user_2_artist_profile = joined_artist_rdd.map(lambda l: (l[0], (l[-1], 1)))\\\n",
        "                                        .filter(lambda l: l[0] == '2b9384c530a562c8b2b931b7a5da9773')\\\n",
        "                                        .reduceByKey(lambda a,b: (a[0]+b[0], a[1]+b[1]))\\\n",
        "                                        .map(lambda kv: kv[1][0] / kv[1][1])\\\n",
        "                                        .collect()\n",
        "user_3_artist_profile = joined_artist_rdd.map(lambda l: (l[0], (l[-1], 1)))\\\n",
        "                                        .filter(lambda l: l[0] == 'f2ed2c13b1ee9c9b490b303d700eda9f')\\\n",
        "                                        .reduceByKey(lambda a,b: (a[0]+b[0], a[1]+b[1]))\\\n",
        "                                        .map(lambda kv: kv[1][0] / kv[1][1])\\\n",
        "                                        .collect()"
      ],
      "execution_count": null,
      "outputs": []
    },
    {
      "cell_type": "code",
      "metadata": {
        "colab": {
          "base_uri": "https://localhost:8080/"
        },
        "id": "KJ1H34byN1Kr",
        "outputId": "af813ea9-d166-4c7a-c1da-e4ea42fd1eef"
      },
      "source": [
        "user_1_artist_profile[0]"
      ],
      "execution_count": null,
      "outputs": [
        {
          "output_type": "execute_result",
          "data": {
            "text/plain": [
              "DenseVector([0.1719, 0.6321, 0.6785, 0.042, 0.1063, 0.6541, 0.4399, 0.5693, 0.1905, 0.8184, 0.0421, 0.9545, 0.0252, 0.0909, 0.0, 0.0455, 0.0455, 0.5, 0.0909, 0.0, 0.1818, 0.0, 0.0455, 0.0])"
            ]
          },
          "metadata": {
            "tags": []
          },
          "execution_count": 39
        }
      ]
    },
    {
      "cell_type": "code",
      "metadata": {
        "id": "zC54YTCiIvWB"
      },
      "source": [
        "# Finding similar artists for the user using the nearest neighbour module of the randomized projection LSH\n",
        "user_1_artist_neighbours = brp_model.approxNearestNeighbors(artistdF_hashed, user_1_artist_profile[0], 10, distCol='Distance_Measure').collect()\n",
        "user_2_artist_neighbours = brp_model.approxNearestNeighbors(artistdF_hashed, user_2_artist_profile[0], 10, distCol='Distance_Measure').collect()\n",
        "user_3_artist_neighbours = brp_model.approxNearestNeighbors(artistdF_hashed, user_3_artist_profile[0], 10, distCol='Distance_Measure').collect()"
      ],
      "execution_count": null,
      "outputs": []
    },
    {
      "cell_type": "code",
      "metadata": {
        "colab": {
          "base_uri": "https://localhost:8080/"
        },
        "id": "xTMbvVhnQKZc",
        "outputId": "abc6c944-9b59-483d-f6d7-e5b82867a6c6"
      },
      "source": [
        "user_3_artist_neighbours"
      ],
      "execution_count": null,
      "outputs": [
        {
          "output_type": "execute_result",
          "data": {
            "text/plain": [
              "[Row(artists='Paula Cole', scaled_features=DenseVector([0.2892, 0.5903, 0.5572, 0.0536, 0.0, 0.6031, 0.5088, 0.5954, 0.1938, 0.8523, 0.0437, 1.0, 0.0035, 0.0, 0.0, 0.0, 0.0, 0.0, 0.0, 0.0, 0.0, 0.0, 0.0, 0.0]), hashed_projections=[DenseVector([-1.0]), DenseVector([0.0]), DenseVector([-1.0]), DenseVector([-1.0]), DenseVector([0.0])], Distance_Measure=0.4062117136992124),\n",
              " Row(artists='Industria del Amor', scaled_features=DenseVector([0.2741, 0.5578, 0.5535, 0.0341, 0.0015, 0.6742, 0.4502, 0.5737, 0.2129, 0.8047, 0.039, 1.0, 0.0136, 0.0, 0.0, 0.0, 0.0, 0.0, 0.0, 0.0, 0.0, 0.0, 0.0, 0.0]), hashed_projections=[DenseVector([-1.0]), DenseVector([0.0]), DenseVector([-1.0]), DenseVector([-1.0]), DenseVector([0.0])], Distance_Measure=0.4117210286892202),\n",
              " Row(artists='Mick Jagger', scaled_features=DenseVector([0.2139, 0.6504, 0.6872, 0.0476, 0.0274, 0.5641, 0.4649, 0.5663, 0.1203, 0.8349, 0.0736, 1.0, 0.0035, 0.0, 0.0, 0.0, 0.0, 0.0, 0.0, 0.0, 0.0, 0.0, 0.0, 0.0]), hashed_projections=[DenseVector([-1.0]), DenseVector([0.0]), DenseVector([-1.0]), DenseVector([-1.0]), DenseVector([0.0])], Distance_Measure=0.41340692247690713),\n",
              " Row(artists='Bertie Higgins', scaled_features=DenseVector([0.4023, 0.5967, 0.5777, 0.0405, 0.0, 0.6223, 0.4386, 0.542, 0.1927, 0.8077, 0.0342, 1.0, 0.0016, 0.0, 0.0, 0.0, 0.0, 0.0, 0.0, 0.0, 0.0, 0.0, 0.0, 0.0]), hashed_projections=[DenseVector([-1.0]), DenseVector([0.0]), DenseVector([-1.0]), DenseVector([-1.0]), DenseVector([0.0])], Distance_Measure=0.4170116861114263),\n",
              " Row(artists='Frankie Valli', scaled_features=DenseVector([0.4168, 0.5993, 0.5949, 0.0353, 0.0007, 0.6344, 0.4251, 0.5361, 0.1848, 0.832, 0.0659, 1.0, 0.0129, 0.0, 0.0, 0.0, 0.0, 0.0, 0.0, 0.0, 0.0, 0.0, 0.0, 0.0]), hashed_projections=[DenseVector([-1.0]), DenseVector([0.0]), DenseVector([-1.0]), DenseVector([-1.0]), DenseVector([0.0])], Distance_Measure=0.42003078085821277),\n",
              " Row(artists='Collective Soul', scaled_features=DenseVector([0.1469, 0.5868, 0.6725, 0.0403, 0.0374, 0.5989, 0.464, 0.5444, 0.1448, 0.8399, 0.0412, 1.0, 0.0148, 0.0, 0.0, 0.0, 0.0, 0.0, 0.0, 0.0, 0.0, 0.0, 0.0, 0.0]), hashed_projections=[DenseVector([-1.0]), DenseVector([0.0]), DenseVector([-1.0]), DenseVector([-1.0]), DenseVector([0.0])], Distance_Measure=0.4204483315637954),\n",
              " Row(artists='The Bangles', scaled_features=DenseVector([0.1989, 0.601, 0.6649, 0.0337, 0.0026, 0.7043, 0.4827, 0.5425, 0.2074, 0.8106, 0.0504, 1.0, 0.0085, 0.0, 0.0, 0.0, 0.0, 0.0, 0.0, 0.0, 0.0, 0.0, 0.0, 0.0]), hashed_projections=[DenseVector([-1.0]), DenseVector([0.0]), DenseVector([-1.0]), DenseVector([-1.0]), DenseVector([0.0])], Distance_Measure=0.42148936438527),\n",
              " Row(artists='G. Love & Special Sauce', scaled_features=DenseVector([0.3013, 0.6933, 0.5992, 0.0408, 0.0019, 0.6856, 0.4552, 0.4897, 0.1725, 0.834, 0.1194, 1.0, 0.0076, 0.0, 0.0, 0.0, 0.0, 0.0, 0.0, 0.0, 0.0, 0.0, 0.0, 0.0]), hashed_projections=[DenseVector([-1.0]), DenseVector([0.0]), DenseVector([-1.0]), DenseVector([-1.0]), DenseVector([0.0])], Distance_Measure=0.4224141318340988),\n",
              " Row(artists='Pablo Olivares', scaled_features=DenseVector([0.262, 0.6126, 0.622, 0.054, 0.0, 0.551, 0.5474, 0.6156, 0.107, 0.8665, 0.0321, 1.0, 0.0003, 0.0, 0.0, 0.0, 0.0, 0.0, 0.0, 0.0, 0.0, 0.0, 0.0, 0.0]), hashed_projections=[DenseVector([-1.0]), DenseVector([0.0]), DenseVector([-1.0]), DenseVector([-1.0]), DenseVector([0.0])], Distance_Measure=0.4231127389517838),\n",
              " Row(artists='Mike & The Mechanics', scaled_features=DenseVector([0.354, 0.6372, 0.537, 0.0464, 0.0001, 0.5942, 0.4466, 0.4921, 0.1167, 0.7667, 0.0338, 1.0, 0.0041, 0.0, 0.0, 0.0, 0.0, 0.0, 0.0, 0.0, 0.0, 0.0, 0.0, 0.0]), hashed_projections=[DenseVector([-1.0]), DenseVector([0.0]), DenseVector([-1.0]), DenseVector([-1.0]), DenseVector([0.0])], Distance_Measure=0.4238330615827651)]"
            ]
          },
          "metadata": {
            "tags": []
          },
          "execution_count": 100
        }
      ]
    },
    {
      "cell_type": "code",
      "metadata": {
        "id": "7_t7fmX4NY_n"
      },
      "source": [
        "from pyspark.ml.feature import PCA, PCAModel"
      ],
      "execution_count": null,
      "outputs": []
    },
    {
      "cell_type": "code",
      "metadata": {
        "colab": {
          "base_uri": "https://localhost:8080/"
        },
        "id": "rog4S5FGIvR1",
        "outputId": "ab08cf7e-ab4d-448d-9754-936bfd7a87b4"
      },
      "source": [
        "# Map the artists features into 2-D space using PCA to visualize the data and the predictions \n",
        "pca = PCA(k=2, inputCol=\"scaled_features\", outputCol=\"pca_features\")\n",
        "model_pca = pca.fit(artistdF_dense)\n",
        "artistdF_pca = model_pca.transform(artistdF_dense)\n",
        "artistdF_pca.show(5, truncate=False)"
      ],
      "execution_count": null,
      "outputs": [
        {
          "output_type": "stream",
          "text": [
            "+-------------------------------------------------------------+----------------------------------------------------------------------------------------------------------------------------------------------------------------------------------------------------------------------------------------------------------------------------------------------+-----------------------------------------+\n",
            "|artists                                                      |scaled_features                                                                                                                                                                                                                                                                               |pca_features                             |\n",
            "+-------------------------------------------------------------+----------------------------------------------------------------------------------------------------------------------------------------------------------------------------------------------------------------------------------------------------------------------------------------------+-----------------------------------------+\n",
            "|Cats 1981 Original London Cast                               |[0.5773929049531459,0.4490365111561866,0.3863358333333334,0.042428419238233046,0.022717396666666667,0.3374705684493777,0.39999999999999997,0.5326623588358753,0.29032122435250585,0.746545325117103,0.1874221991701246,1.0,0.003468937243771681,0.0,0.0,0.0,0.0,0.0,1.0,0.0,0.0,0.0,0.0,0.0]  |[-0.16623025699176608,0.877388936872287] |\n",
            "|Cats 1983 Broadway Cast                                      |[0.8660024714241579,0.448002808550476,0.4068076923076924,0.049860581950225864,0.08115826423076923,0.2713071489559885,0.3481781376518219,0.4732375040582423,0.31807808740200255,0.8038538032669298,0.18279205234599427,1.0,0.007883948281299274,0.0,0.0,0.0,0.0,0.0,1.0,0.0,0.0,0.0,0.0,0.0]   |[-0.3916718992182785,0.808751484577461]  |\n",
            "|Fiddler On The Roof Motion Picture Chorus                    |[0.8600114744693056,0.35323094755143436,0.2865714285714285,0.05759359682597253,0.024592948571428568,0.35807986161164773,0.3609022556390977,0.3553540510733164,0.32874441401182064,0.7298308779349503,0.12294013040901007,1.0,0.001892147587511826,1.0,0.0,0.0,0.0,0.0,0.0,0.0,0.0,0.0,0.0,0.0]|[-0.4209217011305554,0.9429456581058435] |\n",
            "|Fiddler On The Roof Motion Picture Orchestra                 |[0.8884798453071545,0.43110960859439545,0.2457703703703704,0.0453312643178401,0.07358727925925927,0.3754083043689501,0.36257309941520466,0.40721230822405147,0.2779833314646635,0.7231689483490861,0.12780082987551872,1.0,0.008199306212551246,1.0,0.0,0.0,0.0,0.0,0.0,0.0,0.0,0.0,0.0,0.0]  |[-0.44892819908939496,0.9304032309785507]|\n",
            "|Joseph And The Amazing Technicolor Dreamcoat 1991 London Cast|[0.6078759482373939,0.4435429344151455,0.4293333333333333,0.03967397117355485,0.03753356,0.46283215607130834,0.44795321637426916,0.5526224340927912,0.21807377508689318,0.7915095330732251,0.08921161825726144,1.0,0.002522863450015768,0.0,0.0,0.0,0.0,0.0,0.0,0.0,0.0,0.0,0.0,0.0]          |[-0.07437861231722288,0.9800651274333844]|\n",
            "+-------------------------------------------------------------+----------------------------------------------------------------------------------------------------------------------------------------------------------------------------------------------------------------------------------------------------------------------------------------------+-----------------------------------------+\n",
            "only showing top 5 rows\n",
            "\n"
          ],
          "name": "stdout"
        }
      ]
    },
    {
      "cell_type": "code",
      "metadata": {
        "id": "EYbj6hbkF6Dz"
      },
      "source": [
        "user_1_recommended_artists = []\n",
        "user_1_listened_artist = []\n",
        "for i in user_1_artist_neighbours:\n",
        "  user_1_recommended_artists.append(i.artists)\n",
        "for i in user_1_artist_count:\n",
        "  user_1_listened_artist.append(i.artistname)"
      ],
      "execution_count": null,
      "outputs": []
    },
    {
      "cell_type": "code",
      "metadata": {
        "colab": {
          "base_uri": "https://localhost:8080/"
        },
        "id": "dRUo8dRBVja0",
        "outputId": "975cdfe3-42d9-4532-a65a-c8183707c991"
      },
      "source": [
        "# Top 10 Artists Recommended to the 3 users by the LSH model\n",
        "user_1_recommended_artists = []\n",
        "user_1_recommended_artist_x = []\n",
        "user_1_recommended_artist_y = []\n",
        "\n",
        "user_2_recommended_artists = []\n",
        "user_2_recommended_artist_x = []\n",
        "user_2_recommended_artist_y = []\n",
        "\n",
        "user_3_recommended_artists = []\n",
        "user_3_recommended_artist_x = []\n",
        "user_3_recommended_artist_y = []\n",
        "\n",
        "for i in user_1_artist_neighbours:\n",
        "  coordinate = artistdF_pca.filter(artistdF_pca.artists == i.artists).select('pca_features').collect()[0]['pca_features'].toArray()\n",
        "  user_1_recommended_artists.append((i.artists, coordinate))\n",
        "  user_1_recommended_artist_x.append(coordinate[0])\n",
        "  user_1_recommended_artist_y.append(coordinate[1])\n",
        "\n",
        "for i in user_2_artist_neighbours:\n",
        "  coordinate = artistdF_pca.filter(artistdF_pca.artists == i.artists).select('pca_features').collect()[0]['pca_features'].toArray()\n",
        "  user_2_recommended_artists.append((i.artists, coordinate))\n",
        "  user_2_recommended_artist_x.append(coordinate[0])\n",
        "  user_2_recommended_artist_y.append(coordinate[1])\n",
        "\n",
        "for i in user_3_artist_neighbours:\n",
        "  coordinate = artistdF_pca.filter(artistdF_pca.artists == i.artists).select('pca_features').collect()[0]['pca_features'].toArray()\n",
        "  user_3_recommended_artists.append((i.artists, coordinate))\n",
        "  user_3_recommended_artist_x.append(coordinate[0])\n",
        "  user_3_recommended_artist_y.append(coordinate[1])\n",
        "\n",
        "user_3_recommended_artists"
      ],
      "execution_count": null,
      "outputs": [
        {
          "output_type": "execute_result",
          "data": {
            "text/plain": [
              "[('Paula Cole', array([0.28833075, 1.08792407])),\n",
              " ('Industria del Amor', array([0.27784009, 1.08861629])),\n",
              " ('Mick Jagger', array([0.37492812, 1.10834063])),\n",
              " ('Bertie Higgins', array([0.19543854, 1.06369981])),\n",
              " ('Frankie Valli', array([0.19542927, 1.0642212 ])),\n",
              " ('Collective Soul', array([0.40287414, 1.11724929])),\n",
              " ('The Bangles', array([0.39844198, 1.12197635])),\n",
              " ('G. Love & Special Sauce', array([0.31005065, 1.09492559])),\n",
              " ('Pablo Olivares', array([0.34369542, 1.10048845])),\n",
              " ('Mike & The Mechanics', array([0.20691348, 1.06368147]))]"
            ]
          },
          "metadata": {
            "tags": []
          },
          "execution_count": 135
        }
      ]
    },
    {
      "cell_type": "code",
      "metadata": {
        "colab": {
          "base_uri": "https://localhost:8080/"
        },
        "id": "-ARfKEvOTS20",
        "outputId": "375e6410-48c9-4564-bd10-81e73a9dffba"
      },
      "source": [
        "# The top 10 artists listened by the three users by their count\n",
        "user_1_listened_artist = []\n",
        "user_1_listened_artist_x = []\n",
        "user_1_listened_artist_y = []\n",
        "\n",
        "user_2_listened_artist = []\n",
        "user_2_listened_artist_x = []\n",
        "user_2_listened_artist_y = []\n",
        "\n",
        "user_3_listened_artist = []\n",
        "user_3_listened_artist_x = []\n",
        "user_3_listened_artist_y = []\n",
        "\n",
        "for i in user_1_artist_count:\n",
        "  coordinate = artistdF_pca.filter(artistdF_pca.artists == i.artistname).select('pca_features').collect()[0]['pca_features'].toArray()\n",
        "  user_1_listened_artist.append((i.artistname, coordinate))\n",
        "  user_1_listened_artist_x.append(coordinate[0])\n",
        "  user_1_listened_artist_y.append(coordinate[1])\n",
        "\n",
        "for i in user_2_artist_count:\n",
        "  coordinate = artistdF_pca.filter(artistdF_pca.artists == i.artistname).select('pca_features').collect()[0]['pca_features'].toArray()\n",
        "  user_2_listened_artist.append((i.artistname, coordinate))\n",
        "  user_2_listened_artist_x.append(coordinate[0])\n",
        "  user_2_listened_artist_y.append(coordinate[1])\n",
        "\n",
        "for i in user_3_artist_count:\n",
        "  coordinate = artistdF_pca.filter(artistdF_pca.artists == i.artistname).select('pca_features').collect()[0]['pca_features'].toArray()\n",
        "  user_3_listened_artist.append((i.artistname, coordinate))\n",
        "  user_3_listened_artist_x.append(coordinate[0])\n",
        "  user_3_listened_artist_y.append(coordinate[1])\n",
        "\n",
        "user_3_listened_artist"
      ],
      "execution_count": null,
      "outputs": [
        {
          "output_type": "execute_result",
          "data": {
            "text/plain": [
              "[('Madonna', array([0.35130136, 1.16235194])),\n",
              " ('Prince', array([0.3824037 , 1.11730787])),\n",
              " ('Wendy & Lisa', array([0.57298959, 1.13042296])),\n",
              " ('Panic! At The Disco', array([0.51454401, 1.11426418])),\n",
              " ('Diana Ross', array([0.16557685, 0.97995219])),\n",
              " ('Cobra Starship', array([0.88403589, 0.52172799])),\n",
              " ('Fall Out Boy', array([0.59548681, 1.19064875])),\n",
              " ('Janet Jackson', array([0.43552875, 1.13067254])),\n",
              " ('Fleetwood Mac', array([0.16829149, 1.01558118])),\n",
              " ('My Chemical Romance', array([0.46825868, 1.14498418]))]"
            ]
          },
          "metadata": {
            "tags": []
          },
          "execution_count": 136
        }
      ]
    },
    {
      "cell_type": "code",
      "metadata": {
        "id": "u-hqMVFZSUm1"
      },
      "source": [
        "import matplotlib.pyplot as plt\n",
        "from matplotlib.lines import Line2D"
      ],
      "execution_count": null,
      "outputs": []
    },
    {
      "cell_type": "code",
      "metadata": {
        "colab": {
          "base_uri": "https://localhost:8080/"
        },
        "id": "S-T7BvkovcN1",
        "outputId": "abfd93eb-c899-4b4e-c489-9b7c917ac1e9"
      },
      "source": [
        "user_2_listened_artist[0:3]"
      ],
      "execution_count": null,
      "outputs": [
        {
          "output_type": "execute_result",
          "data": {
            "text/plain": [
              "[('Manic Street Preachers', array([0.42487532, 1.17729303])),\n",
              " ('Jamie T', array([0.53165212, 1.41391402])),\n",
              " ('The Breeders', array([0.14197417, 0.92419608]))]"
            ]
          },
          "metadata": {
            "tags": []
          },
          "execution_count": 234
        }
      ]
    },
    {
      "cell_type": "code",
      "metadata": {
        "colab": {
          "base_uri": "https://localhost:8080/",
          "height": 934
        },
        "id": "-6_IcbkrWZkw",
        "outputId": "f8fbabed-2516-47c3-aa2c-860c88b3bfa8"
      },
      "source": [
        "fig = plt.figure(figsize=(8,16))\n",
        "\n",
        "ax1 = fig.add_subplot(311)\n",
        "ax2 = fig.add_subplot(312)\n",
        "ax3 = fig.add_subplot(313)\n",
        "\n",
        "priority_list = [10,9,8,7,6,5,4,3,2,1]\n",
        "\n",
        "legend_elements = [Line2D([0], [0], color='w', marker='o', markerfacecolor='b', label='Current Artist'),\n",
        "                   Line2D([0], [0], color='w', marker='o', markerfacecolor='r', label='Recommended Artist'),\n",
        "                   ]\n",
        "\n",
        "ax1.scatter(user_1_listened_artist_x, user_1_listened_artist_y, s=80, c=priority_list, cmap='Blues', marker=\"o\", edgecolors='face')\n",
        "ax1.scatter(user_1_recommended_artist_x, user_1_recommended_artist_y,  s=120, c=priority_list, cmap='Reds', marker=\"o\", edgecolors='face')\n",
        "\n",
        "ax2.scatter(user_2_listened_artist_x, user_2_listened_artist_y, s=80, c=priority_list, cmap='Blues', marker=\"o\", edgecolors='face')\n",
        "ax2.scatter(user_2_recommended_artist_x, user_2_recommended_artist_y, s=120, c=priority_list, cmap='Reds', marker=\"o\", edgecolors='face')\n",
        "\n",
        "ax3.scatter(user_3_listened_artist_x, user_3_listened_artist_y, s=80, c=priority_list, cmap='Blues', marker=\"o\", edgecolors='face')\n",
        "ax3.scatter(user_3_recommended_artist_x, user_3_recommended_artist_y, s=120, c=priority_list, cmap='Reds', marker=\"o\", edgecolors='face')\n",
        "\n",
        "for i in user_1_listened_artist:\n",
        "  if i[0] == 'The Cars':\n",
        "    ax1.annotate(i[0], (i[1][0],i[1][1]), (0.6, 1.1), 'data', \\\n",
        "                  arrowprops=dict(arrowstyle=\"->\", \\\n",
        "                  connectionstyle=\"angle3\", lw=1), \\\n",
        "                  size=8, ha=\"center\")\n",
        "  if i[0] == 'Survivor':\n",
        "    ax1.annotate(i[0], (i[1][0],i[1][1]), (0.15, 1.4), 'data', \\\n",
        "                  arrowprops=dict(arrowstyle=\"->\", \\\n",
        "                  connectionstyle=\"angle3\", lw=1), \\\n",
        "                  size=8, ha=\"center\")\n",
        "  if i[0] == 'Vince DiCola':\n",
        "    ax1.annotate(i[0], (i[1][0],i[1][1]), (0.15, 0.8), 'data', \\\n",
        "                  arrowprops=dict(arrowstyle=\"->\", \\\n",
        "                  connectionstyle=\"angle3\", lw=1), \\\n",
        "                  size=8, ha=\"center\")\n",
        "\n",
        "for i in user_1_recommended_artists:\n",
        "  if i[0] == 'The The':\n",
        "    ax1.annotate(i[0], (i[1][0],i[1][1]), (0.45, 0.8), 'data', \\\n",
        "                  arrowprops=dict(arrowstyle=\"->\", \\\n",
        "                  connectionstyle=\"angle3\", lw=1), \\\n",
        "                  size=8, ha=\"center\")\n",
        "  if i[0] == 'Collective Soul':\n",
        "    ax1.annotate(i[0], (i[1][0],i[1][1]), (0.35, 0.8), 'data', \\\n",
        "                  arrowprops=dict(arrowstyle=\"->\", \\\n",
        "                  connectionstyle=\"angle3\", lw=1), \\\n",
        "                  size=8, ha=\"center\")\n",
        "  if i[0] == 'Little Texas':\n",
        "    ax1.annotate(i[0], (i[1][0],i[1][1]), (0.55, 0.8), 'data', \\\n",
        "                  arrowprops=dict(arrowstyle=\"->\", \\\n",
        "                  connectionstyle=\"angle3\", lw=1), \\\n",
        "                  size=8, ha=\"center\")\n",
        "    \n",
        "for i in user_2_listened_artist:\n",
        "  if i[0] == 'Manic Street Preachers':\n",
        "    ax2.annotate(i[0], (i[1][0],i[1][1]), (0.6, 1.3), 'data', \\\n",
        "                  arrowprops=dict(arrowstyle=\"->\", \\\n",
        "                  connectionstyle=\"angle3\", lw=1), \\\n",
        "                  size=8, ha=\"center\")\n",
        "  if i[0] == 'Jamie T':\n",
        "    ax2.annotate(i[0], (i[1][0],i[1][1]), (0.4, 1.4), 'data', \\\n",
        "                  arrowprops=dict(arrowstyle=\"->\", \\\n",
        "                  connectionstyle=\"angle3\", lw=1), \\\n",
        "                  size=8, ha=\"center\")\n",
        "  if i[0] == 'The Breeders':\n",
        "    ax2.annotate(i[0], (i[1][0],i[1][1]), (0.2, 0.7), 'data', \\\n",
        "                  arrowprops=dict(arrowstyle=\"->\", \\\n",
        "                  connectionstyle=\"angle3\", lw=1), \\\n",
        "                  size=8, ha=\"center\")\n",
        "\n",
        "for i in user_2_recommended_artists:\n",
        "  if i[0] == 'Mick Jagger':\n",
        "    ax2.annotate(i[0], (i[1][0],i[1][1]), (0.43, 0.7), 'data', \\\n",
        "                  arrowprops=dict(arrowstyle=\"->\", \\\n",
        "                  connectionstyle=\"angle3\", lw=1), \\\n",
        "                  size=8, ha=\"center\")\n",
        "  if i[0] == 'Collective Soul':\n",
        "    ax2.annotate(i[0], (i[1][0],i[1][1]), (0.22, 1.25), 'data', \\\n",
        "                  arrowprops=dict(arrowstyle=\"->\", \\\n",
        "                  connectionstyle=\"angle3\", lw=1), \\\n",
        "                  size=8, ha=\"center\")\n",
        "  if i[0] == 'Vampire Weekend':\n",
        "    ax2.annotate(i[0], (i[1][0],i[1][1]), (0.63, 0.7), 'data', \\\n",
        "                  arrowprops=dict(arrowstyle=\"->\", \\\n",
        "                  connectionstyle=\"angle3\", lw=1), \\\n",
        "                  size=8, ha=\"center\")\n",
        "    \n",
        "for i in user_3_listened_artist:\n",
        " \n",
        "  if ((0.35 < i[1][0] < 0.45) and (1.1 < i[1][1] < 1.2)):\n",
        "    if i[0] == \"Madonna\":\n",
        "      ax3.annotate(i[0], (i[1][0],i[1][1]), (0.25, 1.2), 'data', \\\n",
        "                arrowprops=dict(arrowstyle=\"->\", \\\n",
        "                connectionstyle=\"angle3\", lw=1), \\\n",
        "                size=8, ha=\"center\")\n",
        "    if i[0] == \"Prince\":\n",
        "      ax3.annotate(i[0], (i[1][0],i[1][1]), (0.45, 1.2), 'data', \\\n",
        "                arrowprops=dict(arrowstyle=\"->\", \\\n",
        "                connectionstyle=\"angle3\", lw=1), \\\n",
        "                size=8, ha=\"center\")\n",
        "  if i[0] == 'Wendy & Lisa':\n",
        "      ax3.annotate(i[0], (i[1][0],i[1][1]), (0.7, 1), 'data', \\\n",
        "                arrowprops=dict(arrowstyle=\"->\", \\\n",
        "                connectionstyle=\"angle3\", lw=1), \\\n",
        "                size=8, ha=\"center\")\n",
        "      \n",
        "for i in user_3_recommended_artists:\n",
        "  if i[0] == 'Paula Cole':\n",
        "    ax3.annotate(i[0], (i[1][0],i[1][1]), (0.4, 0.9), 'data', \\\n",
        "                arrowprops=dict(arrowstyle=\"->\", \\\n",
        "                connectionstyle=\"angle3\", lw=1), \\\n",
        "                size=8, ha=\"center\")\n",
        "  if i[0] == 'Industria del Amor':\n",
        "    ax3.annotate(i[0], (i[1][0],i[1][1]), (0.25, 0.9), 'data', \\\n",
        "                arrowprops=dict(arrowstyle=\"->\", \\\n",
        "                connectionstyle=\"angle3\", lw=1), \\\n",
        "                size=8, ha=\"center\")\n",
        "  if i[0] == 'Mick Jagger':\n",
        "    ax3.annotate(i[0], (i[1][0],i[1][1]), (0.55, 0.9), 'data', \\\n",
        "                arrowprops=dict(arrowstyle=\"->\", \\\n",
        "                connectionstyle=\"angle3\", lw=1), \\\n",
        "                size=8, ha=\"center\")\n",
        "    \n",
        "ax1.set_title('User 1')\n",
        "ax2.set_title('User 2')\n",
        "ax3.set_title('User 3')\n",
        "\n",
        "ax1.legend(handles=legend_elements, loc='lower left')\n",
        "ax2.legend(handles=legend_elements, loc='upper right')\n",
        "ax3.legend(handles=legend_elements, loc='lower left')\n",
        "\n",
        "plt.show()"
      ],
      "execution_count": null,
      "outputs": [
        {
          "output_type": "display_data",
          "data": {
            "text/plain": [
              "<Figure size 576x1152 with 3 Axes>"
            ],
            "image/png": "[encoded data removed]"
          },
          "metadata": {
            "tags": [],
            "needs_background": "light"
          }
        }
      ]
    },
    {
      "cell_type": "code",
      "metadata": {
        "id": "lv9FjyOQ-MWa"
      },
      "source": [
        "from sklearn.metrics.pairwise import cosine_similarity"
      ],
      "execution_count": null,
      "outputs": []
    },
    {
      "cell_type": "code",
      "metadata": {
        "colab": {
          "base_uri": "https://localhost:8080/"
        },
        "id": "EnUZqCWl-qKo",
        "outputId": "5cc8804b-0684-4356-a538-12097e12c94f"
      },
      "source": [
        "artistdF_dense.show(2, truncate=False)"
      ],
      "execution_count": null,
      "outputs": [
        {
          "output_type": "stream",
          "text": [
            "+------------------------------+--------------------------------------------------------------------------------------------------------------------------------------------------------------------------------------------------------------------------------------------------------------------------------------------+\n",
            "|artists                       |scaled_features                                                                                                                                                                                                                                                                             |\n",
            "+------------------------------+--------------------------------------------------------------------------------------------------------------------------------------------------------------------------------------------------------------------------------------------------------------------------------------------+\n",
            "|Cats 1981 Original London Cast|[0.5773929049531459,0.4490365111561866,0.3863358333333334,0.042428419238233046,0.022717396666666667,0.3374705684493777,0.39999999999999997,0.5326623588358753,0.29032122435250585,0.746545325117103,0.1874221991701246,1.0,0.003468937243771681,0.0,0.0,0.0,0.0,0.0,1.0,0.0,0.0,0.0,0.0,0.0]|\n",
            "|Cats 1983 Broadway Cast       |[0.8660024714241579,0.448002808550476,0.4068076923076924,0.049860581950225864,0.08115826423076923,0.2713071489559885,0.3481781376518219,0.4732375040582423,0.31807808740200255,0.8038538032669298,0.18279205234599427,1.0,0.007883948281299274,0.0,0.0,0.0,0.0,0.0,1.0,0.0,0.0,0.0,0.0,0.0] |\n",
            "+------------------------------+--------------------------------------------------------------------------------------------------------------------------------------------------------------------------------------------------------------------------------------------------------------------------------------------+\n",
            "only showing top 2 rows\n",
            "\n"
          ],
          "name": "stdout"
        }
      ]
    },
    {
      "cell_type": "code",
      "metadata": {
        "colab": {
          "base_uri": "https://localhost:8080/"
        },
        "id": "YzqBOVEs_yjj",
        "outputId": "b139da14-43db-4467-c300-638dffa2ab33"
      },
      "source": [
        "user_1_listened_artist[0:3]"
      ],
      "execution_count": null,
      "outputs": [
        {
          "output_type": "execute_result",
          "data": {
            "text/plain": [
              "['The Cars', 'Survivor', 'Vince DiCola']"
            ]
          },
          "metadata": {
            "tags": []
          },
          "execution_count": 23
        }
      ]
    },
    {
      "cell_type": "code",
      "metadata": {
        "id": "rg-pkYCwbkTM"
      },
      "source": [
        "# Cosine Similarity for user 1 \n",
        "user_1_top_3_listened = []\n",
        "user_1_top_3_r = []\n",
        "\n",
        "for i in user_1_listened_artist[0:3]:\n",
        "  user_1_top_3_listened.append(i)\n",
        "for i in user_1_recommended_artists[0:3]:\n",
        "  user_1_top_3_r.append(i)\n",
        "\n",
        "user_1_top_3_l_pd = artistdF_dense.filter((col('artists') == user_1_top_3_listened[0]) | (col('artists') == user_1_top_3_listened[1]) | (col('artists') == user_1_top_3_listened[2])).collect()\n",
        "user_1_top_3_r_pd = artistdF_dense.filter((col('artists') == user_1_top_3_r[0]) | (col('artists') == user_1_top_3_r[1]) | (col('artists') == user_1_top_3_r[2])).collect()\n",
        "\n",
        "user_1_listened_array = np.array([user_1_top_3_l_pd[0].scaled_features.toArray(), user_1_top_3_l_pd[1].scaled_features.toArray(),  user_1_top_3_l_pd[2].scaled_features.toArray()])\n",
        "user_1_recommended_array = np.array([user_1_top_3_r_pd[0].scaled_features.toArray(), user_1_top_3_r_pd[1].scaled_features.toArray(), user_1_top_3_r_pd[2].scaled_features.toArray()])"
      ],
      "execution_count": null,
      "outputs": []
    },
    {
      "cell_type": "code",
      "metadata": {
        "colab": {
          "base_uri": "https://localhost:8080/"
        },
        "id": "mFSnsGa7HGIp",
        "outputId": "92431fe3-fe23-4b95-9d4b-bdebcd4d23e8"
      },
      "source": [
        "user_1_top_3_listened"
      ],
      "execution_count": null,
      "outputs": [
        {
          "output_type": "execute_result",
          "data": {
            "text/plain": [
              "['The Cars', 'Survivor', 'Vince DiCola']"
            ]
          },
          "metadata": {
            "tags": []
          },
          "execution_count": 28
        }
      ]
    },
    {
      "cell_type": "code",
      "metadata": {
        "colab": {
          "base_uri": "https://localhost:8080/"
        },
        "id": "QfytSBDABKHr",
        "outputId": "81f84e3a-cbbb-451f-a3c4-e05f98b226fc"
      },
      "source": [
        "user_1_similarity_matrix = cosine_similarity(user_1_listened_array, user_1_recommended_array)\n",
        "user_1_similarity_matrix"
      ],
      "execution_count": null,
      "outputs": [
        {
          "output_type": "execute_result",
          "data": {
            "text/plain": [
              "array([[0.87368485, 0.77622551, 0.86828202],\n",
              "       [0.8841403 , 0.99744603, 0.8866511 ],\n",
              "       [0.78794648, 0.68279092, 0.79785186]])"
            ]
          },
          "metadata": {
            "tags": []
          },
          "execution_count": 27
        }
      ]
    },
    {
      "cell_type": "code",
      "metadata": {
        "id": "wA7JwGU-CqlB"
      },
      "source": [
        "# Cosine Similarity for User 2\n",
        "\n",
        "user_2_top_3_listened = []\n",
        "user_2_top_3_r = []\n",
        "\n",
        "for i in user_2_listened_artist[0:3]:\n",
        "  user_2_top_3_listened.append(i[0])\n",
        "for i in user_2_recommended_artists[0:3]:\n",
        "  user_2_top_3_r.append(i[0])\n",
        "\n",
        "user_2_top_3_l_pd = artistdF_dense.filter((col('artists') == user_2_top_3_listened[0]) | (col('artists') == user_2_top_3_listened[1]) |  (col('artists') == user_2_top_3_listened[2])).collect()\n",
        "user_2_top_3_r_pd = artistdF_dense.filter((col('artists') == user_2_top_3_r[0]) | (col('artists') == user_2_top_3_r[1]) | (col('artists') == user_2_top_3_r[2])).collect()\n",
        "\n",
        "user_2_listened_array = np.array([user_2_top_3_l_pd[0].scaled_features.toArray(), user_2_top_3_l_pd[1].scaled_features.toArray(), user_2_top_3_l_pd[2].scaled_features.toArray()])\n",
        "user_2_recommended_array = np.array([user_2_top_3_r_pd[0].scaled_features.toArray(), user_2_top_3_r_pd[1].scaled_features.toArray(), user_2_top_3_r_pd[2].scaled_features.toArray()])"
      ],
      "execution_count": null,
      "outputs": []
    },
    {
      "cell_type": "code",
      "metadata": {
        "colab": {
          "base_uri": "https://localhost:8080/"
        },
        "id": "rnVrBW0aDUQu",
        "outputId": "f266c8e7-bf6f-4682-f57d-0ea12b79c554"
      },
      "source": [
        "user_2_similarity_matrix = cosine_similarity(user_2_listened_array, user_2_recommended_array)\n",
        "user_2_similarity_matrix"
      ],
      "execution_count": null,
      "outputs": [
        {
          "output_type": "execute_result",
          "data": {
            "text/plain": [
              "array([[0.88330285, 0.88221803, 0.87639688],\n",
              "       [0.8393588 , 0.83497989, 0.8238842 ],\n",
              "       [0.8277222 , 0.82418499, 0.8279867 ]])"
            ]
          },
          "metadata": {
            "tags": []
          },
          "execution_count": 238
        }
      ]
    },
    {
      "cell_type": "code",
      "metadata": {
        "id": "g8OFc9OVDzFo"
      },
      "source": [
        "# Cosine Similarity for User 2\n",
        "\n",
        "user_3_top_3_listened = []\n",
        "user_3_top_3_r = []\n",
        "\n",
        "for i in user_3_listened_artist[0:3]:\n",
        "  user_3_top_3_listened.append(i[0])\n",
        "for i in user_3_recommended_artists[0:3]:\n",
        "  user_3_top_3_r.append(i[0])\n",
        "\n",
        "user_3_top_3_l_pd = artistdF_dense.filter((col('artists') == user_3_top_3_listened[0]) | (col('artists') == user_3_top_3_listened[1]) |  (col('artists') == user_3_top_3_listened[2])).collect()\n",
        "user_3_top_3_r_pd = artistdF_dense.filter((col('artists') == user_3_top_3_r[0]) | (col('artists') == user_3_top_3_r[1]) | (col('artists') == user_3_top_3_r[2])).collect()\n",
        "\n",
        "user_3_listened_array = np.array([user_3_top_3_l_pd[0].scaled_features.toArray(), user_3_top_3_l_pd[1].scaled_features.toArray(), user_3_top_3_l_pd[2].scaled_features.toArray()])\n",
        "user_3_recommended_array = np.array([user_3_top_3_r_pd[0].scaled_features.toArray(), user_3_top_3_r_pd[1].scaled_features.toArray(), user_3_top_3_r_pd[2].scaled_features.toArray()])"
      ],
      "execution_count": null,
      "outputs": []
    },
    {
      "cell_type": "code",
      "metadata": {
        "colab": {
          "base_uri": "https://localhost:8080/"
        },
        "id": "lHYvdlmtD_zJ",
        "outputId": "9c5a644c-db93-4c16-bd16-1d1df2c151d5"
      },
      "source": [
        "user_3_similarity_matrix = cosine_similarity(user_3_listened_array, user_3_recommended_array)\n",
        "user_3_similarity_matrix"
      ],
      "execution_count": null,
      "outputs": [
        {
          "output_type": "execute_result",
          "data": {
            "text/plain": [
              "array([[0.88004155, 0.88390298, 0.88055047],\n",
              "       [0.87376614, 0.87301854, 0.8731053 ],\n",
              "       [0.87155825, 0.8749894 , 0.86486928]])"
            ]
          },
          "metadata": {
            "tags": []
          },
          "execution_count": 240
        }
      ]
    },
    {
      "cell_type": "code",
      "metadata": {
        "colab": {
          "base_uri": "https://localhost:8080/"
        },
        "id": "__LgsmqWQyWQ",
        "outputId": "de9f8103-7990-4bc7-d5eb-e2c4eed6f45c"
      },
      "source": [
        "user_2_top_3_listened[0:3]"
      ],
      "execution_count": null,
      "outputs": [
        {
          "output_type": "execute_result",
          "data": {
            "text/plain": [
              "['L7', 'Paula Abdul', 'Pat Benatar']"
            ]
          },
          "metadata": {
            "tags": []
          },
          "execution_count": 233
        }
      ]
    },
    {
      "cell_type": "code",
      "metadata": {
        "colab": {
          "base_uri": "https://localhost:8080/"
        },
        "id": "s7Lu0QJ7RKNX",
        "outputId": "648cc897-34b0-4783-d193-e56f0865c75e"
      },
      "source": [
        "w_genredf = ss.read.csv(wgenresDataPath,header=True,inferSchema=True)\n",
        "w_genredf = w_genredf.withColumn('artists', translate('artists', '\"', ''))\n",
        "w_genredf.show(2, truncate=False)"
      ],
      "execution_count": null,
      "outputs": [
        {
          "output_type": "stream",
          "text": [
            "+------------------------------+------------------+------------------+-----------+------------------+--------------------+-------------------+-------------------+-------------------+------------------+------------------+-----------------+---+----+-----+--------------+\n",
            "|artists                       |acousticness      |danceability      |duration_ms|energy            |instrumentalness    |liveness           |loudness           |speechiness        |tempo             |valence           |popularity       |key|mode|count|genres        |\n",
            "+------------------------------+------------------+------------------+-----------+------------------+--------------------+-------------------+-------------------+-------------------+------------------+------------------+-----------------+---+----+-----+--------------+\n",
            "|Cats 1981 Original London Cast|0.5750833333333334|0.44275           |247260.0   |0.3863358333333334|0.022717396666666667|0.2877083333333333 |-14.205416666666665|0.18067500000000009|115.9835          |0.3344333333333333|38.0             |5  |1   |12   |['show tunes']|\n",
            "|Cats 1983 Broadway Cast       |0.8625384615384614|0.4417307692307693|287280.0   |0.4068076923076924|0.08115826423076923 |0.31521538461538456|-10.69             |0.17621153846153847|103.04415384615385|0.2688653846153846|33.07692307692308|5  |1   |26   |[]            |\n",
            "+------------------------------+------------------+------------------+-----------+------------------+--------------------+-------------------+-------------------+-------------------+------------------+------------------+-----------------+---+----+-----+--------------+\n",
            "only showing top 2 rows\n",
            "\n"
          ],
          "name": "stdout"
        }
      ]
    },
    {
      "cell_type": "code",
      "metadata": {
        "colab": {
          "base_uri": "https://localhost:8080/"
        },
        "id": "CbEj2jMoWcuw",
        "outputId": "5935750c-dea6-46d9-ba77-a664fe635ee6"
      },
      "source": [
        "user_1_l_genre = w_genredf.filter((col('artists') == user_1_top_3_listened[0]) | (col('artists') == user_1_top_3_listened[1]) | (col('artists') == user_1_top_3_listened[2])).select(['artists', 'genres']).collect()\n",
        "user_1_r_genre = w_genredf.filter((col('artists') == user_1_top_3_r[0]) | (col('artists') == user_1_top_3_r[1]) | (col('artists') == user_1_top_3_r[2])).select(['artists', 'genres']).collect()\n",
        "\n",
        "\n",
        "# user_2_l_genre = w_genredf.filter( (col('artists') == user_2_top_3_listened[0]) | (col('artists') == user_2_top_3_listened[1]) | (col('artists') == user_2_top_3_listened[2]) ).select(['artists', 'genres']).collect()\n",
        "# user_2_r_genre = w_genredf.filter( (col('artists') == user_2_top_3_r[0]) | (col('artists') == user_2_top_3_r[1]) | (col('artists') == user_2_top_3_r[2]) ).select(['artists', 'genres']).collect()\n",
        "\n",
        "# user_3_l_genre = w_genredf.filter( (col('artists') == user_3_top_3_listened[0]) | (col('artists') == user_3_top_3_listened[1]) | (col('artists') == user_3_top_3_listened[2]) ).select(['artists', 'genres']).collect()\n",
        "# user_3_r_genre = w_genredf.filter( (col('artists') == user_3_top_3_r[0]) | (col('artists') == user_3_top_3_r[1]) | (col('artists') == user_3_top_3_r[2]) ).select(['artists', 'genres']).collect()\n",
        "\n",
        "print(user_1_l_genre)\n",
        "print(user_1_r_genre)"
      ],
      "execution_count": null,
      "outputs": [
        {
          "output_type": "stream",
          "text": [
            "[Row(artists='Survivor', genres=\"['album rock', 'hard rock', 'rock', 'soft rock']\"), Row(artists='The Cars', genres=\"['album rock', 'art rock', 'classic rock', 'dance rock', 'folk rock', 'hard rock', 'mellow gold', 'new romantic', 'new wave', 'new wave pop', 'permanent wave', 'pop rock', 'power pop', 'rock', 'soft rock']\"), Row(artists='Vince DiCola', genres='[]')]\n",
            "[Row(artists='Collective Soul', genres=\"['alternative metal', 'alternative rock', 'nu metal', 'pop rock', 'post-grunge', 'rock']\"), Row(artists='Little Texas', genres=\"['country', 'country road', 'country rock']\"), Row(artists='The The', genres=\"['canadian contemporary r&b', 'canadian pop', 'pop']\")]\n"
          ],
          "name": "stdout"
        }
      ]
    },
    {
      "cell_type": "markdown",
      "metadata": {
        "id": "2aMVER3IEiA9"
      },
      "source": [
        "Qualitative Analysis\n",
        "\n",
        "User 1\n",
        "\n",
        "Top Artists Listened to:\n",
        "\n",
        "\n",
        "1.   Survivor - 'album rock', 'hard rock', 'rock', 'soft rock'\n",
        "2.   The Cars - 'album rock', 'art rock', 'classic rock', 'dance rock', 'folk rock', 'hard rock', 'mellow gold', 'new romantic', 'new wave', 'new wave pop', 'permanent wave', 'pop rock', 'power pop', 'rock', 'soft rock'\n",
        "3.   Vince DiCola - Film Score\n",
        "\n",
        "Top Artists Recommended:\n",
        "\n",
        "\n",
        "\n",
        "1.   Collective Soul - 'alternative metal', 'alternative rock', 'nu metal', 'pop rock', 'post-grunge', 'rock'\n",
        "2.   Little Texas - 'country', 'country road', 'country rock'\n",
        "3.   The The - canadian contemporary r&b', 'canadian pop', 'pop'\n",
        "\n",
        "\n",
        "User 2\n",
        "\n",
        "Top Artists Listened to:\n",
        "\n",
        "\n",
        "1.   Jamie T - Indie rock, post-punk revivial, alternative rock\n",
        "2.   Manic Street Preachers - 'alternative rock', 'britpop', 'modern rock', 'permanent wave', 'pop rock', 'rock', 'welsh rock'\n",
        "3.   The Breeders - 'alternative pop', 'alternative rock', 'boston rock', 'dance rock', 'dayton indie', 'indie rock', 'lilith', 'lo-fi', 'post-punk', 'rock'\n",
        "\n",
        "Top Artists Recommended:\n",
        "\n",
        "\n",
        "\n",
        "1.   Collective Soul - 'alternative metal', 'alternative rock', 'nu metal', 'pop rock', 'post-grunge', 'rock'\n",
        "2.   Mick Jagger - classic rock\n",
        "3.   Vampire Weekend' - 'baroque pop', 'indie pop', 'indie rock', 'modern rock', 'rock'\n",
        "\n",
        "User 3\n",
        "\n",
        "Top Artists Listened to:\n",
        "\n",
        "\n",
        "1.   Madonna - 'dance pop', 'pop'\n",
        "2.   Prince - 'funk', 'funk rock', 'minneapolis sound', 'motown', 'synth funk'\n",
        "3.   'Wendy & Lisa' - 'minneapolis sound', 'new wave pop'\n",
        "\n",
        "Top Artists Recommended:\n",
        "\n",
        "\n",
        "\n",
        "1.   Industria del Amor' - banda', 'cumbia', 'duranguense', 'grupera', 'norteno', 'ranchera', 'regional mexican'\n",
        "2.   Mick Jagger - classic rock\n",
        "3.   Paula Cole - 'ectofolk', 'folk', 'lilith', 'new wave pop', 'pop rock'\n",
        "\n",
        "\n"
      ]
    },
    {
      "cell_type": "markdown",
      "metadata": {
        "id": "fzssdTCGUTDx"
      },
      "source": [
        "# Playlist - Song Recommendation\n",
        "Which song to add next into the playlist?\n"
      ]
    },
    {
      "cell_type": "code",
      "metadata": {
        "id": "hreOCOV4A8lj"
      },
      "source": [
        "from pyspark.ml.feature import PCA, PCAModel"
      ],
      "execution_count": null,
      "outputs": []
    },
    {
      "cell_type": "code",
      "metadata": {
        "colab": {
          "base_uri": "https://localhost:8080/"
        },
        "id": "e2_M1wqQe33V",
        "outputId": "ab4d61dd-23c9-4fd4-8d93-832115ce575e"
      },
      "source": [
        "# Create hash projections of the songs dataframe\n",
        "datadf = ss.read.csv(DataPath,header=True,inferSchema=True,escape='\\\"',quote='\\\"')\n",
        "data_df = datadf.withColumn('artists',translate('artists', '[','')).\\\n",
        "                withColumn('artists',translate('artists', ']','')).\\\n",
        "                withColumn('artists',translate('artists', \"'\",'')).\\\n",
        "                withColumn('artists',split('artists',',')).\\\n",
        "                withColumn(\"duration_ms\",col(\"duration_ms\")/60000).withColumnRenamed(\"duration_ms\",\"duration\")\n",
        "dataDF = data_df.where((data_df['duration'] >= 0.5)&(data_df['duration'] <= 60))\n",
        "dataDF2 = dataDF.select(col(\"*\"),explode(dataDF.artists).alias('artistname_1'))\n",
        "dataDF2 = dataDF2.groupBy('name', 'artistname_1').agg(first(\"mode\").alias('mode'),mean('acousticness').alias('acousticness'),mean('danceability').alias('danceability'),\\\n",
        "                                    mean('duration').alias('duration'),mean('energy').alias('energy'), first('explicit').alias('explicit'),\\\n",
        "                                    mean('instrumentalness').alias('instrumentalness'),first('key').alias('key'),mean('liveness').alias('liveness'),\\\n",
        "                                    mean('loudness').alias('loudness'),mean('popularity').alias('popularity'),mean('speechiness').alias('speechiness'),\\\n",
        "                                    mean('tempo').alias('tempo'),mean('valence').alias('valence'),first('year').alias('year'))\n",
        "dataDF2.show(2, truncate=False)"
      ],
      "execution_count": null,
      "outputs": [
        {
          "output_type": "stream",
          "text": [
            "+----------------------------------------------------------------------------------------------+------------------------+----+------------+------------+-----------------+------+--------+------------------+---+--------+-------------------+----------+-----------+-----------------+-------+----+\n",
            "|name                                                                                          |artistname_1            |mode|acousticness|danceability|duration         |energy|explicit|instrumentalness  |key|liveness|loudness           |popularity|speechiness|tempo            |valence|year|\n",
            "+----------------------------------------------------------------------------------------------+------------------------+----+------------+------------+-----------------+------+--------+------------------+---+--------+-------------------+----------+-----------+-----------------+-------+----+\n",
            "|Dervenakia                                                                                    | Klarino G. Anestopoulos|0   |0.995       |0.214       |3.310216666666667|0.121 |0       |0.0521            |5  |0.157   |-18.112            |0.0       |0.0457     |84.38600000000002|0.343  |1930|\n",
            "|Symphony No. 6 in F Major, Op. 68 \"Pastoral\": 3. Lustiges Zusammensein der Landleute - Allegro| Hans Pfitzner          |1   |0.989       |0.344       |3.053516666666667|0.213 |0       |0.8270000000000001|5  |0.33    |-16.070999999999998|0.0       |0.0686     |73.907           |0.373  |1930|\n",
            "+----------------------------------------------------------------------------------------------+------------------------+----+------------+------------+-----------------+------+--------+------------------+---+--------+-------------------+----------+-----------+-----------------+-------+----+\n",
            "only showing top 2 rows\n",
            "\n"
          ],
          "name": "stdout"
        }
      ]
    },
    {
      "cell_type": "code",
      "metadata": {
        "colab": {
          "base_uri": "https://localhost:8080/"
        },
        "id": "cBfLfvwye3p5",
        "outputId": "56fc36e3-e2c0-4add-c357-27acd6e3448e"
      },
      "source": [
        "# Converting key into a one hot encoded vector\n",
        "# Convert key feature into a one hot encoeded vector \n",
        "ohe = OneHotEncoder()\n",
        "ohe.setInputCols([\"key\"])\n",
        "ohe.setOutputCols([\"key_vector\"])\n",
        "model = ohe.fit(dataDF2)\n",
        "dataDF2_key_encoded = model.transform(dataDF2)\n",
        "# dataDF2_key_encoded.show(2, truncate=False)\n",
        "\n",
        "# Assemble all features into one to create a single vector\n",
        "audio_feature_columns = ['acousticness', 'danceability', 'energy', 'duration', 'instrumentalness', 'valence', 'popularity',\n",
        "                                    'tempo', 'liveness', 'loudness', 'speechiness', 'mode', 'explicit', 'key_vector']\n",
        "assembler = VectorAssembler(\n",
        "    inputCols=audio_feature_columns,\n",
        "    outputCol=\"features\")\n",
        "dataDF2_feature = assembler.transform(dataDF2_key_encoded)\n",
        "# dataDF2_feature.show(2, truncate=False)\n",
        "\n",
        "# Scale all features using MinMax scaling method\n",
        "mmScaler = MinMaxScaler(outputCol=\"scaled_features\")\n",
        "mmScaler.setInputCol(\"features\")\n",
        "model = mmScaler.fit(dataDF2_feature)\n",
        "dataDF2_scaled = model.transform(dataDF2_feature)\n",
        "# dataDF2_scaled.show(2, truncate=False)\n",
        "\n",
        "# Convert sparse vectors into dense vectors\n",
        "data_feature_rdd = dataDF2_scaled.select(['name', 'artistname_1', 'scaled_features']).rdd.map(list)\n",
        "dataDF2_dense = data_feature_rdd.map(lambda kv: (kv[0], kv[1], DenseVector(kv[2].toArray()))).toDF()\n",
        "dataDF2_dense = dataDF2_dense.withColumnRenamed('_1', 'name').withColumnRenamed('_2', 'artistname').withColumnRenamed('_3', 'scaled_features')\n",
        "# dataDF2_dense.printSchema()\n",
        "# artistdF_dense.show(2, truncate=False)\n",
        "\n",
        "# Create Hash Projections\n",
        "brp_song = BucketedRandomProjectionLSH(inputCol='scaled_features', outputCol='hashed_projections', seed=145, numHashTables=5, bucketLength=10)\n",
        "brp_model_song = brp_song.fit(dataDF2_dense)\n",
        "dataDF2_hashed = brp_model_song.transform(dataDF2_dense)\n",
        "dataDF2_hashed.show(2, truncate=False)"
      ],
      "execution_count": null,
      "outputs": [
        {
          "output_type": "stream",
          "text": [
            "+----------------------------------------+----------------+---------------------------------------------------------------------------------------------------------------------------------------------------------------------------------------------------------------------------------+---------------------------------------+\n",
            "|name                                    |artistname      |scaled_features                                                                                                                                                                                                                  |hashed_projections                     |\n",
            "+----------------------------------------+----------------+---------------------------------------------------------------------------------------------------------------------------------------------------------------------------------------------------------------------------------+---------------------------------------+\n",
            "|En un Pueblito de España - Remasterizado| Charlo         |[0.9989959839357431,0.46659919028340086,0.195,0.04956610841124674,0.8859999999999999,0.8440000000000001,0.0,0.31307586105182084,0.0969,0.7037976665883644,0.0628482972136223,1.0,0.0,0.0,0.0,0.0,0.0,0.0,0.0,0.0,0.0,0.0,0.0,1.0]|[[0.0], [-1.0], [-1.0], [-1.0], [-1.0]]|\n",
            "|Purple Daze                             |Cellular Project|[0.29116465863453816,0.3481781376518218,0.857,0.046013058556585905,0.8740000000000001,0.158,0.0,0.5762973645074992,0.125,0.8544201706992405,0.052321981424148616,1.0,0.0,0.0,0.0,0.0,1.0,0.0,0.0,0.0,0.0,0.0,0.0,0.0]            |[[0.0], [-1.0], [-1.0], [-1.0], [0.0]] |\n",
            "+----------------------------------------+----------------+---------------------------------------------------------------------------------------------------------------------------------------------------------------------------------------------------------------------------------+---------------------------------------+\n",
            "only showing top 2 rows\n",
            "\n"
          ],
          "name": "stdout"
        }
      ]
    },
    {
      "cell_type": "code",
      "metadata": {
        "colab": {
          "base_uri": "https://localhost:8080/"
        },
        "id": "mS8NEqR6MnuI",
        "outputId": "b49cd0cb-58a7-4940-c53a-85a24b05bcd3"
      },
      "source": [
        "# Mapping the song features to 2-D using PCA to help visualize \n",
        "pca_song = PCA(k=2, inputCol=\"scaled_features\", outputCol=\"pca_features\")\n",
        "model_pca_song = pca_song.fit(dataDF2_dense)\n",
        "dataDF2_pca = model_pca_song.transform(dataDF2_dense)\n",
        "dataDF2_pca.show(2, truncate=False)"
      ],
      "execution_count": null,
      "outputs": [
        {
          "output_type": "stream",
          "text": [
            "+----------------------------------------+----------------+---------------------------------------------------------------------------------------------------------------------------------------------------------------------------------------------------------------------------------+------------------------------------------+\n",
            "|name                                    |artistname      |scaled_features                                                                                                                                                                                                                  |pca_features                              |\n",
            "+----------------------------------------+----------------+---------------------------------------------------------------------------------------------------------------------------------------------------------------------------------------------------------------------------------+------------------------------------------+\n",
            "|En un Pueblito de España - Remasterizado| Charlo         |[0.9989959839357431,0.46659919028340086,0.195,0.04956610841124674,0.8859999999999999,0.8440000000000001,0.0,0.31307586105182084,0.0969,0.7037976665883644,0.0628482972136223,1.0,0.0,0.0,0.0,0.0,0.0,0.0,0.0,0.0,0.0,0.0,0.0,1.0]|[-0.6976385181568368,-0.7866349632683283] |\n",
            "|Purple Daze                             |Cellular Project|[0.29116465863453816,0.3481781376518218,0.857,0.046013058556585905,0.8740000000000001,0.158,0.0,0.5762973645074992,0.125,0.8544201706992405,0.052321981424148616,1.0,0.0,0.0,0.0,0.0,1.0,0.0,0.0,0.0,0.0,0.0,0.0,0.0]            |[-0.11840549877077562,-0.9420235787967417]|\n",
            "+----------------------------------------+----------------+---------------------------------------------------------------------------------------------------------------------------------------------------------------------------------------------------------------------------------+------------------------------------------+\n",
            "only showing top 2 rows\n",
            "\n"
          ],
          "name": "stdout"
        }
      ]
    },
    {
      "cell_type": "code",
      "metadata": {
        "colab": {
          "base_uri": "https://localhost:8080/"
        },
        "id": "ia1qCXJlhPXL",
        "outputId": "b2d4e5f5-c7bf-4ac2-a83e-6e0714734e00"
      },
      "source": [
        "# Joining the song and the playlist dataset\n",
        "joinedDF_1 = spotifydf.join(dataDF2_dense,(dataDF2_dense.name==spotifydf.trackname)&(dataDF2_dense.artistname==spotifydf.artistname))\n",
        "joinedDF_1.show(2, truncate=False)"
      ],
      "execution_count": null,
      "outputs": [
        {
          "output_type": "stream",
          "text": [
            "+--------------------------------+----------+--------------------------------+----------------+--------------------------------+----------+------------------------------------------------------------------------------------------------------------------------------------------------------------------------------------------------------------------------+\n",
            "|user_id                         |artistname|trackname                       |playlistname    |name                            |artistname|scaled_features                                                                                                                                                                                                         |\n",
            "+--------------------------------+----------+--------------------------------+----------------+--------------------------------+----------+------------------------------------------------------------------------------------------------------------------------------------------------------------------------------------------------------------------------+\n",
            "|8104bd55908290abee621a2851d48e37|Les Brown |'S Wonderful                    |Jazz            |'S Wonderful                    |Les Brown |[0.8594377510040161,0.5799595141700404,0.365,0.04416156101764337,4.09E-5,0.539,0.05154639175257732,0.6954127763825788,0.0261,0.7865633074935401,0.08090815273477812,1.0,0.0,0.0,0.0,0.0,0.0,0.0,0.0,0.0,0.0,0.0,1.0,0.0]|\n",
            "|0865fac6e53b2acadb4bbd3f37a61217|Four Tops |(It's The Way) Nature Planned It|Low Rider Oldies|(It's The Way) Nature Planned It|Four Tops |[0.5411646586345382,0.584008097165992,0.604,0.05594940978555566,0.00418,0.721,0.32989690721649484,0.37811717760998975,0.0794,0.807892882311487,0.0347781217750258,1.0,0.0,0.0,1.0,0.0,0.0,0.0,0.0,0.0,0.0,0.0,0.0,0.0]  |\n",
            "+--------------------------------+----------+--------------------------------+----------------+--------------------------------+----------+------------------------------------------------------------------------------------------------------------------------------------------------------------------------------------------------------------------------+\n",
            "only showing top 2 rows\n",
            "\n"
          ],
          "name": "stdout"
        }
      ]
    },
    {
      "cell_type": "code",
      "metadata": {
        "id": "KtP-shelhSt0"
      },
      "source": [
        "# Ecoding the key variable into one hot encoded vector in the joined df\n",
        "joinedDF = spotifydf.join(dataDF2,(dataDF2.name==spotifydf.trackname)&(dataDF2.artistname_1==spotifydf.artistname))\n",
        "ohe = OneHotEncoder()\n",
        "ohe.setInputCols([\"key\"])\n",
        "ohe.setOutputCols([\"key_vector\"])\n",
        "model_1 = ohe.fit(joinedDF)\n",
        "joinedDF_key_encoded = model_1.transform(joinedDF)\n",
        "\n",
        "joinedDF_key_encoded = joinedDF_key_encoded.select(['user_id', 'name', 'artistname', 'playlistname'] + audio_feature_columns)\n",
        "\n",
        "# Assembling it into one vector\n",
        "audio_feature_columns = ['acousticness', 'danceability', 'energy', 'duration', 'instrumentalness', 'valence', 'popularity',\n",
        "                                    'tempo', 'liveness', 'loudness', 'speechiness', 'mode', 'explicit', 'key_vector']\n",
        "assembler_1 = VectorAssembler(\n",
        "    inputCols=audio_feature_columns,\n",
        "    outputCol=\"features\")\n",
        "joinedDF_feature = assembler_1.transform(joinedDF_key_encoded)\n",
        "# dataDF2_feature.show(2, truncate=False)\n",
        "\n",
        "# Scale all features using MinMax scaling method\n",
        "mmScaler = MinMaxScaler(outputCol=\"scaled_features\")\n",
        "mmScaler.setInputCol(\"features\")\n",
        "model_2 = mmScaler.fit(joinedDF_feature)\n",
        "joinedDF_scaled = model_2.transform(joinedDF_feature)"
      ],
      "execution_count": null,
      "outputs": []
    },
    {
      "cell_type": "code",
      "metadata": {
        "colab": {
          "base_uri": "https://localhost:8080/"
        },
        "id": "YDNnignDiscS",
        "outputId": "2f104837-43f6-4087-a33c-d2dfc757550f"
      },
      "source": [
        "joinedDF_scaled = joinedDF_scaled.select(['user_id', 'name', 'artistname', 'playlistname', 'scaled_features'])\n",
        "joinedDF_scaled.show(2, truncate=False)"
      ],
      "execution_count": null,
      "outputs": [
        {
          "output_type": "stream",
          "text": [
            "+--------------------------------+--------------------------------+----------+----------------+------------------------------------------------------------------------------------------------------------------------------------------------------------------------------------------------------------------------------------------+\n",
            "|user_id                         |name                            |artistname|playlistname    |scaled_features                                                                                                                                                                                                                           |\n",
            "+--------------------------------+--------------------------------+----------+----------------+------------------------------------------------------------------------------------------------------------------------------------------------------------------------------------------------------------------------------------------+\n",
            "|8104bd55908290abee621a2851d48e37|'S Wonderful                    |Les Brown |Jazz            |(24,[0,1,2,3,4,5,6,7,8,9,10,11,22],[0.8594377510040161,0.5799595141700404,0.365,0.04572025727253487,4.114688128772635E-5,0.539,0.058823529411764705,0.6954127763825788,0.02612612612612613,0.8196817625458996,0.0814968814968815,1.0,1.0])|\n",
            "|0865fac6e53b2acadb4bbd3f37a61217|(It's The Way) Nature Planned It|Four Tops |Low Rider Oldies|(24,[0,1,2,3,4,5,6,7,8,9,10,11,14],[0.5411646586345382,0.584008097165992,0.604,0.05794511205700445,0.0042052313883299795,0.721,0.3764705882352941,0.37811717760998975,0.07947947947947949,0.8419094247246023,0.03503118503118503,1.0,1.0])|\n",
            "+--------------------------------+--------------------------------+----------+----------------+------------------------------------------------------------------------------------------------------------------------------------------------------------------------------------------------------------------------------------------+\n",
            "only showing top 2 rows\n",
            "\n"
          ],
          "name": "stdout"
        }
      ]
    },
    {
      "cell_type": "code",
      "metadata": {
        "colab": {
          "base_uri": "https://localhost:8080/"
        },
        "id": "G68yBv41gnwW",
        "outputId": "a135f781-6666-40d1-ef38-53c759271393"
      },
      "source": [
        "# Exploring the joined dataframe and looking at the scope of the problem\n",
        "print(\"The total number of unique songs in the joined df is\", joinedDF_scaled.select('name').distinct().count())\n",
        "print(\"The total number of unique playlists in the joined df is\", joinedDF_scaled.select('playlistname').distinct().count())"
      ],
      "execution_count": null,
      "outputs": [
        {
          "output_type": "stream",
          "text": [
            "The total number of unique songs in the joined df is 58541\n",
            "The total number of unique playlists in the joined df is 96039\n"
          ],
          "name": "stdout"
        }
      ]
    },
    {
      "cell_type": "code",
      "metadata": {
        "colab": {
          "base_uri": "https://localhost:8080/"
        },
        "id": "kWQ7M4GZ5BD-",
        "outputId": "99f75e75-79f6-49cc-a7c3-be66483b8c9a"
      },
      "source": [
        "print(\"The total number of unique users in the joined df is\", joinedDF_1.select('user_id').distinct().count())"
      ],
      "execution_count": null,
      "outputs": [
        {
          "output_type": "stream",
          "text": [
            "The total number of unique users in the joined df is 15140\n"
          ],
          "name": "stdout"
        }
      ]
    },
    {
      "cell_type": "code",
      "metadata": {
        "colab": {
          "base_uri": "https://localhost:8080/"
        },
        "id": "nwkWzx7elxiE",
        "outputId": "8ff400f8-2590-4f82-f5e6-b48ed0a92655"
      },
      "source": [
        "playlist_song_count = joinedDF_scaled.groupby('playlistname').agg(countDistinct('name').alias('song_count'))\n",
        "playlist_song_count.show(2, truncate=False)"
      ],
      "execution_count": null,
      "outputs": [
        {
          "output_type": "stream",
          "text": [
            "+--------------------+----------+\n",
            "|playlistname        |song_count|\n",
            "+--------------------+----------+\n",
            "|The Weeknd – Trilogy|31        |\n",
            "|Rehearsal Dinner    |88        |\n",
            "+--------------------+----------+\n",
            "only showing top 2 rows\n",
            "\n"
          ],
          "name": "stdout"
        }
      ]
    },
    {
      "cell_type": "code",
      "metadata": {
        "colab": {
          "base_uri": "https://localhost:8080/"
        },
        "id": "ounIMU85lxPm",
        "outputId": "e9017b27-3c52-4d92-f4f4-f6d7106815ac"
      },
      "source": [
        "# Finding playlists from the 3 groups\n",
        "\n",
        "playlist_song_count.filter(col('song_count') <= 10).sort(col('song_count').desc()).show(10, truncate=False)\n",
        "playlist_song_count.filter(col('song_count') <= 50).sort(col('song_count').desc()).show(20, truncate=False)\n",
        "playlist_song_count.filter(col('song_count') <= 100).sort(col('song_count').desc()).show(25, truncate=False)\n"
      ],
      "execution_count": null,
      "outputs": [
        {
          "output_type": "stream",
          "text": [
            "+-------------------------------------------------------------------+----------+\n",
            "|playlistname                                                       |song_count|\n",
            "+-------------------------------------------------------------------+----------+\n",
            "|If I did a club night, it might sound a little something like this.|100       |\n",
            "|Ashley's High School Years                                         |100       |\n",
            "|C                                                                  |100       |\n",
            "|ELVIS PRESLEY                                                      |100       |\n",
            "|BANDA                                                              |100       |\n",
            "|Summer Sun 2013                                                    |100       |\n",
            "|SADHOUSE                                                           |100       |\n",
            "|15 Years of Music                                                  |100       |\n",
            "|Juan Alfonso                                                       |100       |\n",
            "|Pump Up the Jam                                                    |100       |\n",
            "|November 2012                                                      |100       |\n",
            "|Oldskool                                                           |100       |\n",
            "|Cori 2                                                             |100       |\n",
            "|Rap/Hip-Hop                                                        |100       |\n",
            "|Most Favorite                                                      |100       |\n",
            "|Tranquillo                                                         |100       |\n",
            "|FELIPE                                                             |100       |\n",
            "|Cover Tunes                                                        |100       |\n",
            "|musica molona                                                      |100       |\n",
            "|It's Bigger Than Hip Hop                                           |100       |\n",
            "|lista piola                                                        |100       |\n",
            "|blink, +44, AVA, Box Car Racer                                     |100       |\n",
            "|Country Bumpkin                                                    |100       |\n",
            "|arianna                                                            |100       |\n",
            "|dei furbi new year party                                           |100       |\n",
            "+-------------------------------------------------------------------+----------+\n",
            "only showing top 25 rows\n",
            "\n"
          ],
          "name": "stdout"
        }
      ]
    },
    {
      "cell_type": "code",
      "metadata": {
        "colab": {
          "base_uri": "https://localhost:8080/"
        },
        "id": "9uUJnbDilxCW",
        "outputId": "bdf1ff89-8dab-4df1-cd94-3c72eeb8cb87"
      },
      "source": [
        "joinedDF_scaled.createOrReplaceTempView('joined_playlist_table')\n",
        "# joinedDF_scaled.groupby('playlistname').where(col('playlistname') == '25 and Alive').select('name').show(10, truncate=False)\n",
        "ss.sql(\"SELECT DISTINCT(name), artistname FROM joined_playlist_table WHERE playlistname = 'If I did a club night, it might sound a little something like this.' LIMIT 15\").show()"
      ],
      "execution_count": null,
      "outputs": [
        {
          "output_type": "stream",
          "text": [
            "+--------------------+------------------+\n",
            "|                name|        artistname|\n",
            "+--------------------+------------------+\n",
            "|                 PDA|          Interpol|\n",
            "|         My Doorbell| The White Stripes|\n",
            "|        Tutti Frutti|    Little Richard|\n",
            "|          Doin' Time|           Sublime|\n",
            "|  Walkin' On The Sun|       Smash Mouth|\n",
            "|         Go It Alone|              Beck|\n",
            "| Date With The Night|   Yeah Yeah Yeahs|\n",
            "|      Heart Of Glass|           Blondie|\n",
            "|   Pressure and Time|        Rival Sons|\n",
            "|          Fineshrine|       Purity Ring|\n",
            "|I Know Somethin (...|   Alice In Chains|\n",
            "|       Holland, 1945|Neutral Milk Hotel|\n",
            "|          Foxey Lady|      Jimi Hendrix|\n",
            "|Frontier Psychiat...|    The Avalanches|\n",
            "|             Holiday|   Vampire Weekend|\n",
            "+--------------------+------------------+\n",
            "\n"
          ],
          "name": "stdout"
        }
      ]
    },
    {
      "cell_type": "code",
      "metadata": {
        "colab": {
          "base_uri": "https://localhost:8080/"
        },
        "id": "GSuvATcTzacf",
        "outputId": "c2de4900-ba0c-4ac7-daa0-5a7ddc3fb7a2"
      },
      "source": [
        "dataDF2.show(2, truncate=False)"
      ],
      "execution_count": null,
      "outputs": [
        {
          "output_type": "stream",
          "text": [
            "+------------+-------------------------------------+------------+------------------+------+--------+----------------------+----------------+---+--------+--------+----+----------------------------------------+----------+------------+-----------+-----------------+-------+----+---------------+\n",
            "|acousticness|artists                              |danceability|duration          |energy|explicit|id                    |instrumentalness|key|liveness|loudness|mode|name                                    |popularity|release_date|speechiness|tempo            |valence|year|artistname_1   |\n",
            "+------------+-------------------------------------+------------+------------------+------+--------+----------------------+----------------+---+--------+--------+----+----------------------------------------+----------+------------+-----------+-----------------+-------+----+---------------+\n",
            "|0.995       |[Carl Woitschach]                    |0.708       |2.6441333333333334|0.195 |0       |6KbQ3uYMLKb5jDxLF7wYDD|0.563           |10 |0.151   |-12.428 |1   |Singende Bataillone 1. Teil             |0         |1928        |0.0506     |118.469          |0.779  |1928|Carl Woitschach|\n",
            "|0.994       |[Robert Schumann,  Vladimir Horowitz]|0.379       |4.702216666666667 |0.0135|0       |6KuQTIu1KoTTkLXKrwlLPV|0.901           |8  |0.0763  |-28.454 |1   |Fantasiestücke, Op. 111: Più tosto lento|0         |1928        |0.0462     |83.97200000000002|0.0767 |1928|Robert Schumann|\n",
            "+------------+-------------------------------------+------------+------------------+------+--------+----------------------+----------------+---+--------+--------+----+----------------------------------------+----------+------------+-----------+-----------------+-------+----+---------------+\n",
            "only showing top 2 rows\n",
            "\n"
          ],
          "name": "stdout"
        }
      ]
    },
    {
      "cell_type": "markdown",
      "metadata": {
        "id": "aSJPZwjWrDK-"
      },
      "source": [
        "Playlists selected:\n",
        "\n",
        "\n",
        "1.   Optimist - 10 songs\n",
        "2.   Aimlessly Drifting - 50 songs\n",
        "3.   If I did a club night, it might sound a little something like this - 100 songs\n",
        "\n"
      ]
    },
    {
      "cell_type": "code",
      "metadata": {
        "id": "BkgO7SUZpvce"
      },
      "source": [
        "# Collecting the songs from each playlist\n",
        "playlist_1_optimist = ss.sql(\"SELECT DISTINCT(name), artistname FROM joined_playlist_table WHERE playlistname = 'Optimist' \").collect()\n",
        "playlist_2_drifting = ss.sql(\"SELECT DISTINCT(name), artistname FROM joined_playlist_table WHERE playlistname = 'Aimlessly Drifting' \").collect()\n",
        "playlist_1_clubnight = ss.sql(\"SELECT DISTINCT(name), artistname FROM joined_playlist_table WHERE playlistname = 'If I did a club night, it might sound a little something like this.' \").collect()"
      ],
      "execution_count": null,
      "outputs": []
    },
    {
      "cell_type": "code",
      "metadata": {
        "colab": {
          "base_uri": "https://localhost:8080/"
        },
        "id": "mKAJXQXpuJ4-",
        "outputId": "86408d7f-ab1b-4ea1-f0d2-fd6467758a05"
      },
      "source": [
        "joinedDF_scaled.show(1, truncate=False)"
      ],
      "execution_count": null,
      "outputs": [
        {
          "output_type": "stream",
          "text": [
            "+--------------------------------+------------+----------+------------+------------------------------------------------------------------------------------------------------------------------------------------------------------------------------------------------------------------------------------------+\n",
            "|user_id                         |name        |artistname|playlistname|scaled_features                                                                                                                                                                                                                           |\n",
            "+--------------------------------+------------+----------+------------+------------------------------------------------------------------------------------------------------------------------------------------------------------------------------------------------------------------------------------------+\n",
            "|8104bd55908290abee621a2851d48e37|'S Wonderful|Les Brown |Jazz        |(24,[0,1,2,3,4,5,6,7,8,9,10,11,22],[0.8594377510040161,0.5799595141700404,0.365,0.04572025727253487,4.114688128772635E-5,0.539,0.058823529411764705,0.6954127763825788,0.02612612612612613,0.8196817625458996,0.0814968814968815,1.0,1.0])|\n",
            "+--------------------------------+------------+----------+------------+------------------------------------------------------------------------------------------------------------------------------------------------------------------------------------------------------------------------------------------+\n",
            "only showing top 1 row\n",
            "\n"
          ],
          "name": "stdout"
        }
      ]
    },
    {
      "cell_type": "code",
      "metadata": {
        "id": "If_CKtTbgni7"
      },
      "source": [
        "# Converting the song features in the joined df to dense vectors and creating playlist profiles\n",
        "\n",
        "data_feature_rdd = joinedDF_scaled.select(['user_id', 'name', 'artistname', 'playlistname', 'scaled_features']).rdd.map(list)\n",
        "joinedDF_dense_rdd = data_feature_rdd.map(lambda l: (l[0], l[1], l[2], l[3], DenseVector(l[4].toArray())))"
      ],
      "execution_count": null,
      "outputs": []
    },
    {
      "cell_type": "code",
      "metadata": {
        "id": "kwC28m1_wEpc"
      },
      "source": [
        "playlist_1_optimist_profile =  joinedDF_dense_rdd.map(lambda t: (t[3], (t[1], t[-1], 1)))\\\n",
        "                                                  .filter(lambda kv: kv[0] == 'Optimist')\\\n",
        "                                                  .map(lambda kv: (kv[1][0], (kv[1][1], 1)))\\\n",
        "                                                  .reduceByKey(lambda a,b: (a[0]+b[0], a[1]+b[1]))\\\n",
        "                                                  .map(lambda kv: ('a', (kv[1][0] / kv[1][1], 1)))\\\n",
        "                                                  .reduceByKey(lambda a,b: (a[0]+b[0], a[1]+b[1]))\\\n",
        "                                                  .map(lambda kv: kv[1][0] / kv[1][1])\\\n",
        "                                                  .collect()\n",
        "\n",
        "playlist_2_drifting_profile =  joinedDF_dense_rdd.map(lambda t: (t[3], (t[1], t[-1], 1)))\\\n",
        "                                                  .filter(lambda kv: kv[0] == 'Aimlessly Drifting')\\\n",
        "                                                  .map(lambda kv: (kv[1][0], (kv[1][1], 1)))\\\n",
        "                                                  .reduceByKey(lambda a,b: (a[0]+b[0], a[1]+b[1]))\\\n",
        "                                                  .map(lambda kv: ('a', (kv[1][0] / kv[1][1], 1)))\\\n",
        "                                                  .reduceByKey(lambda a,b: (a[0]+b[0], a[1]+b[1]))\\\n",
        "                                                  .map(lambda kv: kv[1][0] / kv[1][1])\\\n",
        "                                                  .collect()\n",
        "\n",
        "playlist_1_clubnight_profile =  joinedDF_dense_rdd.map(lambda t: (t[3], (t[1], t[-1], 1)))\\\n",
        "                                                  .filter(lambda kv: kv[0] == 'If I did a club night, it might sound a little something like this.')\\\n",
        "                                                  .map(lambda kv: (kv[1][0], (kv[1][1], 1)))\\\n",
        "                                                  .reduceByKey(lambda a,b: (a[0]+b[0], a[1]+b[1]))\\\n",
        "                                                  .map(lambda kv: ('a', (kv[1][0] / kv[1][1], 1)))\\\n",
        "                                                  .reduceByKey(lambda a,b: (a[0]+b[0], a[1]+b[1]))\\\n",
        "                                                  .map(lambda kv: kv[1][0] / kv[1][1])\\\n",
        "                                                  .collect()"
      ],
      "execution_count": null,
      "outputs": []
    },
    {
      "cell_type": "code",
      "metadata": {
        "id": "xNcmV58d8a4v"
      },
      "source": [
        "# Finding similar artists for the user using the nearest neighbour module of the randomized projection LSH\n",
        "playlist_1_optimist_neighbours = brp_model_song.approxNearestNeighbors(dataDF2_hashed, playlist_1_optimist_profile[0], 10, distCol='Distance_Measure').collect()\n",
        "playlist_2_drifting_neighbours = brp_model_song.approxNearestNeighbors(dataDF2_hashed, playlist_2_drifting_profile[0], 10, distCol='Distance_Measure').collect()\n",
        "playlist_1_clubnight_neighbours = brp_model_song.approxNearestNeighbors(dataDF2_hashed, playlist_1_clubnight_profile[0], 10, distCol='Distance_Measure').collect()"
      ],
      "execution_count": null,
      "outputs": []
    },
    {
      "cell_type": "code",
      "metadata": {
        "id": "C_l1DEsswH89"
      },
      "source": [
        "# Top 10 songs Recommended to the 3 playlists by the LSH model\n",
        "playlist_1_optimist_rsongs = []\n",
        "playlist_1_optimist_rsongs_x = []\n",
        "playlist_1_optimist_rsongs_y = []\n",
        "\n",
        "playlist_2_drifting_rsongs = []\n",
        "playlist_2_drifting_rsongs_x = []\n",
        "playlist_2_drifting_rsongs_y = []\n",
        "\n",
        "playlist_1_clubnight_rsongs = []\n",
        "playlist_1_clubnight_rsongs_x = []\n",
        "playlist_1_clubnight_rsongs_y = []\n",
        "\n",
        "for i in playlist_1_optimist_neighbours:\n",
        "  coordinate = dataDF2_pca.filter(dataDF2_pca.name == i.name).select('pca_features').collect()[0]['pca_features'].toArray()\n",
        "  playlist_1_optimist_rsongs.append((i.name, coordinate))\n",
        "  playlist_1_optimist_rsongs_x.append(coordinate[0])\n",
        "  playlist_1_optimist_rsongs_y.append(coordinate[1])\n",
        "\n",
        "for i in playlist_2_drifting_neighbours:\n",
        "  coordinate = dataDF2_pca.filter(dataDF2_pca.name == i.name).select('pca_features').collect()[0]['pca_features'].toArray()\n",
        "  playlist_2_drifting_rsongs.append((i.name, coordinate))\n",
        "  playlist_2_drifting_rsongs_x.append(coordinate[0])\n",
        "  playlist_2_drifting_rsongs_y.append(coordinate[1])\n",
        "\n",
        "for i in playlist_1_clubnight_neighbours:\n",
        "  coordinate = dataDF2_pca.filter(dataDF2_pca.name == i.name).select('pca_features').collect()[0]['pca_features'].toArray()\n",
        "  playlist_1_clubnight_rsongs.append((i.name, coordinate))\n",
        "  playlist_1_clubnight_rsongs_x.append(coordinate[0])\n",
        "  playlist_1_clubnight_rsongs_y.append(coordinate[1])"
      ],
      "execution_count": null,
      "outputs": []
    },
    {
      "cell_type": "code",
      "metadata": {
        "colab": {
          "base_uri": "https://localhost:8080/"
        },
        "id": "3Af16qgGA4QQ",
        "outputId": "7873242f-14c6-4eab-b254-2f8c11641b21"
      },
      "source": [
        "# playlist_1_optimist[0].artistname & col('artistname') == playlist_1_optimist[0].artistname\n",
        "dataDF2_pca.filter(col('name') == playlist_1_optimist[0].name).select(['name', 'artistname', 'pca_features']).show()"
      ],
      "execution_count": null,
      "outputs": [
        {
          "output_type": "stream",
          "text": [
            "+------------+--------------------+--------------------+\n",
            "|        name|          artistname|        pca_features|\n",
            "+------------+--------------------+--------------------+\n",
            "|Mr. Blue Sky|Electric Light Or...|[0.02104309351756...|\n",
            "+------------+--------------------+--------------------+\n",
            "\n"
          ],
          "name": "stdout"
        }
      ]
    },
    {
      "cell_type": "code",
      "metadata": {
        "id": "t5LKjIw8-dz8"
      },
      "source": [
        "# The songs present in the three playlist \n",
        "\n",
        "playlist_1_optimist_songs = []\n",
        "playlist_1_optimist_songs_x = []\n",
        "playlist_1_optimist_songs_y = []\n",
        "\n",
        "playlist_2_drifting_songs = []\n",
        "playlist_2_drifting_songs_x = []\n",
        "playlist_2_drifting_songs_y = []\n",
        "\n",
        "playlist_1_clubnight_songs = []\n",
        "playlist_1_clubnight_songs_x = []\n",
        "playlist_1_clubnight_songs_y = []\n",
        "\n",
        "for i in playlist_1_optimist:\n",
        "  coordinate = dataDF2_pca.filter(dataDF2_pca.name == i.name).select('pca_features').collect()[0]['pca_features'].toArray()\n",
        "  playlist_1_optimist_songs.append((i.name, coordinate))\n",
        "  playlist_1_optimist_songs_x.append(coordinate[0])\n",
        "  playlist_1_optimist_songs_y.append(coordinate[1])\n",
        "\n",
        "for i in playlist_2_drifting:\n",
        "  coordinate = dataDF2_pca.filter(dataDF2_pca.name == i.name).select('pca_features').collect()[0]['pca_features'].toArray()\n",
        "  playlist_2_drifting_songs.append((i.name, coordinate))\n",
        "  playlist_2_drifting_songs_x.append(coordinate[0])\n",
        "  playlist_2_drifting_songs_y.append(coordinate[1])\n",
        "\n",
        "for i in playlist_1_clubnight:\n",
        "  coordinate = dataDF2_pca.filter(dataDF2_pca.name == i.name).select('pca_features').collect()[0]['pca_features'].toArray()\n",
        "  playlist_1_clubnight_songs.append((i.name, coordinate))\n",
        "  playlist_1_clubnight_songs_x.append(coordinate[0])\n",
        "  playlist_1_clubnight_songs_y.append(coordinate[1])"
      ],
      "execution_count": null,
      "outputs": []
    },
    {
      "cell_type": "code",
      "metadata": {
        "colab": {
          "base_uri": "https://localhost:8080/",
          "height": 951
        },
        "id": "WvIf_I_UIZAH",
        "outputId": "c1f7abc1-917f-462f-fe07-afb6e692100c"
      },
      "source": [
        "# Plotting songs present in playlists compared to songs suggested \n",
        "fig = plt.figure(figsize=(8,16))\n",
        "\n",
        "ax1 = fig.add_subplot(311)\n",
        "ax2 = fig.add_subplot(312)\n",
        "ax3 = fig.add_subplot(313)\n",
        "\n",
        "\n",
        "ax1.scatter(playlist_1_optimist_songs_x, playlist_1_optimist_songs_y, s=65, c='b', marker=\"1\", label='Current Songs in Playlist')\n",
        "ax1.scatter(playlist_1_optimist_rsongs_x, playlist_1_optimist_rsongs_y, s=85, c='r', marker=\"2\", label='Recommended Songs to Playlist')\n",
        "\n",
        "ax2.scatter(playlist_2_drifting_songs_x, playlist_2_drifting_songs_y, s=65, c='b', marker=\"1\", label='Current Songs in Playlist')\n",
        "ax2.scatter(playlist_2_drifting_rsongs_x, playlist_2_drifting_rsongs_y, s=85, c='r', marker=\"2\", label='Recommended Songs to Playlist')\n",
        "\n",
        "ax3.scatter(playlist_1_clubnight_songs_x, playlist_1_clubnight_songs_y, s=65, c='b', marker=\"1\", label='Current Songs in Playlist')\n",
        "ax3.scatter(playlist_1_clubnight_rsongs_x, playlist_1_clubnight_rsongs_y, s=85, c='r', marker=\"2\", label='Recommended Songs to Playlist')\n",
        "\n",
        "ax1.set_title('Optimist')\n",
        "ax2.set_title('Aimlessly Drifting')\n",
        "ax3.set_title('If I did a club night, it might sound a little something like this.')\n",
        "\n",
        "ax1.legend(loc='upper left')\n",
        "ax2.legend(loc='upper left')\n",
        "ax3.legend(loc='upper left')\n",
        "\n",
        "plt.show()\n",
        "plt.savefig('Playlist-Song Recommendations')"
      ],
      "execution_count": null,
      "outputs": [
        {
          "output_type": "display_data",
          "data": {
            "text/plain": [
              "<Figure size 576x1152 with 3 Axes>"
            ],
            "image/png": "[encoded data removed]"
          },
          "metadata": {
            "tags": [],
            "needs_background": "light"
          }
        },
        {
          "output_type": "display_data",
          "data": {
            "text/plain": [
              "<Figure size 432x288 with 0 Axes>"
            ]
          },
          "metadata": {
            "tags": []
          }
        }
      ]
    },
    {
      "cell_type": "markdown",
      "metadata": {
        "id": "vYWlPpE8QFZ2"
      },
      "source": [
        "Optimist\n",
        "\n",
        "Aimlessly Drifting\n",
        "\n",
        "If I did a club night, it might sound a little something like this.\n"
      ]
    },
    {
      "cell_type": "markdown",
      "metadata": {
        "id": "NiweIjx-k5Gi"
      },
      "source": [
        "## User - Song Recommendation"
      ]
    },
    {
      "cell_type": "code",
      "metadata": {
        "colab": {
          "base_uri": "https://localhost:8080/"
        },
        "id": "RTkxljTMFxjx",
        "outputId": "6db17f04-9340-4b0e-c720-febe45ea688f"
      },
      "source": [
        "joinedDF_1 = joinedDF_1.drop(dataDF2_dense.artistname).drop(dataDF2_dense.name)\n",
        "joinedDF_1.show(2, truncate=False)"
      ],
      "execution_count": null,
      "outputs": [
        {
          "output_type": "stream",
          "text": [
            "+--------------------------------+----------+--------------------------------+----------------+------------------------------------------------------------------------------------------------------------------------------------------------------------------------------------------------------------------------+\n",
            "|user_id                         |artistname|trackname                       |playlistname    |scaled_features                                                                                                                                                                                                         |\n",
            "+--------------------------------+----------+--------------------------------+----------------+------------------------------------------------------------------------------------------------------------------------------------------------------------------------------------------------------------------------+\n",
            "|8104bd55908290abee621a2851d48e37|Les Brown |'S Wonderful                    |Jazz            |[0.8594377510040161,0.5799595141700404,0.365,0.04416156101764337,4.09E-5,0.539,0.05154639175257732,0.6954127763825788,0.0261,0.7865633074935401,0.08090815273477812,1.0,0.0,0.0,0.0,0.0,0.0,0.0,0.0,0.0,0.0,0.0,1.0,0.0]|\n",
            "|0865fac6e53b2acadb4bbd3f37a61217|Four Tops |(It's The Way) Nature Planned It|Low Rider Oldies|[0.5411646586345382,0.584008097165992,0.604,0.05594940978555566,0.00418,0.721,0.32989690721649484,0.37811717760998975,0.0794,0.807892882311487,0.0347781217750258,1.0,0.0,0.0,1.0,0.0,0.0,0.0,0.0,0.0,0.0,0.0,0.0,0.0]  |\n",
            "+--------------------------------+----------+--------------------------------+----------------+------------------------------------------------------------------------------------------------------------------------------------------------------------------------------------------------------------------------+\n",
            "only showing top 2 rows\n",
            "\n"
          ],
          "name": "stdout"
        }
      ]
    },
    {
      "cell_type": "code",
      "metadata": {
        "colab": {
          "base_uri": "https://localhost:8080/"
        },
        "id": "JoFUn0-DDOyF",
        "outputId": "0690f6c7-b890-43e6-ed8a-6a0dd86106f4"
      },
      "source": [
        "joinedDF_1.createOrReplaceTempView('song_joined_table')\n",
        "grouped_DF = joinedDF_1.groupBy('user_id').agg(countDistinct('trackname').alias('song_count'))\n",
        "grouped_DF.show(2, truncate=False)"
      ],
      "execution_count": null,
      "outputs": [
        {
          "output_type": "stream",
          "text": [
            "+--------------------------------+----------+\n",
            "|user_id                         |song_count|\n",
            "+--------------------------------+----------+\n",
            "|e35a96394f62367a39560039b3bd29fc|490       |\n",
            "|f9791ee3b4348aecdf3bf3b159dcadc3|441       |\n",
            "+--------------------------------+----------+\n",
            "only showing top 2 rows\n",
            "\n"
          ],
          "name": "stdout"
        }
      ]
    },
    {
      "cell_type": "markdown",
      "metadata": {
        "id": "ZHce8AfXOfux"
      },
      "source": [
        "User 1 - 56e91726c2059e73002ad3af15d8cd43 (15)\n",
        "\n",
        "User 2 - f2c7bb9f74e06099854a4499946b02fd (35)\n",
        "\n",
        "User 3 - 57718f1dbda00caa0bf6e1e3c12f59bf (55)"
      ]
    },
    {
      "cell_type": "code",
      "metadata": {
        "colab": {
          "base_uri": "https://localhost:8080/"
        },
        "id": "ReGmLLPkDOm1",
        "outputId": "7a6ed525-8205-4cf5-bf54-9cd7a8cacfc1"
      },
      "source": [
        "# Finding random users by the number of distinct songs listened to\n",
        "grouped_DF.filter(col('song_count') <= 15).sort(col('song_count').desc()).show(10, truncate=False)"
      ],
      "execution_count": null,
      "outputs": [
        {
          "output_type": "stream",
          "text": [
            "+--------------------------------+----------+\n",
            "|user_id                         |song_count|\n",
            "+--------------------------------+----------+\n",
            "|09b5c946893772d8d4a48712067b4e21|15        |\n",
            "|845691a87f0f206798775e16ac2aeae1|15        |\n",
            "|abdef26bda9ea920b72d9404dd2cd61c|15        |\n",
            "|ed034726d95c6a2175c1c2ec7303a599|15        |\n",
            "|56e91726c2059e73002ad3af15d8cd43|15        |\n",
            "|062290789ceac1848aa5f34a1ab58002|15        |\n",
            "|34333130a0c1cc8ede668ff3c5449885|15        |\n",
            "|5edfdb4e8ec152427104c23a0ba2830b|15        |\n",
            "|c7c3cacd016d8cf31724f75f833abfa1|15        |\n",
            "|a28a6cd013f214032074ca1079dca1ee|15        |\n",
            "+--------------------------------+----------+\n",
            "only showing top 10 rows\n",
            "\n"
          ],
          "name": "stdout"
        }
      ]
    },
    {
      "cell_type": "code",
      "metadata": {
        "id": "fbl6KtLRwHyE",
        "colab": {
          "base_uri": "https://localhost:8080/"
        },
        "outputId": "b73b5ee8-f22f-4588-bfb2-3a74cada0fd7"
      },
      "source": [
        "# ss.sql(\"SELECT DISTINCT trackname, artistname FROM song_joined_table WHERE user_id = '57718f1dbda00caa0bf6e1e3c12f59bf' LIMIT 10\").show(truncate=False)\n",
        "ss.sql(\"SELECT artistname, COUNT(artistname) FROM song_joined_table WHERE user_id = '56e91726c2059e73002ad3af15d8cd43' GROUP BY artistname ORDER BY COUNT(artistname) DESC LIMIT 5\").show()"
      ],
      "execution_count": null,
      "outputs": [
        {
          "output_type": "stream",
          "text": [
            "+------------+-----------------+\n",
            "|  artistname|count(artistname)|\n",
            "+------------+-----------------+\n",
            "|Lana Del Rey|               14|\n",
            "|  The Champs|                1|\n",
            "+------------+-----------------+\n",
            "\n"
          ],
          "name": "stdout"
        }
      ]
    },
    {
      "cell_type": "code",
      "metadata": {
        "id": "NkBULWhPIZDG"
      },
      "source": [
        "# Collecting songs and artists information for the 3 users\n",
        "user_1_song_track = ss.sql(\"SELECT DISTINCT trackname, artistname FROM song_joined_table WHERE user_id = '56e91726c2059e73002ad3af15d8cd43' \").collect()\n",
        "user_2_song_track = ss.sql(\"SELECT DISTINCT trackname, artistname FROM song_joined_table WHERE user_id = 'f2c7bb9f74e06099854a4499946b02fd' \").collect()\n",
        "user_3_song_track = ss.sql(\"SELECT DISTINCT trackname, artistname FROM song_joined_table WHERE user_id = '57718f1dbda00caa0bf6e1e3c12f59bf' \").collect()\n",
        "\n",
        "user_1_artist = ss.sql(\"SELECT artistname, COUNT(artistname) FROM song_joined_table WHERE user_id = '56e91726c2059e73002ad3af15d8cd43' GROUP BY artistname ORDER BY COUNT(artistname) DESC LIMIT 5\").collect()\n",
        "user_2_artist= ss.sql(\"SELECT artistname, COUNT(artistname) FROM song_joined_table WHERE user_id = 'f2c7bb9f74e06099854a4499946b02fd' GROUP BY artistname ORDER BY COUNT(artistname) DESC LIMIT 5\").collect()\n",
        "user_3_artist = ss.sql(\"SELECT artistname, COUNT(artistname) FROM song_joined_table WHERE user_id = '57718f1dbda00caa0bf6e1e3c12f59bf' GROUP BY artistname ORDER BY COUNT(artistname) DESC LIMIT 5\").collect()"
      ],
      "execution_count": null,
      "outputs": []
    },
    {
      "cell_type": "code",
      "metadata": {
        "colab": {
          "base_uri": "https://localhost:8080/"
        },
        "id": "wOgv2jOaMXh2",
        "outputId": "fc9f101f-1a28-4d81-869d-d7c25cf7b77b"
      },
      "source": [
        "# Mapping the joined df into a rdd to create profiles\n",
        "joinedDF_1_rdd = joinedDF_1.rdd.map(list)\n",
        "joinedDF_1_rdd.take(2)"
      ],
      "execution_count": null,
      "outputs": [
        {
          "output_type": "execute_result",
          "data": {
            "text/plain": [
              "[['8104bd55908290abee621a2851d48e37',\n",
              "  'Les Brown',\n",
              "  \"'S Wonderful\",\n",
              "  'Jazz',\n",
              "  DenseVector([0.8594, 0.58, 0.365, 0.0442, 0.0, 0.539, 0.0515, 0.6954, 0.0261, 0.7866, 0.0809, 1.0, 0.0, 0.0, 0.0, 0.0, 0.0, 0.0, 0.0, 0.0, 0.0, 0.0, 1.0, 0.0])],\n",
              " ['872e0baf7655b1b3e3ead68e9707b455',\n",
              "  'Four Tops',\n",
              "  \"(It's The Way) Nature Planned It\",\n",
              "  'Four Tops – The Definitive Collection',\n",
              "  DenseVector([0.5412, 0.584, 0.604, 0.0559, 0.0042, 0.721, 0.3299, 0.3781, 0.0794, 0.8079, 0.0348, 1.0, 0.0, 0.0, 1.0, 0.0, 0.0, 0.0, 0.0, 0.0, 0.0, 0.0, 0.0, 0.0])]]"
            ]
          },
          "metadata": {
            "tags": []
          },
          "execution_count": 44
        }
      ]
    },
    {
      "cell_type": "code",
      "metadata": {
        "id": "3yIYxTAwFkxk"
      },
      "source": [
        "# Creating song profiles by the user (by simple average of the songs the user listened to)\n",
        "\n",
        "user_1_songs_profile = joinedDF_1_rdd.map(lambda l: (l[0], (l[-1], 1)))\\\n",
        "                                     .filter(lambda kv: kv[0] == '56e91726c2059e73002ad3af15d8cd43')\\\n",
        "                                     .reduceByKey(lambda a,b: (a[0]+b[0], a[1]+b[1]))\\\n",
        "                                     .map(lambda kv: kv[1][0] / kv[1][1])\\\n",
        "                                     .collect()\n",
        "user_2_songs_profile = joinedDF_1_rdd.map(lambda l: (l[0], (l[-1], 1)))\\\n",
        "                                     .filter(lambda kv: kv[0] == 'f2c7bb9f74e06099854a4499946b02fd')\\\n",
        "                                     .reduceByKey(lambda a,b: (a[0]+b[0], a[1]+b[1]))\\\n",
        "                                     .map(lambda kv: kv[1][0] / kv[1][1])\\\n",
        "                                     .collect()\n",
        "user_3_songs_profile = joinedDF_1_rdd.map(lambda l: (l[0], (l[-1], 1)))\\\n",
        "                                     .filter(lambda kv: kv[0] == '57718f1dbda00caa0bf6e1e3c12f59bf')\\\n",
        "                                     .reduceByKey(lambda a,b: (a[0]+b[0], a[1]+b[1]))\\\n",
        "                                     .map(lambda kv: kv[1][0] / kv[1][1])\\\n",
        "                                     .collect()"
      ],
      "execution_count": null,
      "outputs": []
    },
    {
      "cell_type": "code",
      "metadata": {
        "id": "06NkPx37Kmu6"
      },
      "source": [
        "# Finding recommendations for the above users based on their user profile using LSH\n",
        "\n",
        "user_1_songs_neighbours = brp_model_song.approxNearestNeighbors(dataDF2_hashed, user_1_songs_profile[0], 10, distCol='Distance_Measure').collect()\n",
        "user_2_songs_neighbours = brp_model_song.approxNearestNeighbors(dataDF2_hashed, user_2_songs_profile[0], 10, distCol='Distance_Measure').collect()\n",
        "user_3_songs_neighbours = brp_model_song.approxNearestNeighbors(dataDF2_hashed, user_3_songs_profile[0], 10, distCol='Distance_Measure').collect()"
      ],
      "execution_count": null,
      "outputs": []
    },
    {
      "cell_type": "code",
      "metadata": {
        "id": "WQ-radILKnPU"
      },
      "source": [
        "# Getting the reduced features for the songs the model recommended to the users\n",
        "user_1_rsongs = []\n",
        "user_1_rsongs_x = []\n",
        "user_1_rsongs_y = []\n",
        "\n",
        "user_2_rsongs = []\n",
        "user_2_rsongs_x = []\n",
        "user_2_rsongs_y = []\n",
        "\n",
        "user_3_rsongs = []\n",
        "user_3_rsongs_x = []\n",
        "user_3_rsongs_y = []\n",
        "\n",
        "for i in user_1_songs_neighbours:\n",
        "  coordinate = dataDF2_pca.filter((dataDF2_pca.name == i.name) & (dataDF2_pca.artistname == i.artistname)).select('pca_features').collect()[0]['pca_features'].toArray()\n",
        "  user_1_rsongs.append((i.name, coordinate))\n",
        "  user_1_rsongs_x.append(coordinate[0])\n",
        "  user_1_rsongs_y.append(coordinate[1])\n",
        "\n",
        "for i in user_2_songs_neighbours:\n",
        "  coordinate = dataDF2_pca.filter((dataDF2_pca.name == i.name) & (dataDF2_pca.artistname == i.artistname)).select('pca_features').collect()[0]['pca_features'].toArray()\n",
        "  user_2_rsongs.append((i.name, coordinate))\n",
        "  user_2_rsongs_x.append(coordinate[0])\n",
        "  user_2_rsongs_y.append(coordinate[1])\n",
        "\n",
        "for i in user_3_songs_neighbours:\n",
        "  coordinate = dataDF2_pca.filter((dataDF2_pca.name == i.name) & (dataDF2_pca.artistname == i.artistname)).select('pca_features').collect()[0]['pca_features'].toArray()\n",
        "  user_3_rsongs.append((i.name, coordinate))\n",
        "  user_3_rsongs_x.append(coordinate[0])\n",
        "  user_3_rsongs_y.append(coordinate[1])"
      ],
      "execution_count": null,
      "outputs": []
    },
    {
      "cell_type": "code",
      "metadata": {
        "id": "nfBqltjPSjfG"
      },
      "source": [
        "# Getting the reduced features for the songs the users had listened to\n",
        "user_1_lsongs = []\n",
        "user_1_lsongs_x = []\n",
        "user_1_lsongs_y = []\n",
        "\n",
        "user_2_lsongs = []\n",
        "user_2_lsongs_x = []\n",
        "user_2_lsongs_y = []\n",
        "\n",
        "user_3_lsongs = []\n",
        "user_3_lsongs_x = []\n",
        "user_3_lsongs_y = []\n",
        "\n",
        "for i in user_1_song_track:\n",
        "  coordinate = dataDF2_pca.filter((dataDF2_pca.name == i.trackname) & (dataDF2_pca.artistname == i.artistname)).select('pca_features').collect()[0]['pca_features'].toArray()\n",
        "  user_1_lsongs.append((i.trackname, coordinate))\n",
        "  user_1_lsongs_x.append(coordinate[0])\n",
        "  user_1_lsongs_y.append(coordinate[1])\n",
        "\n",
        "for i in user_2_song_track:\n",
        "  coordinate = dataDF2_pca.filter((dataDF2_pca.name == i.trackname) & (dataDF2_pca.artistname == i.artistname)).select('pca_features').collect()[0]['pca_features'].toArray()\n",
        "  user_2_lsongs.append((i.trackname, coordinate))\n",
        "  user_2_lsongs_x.append(coordinate[0])\n",
        "  user_2_lsongs_y.append(coordinate[1])\n",
        "\n",
        "for i in user_3_song_track:\n",
        "  coordinate = dataDF2_pca.filter((dataDF2_pca.name == i.trackname) & (dataDF2_pca.artistname == i.artistname)).select('pca_features').collect()[0]['pca_features'].toArray()\n",
        "  user_3_lsongs.append((i.trackname, coordinate))\n",
        "  user_3_lsongs_x.append(coordinate[0])\n",
        "  user_3_lsongs_y.append(coordinate[1])"
      ],
      "execution_count": null,
      "outputs": []
    },
    {
      "cell_type": "code",
      "metadata": {
        "id": "g6KhZ7ppSjRR"
      },
      "source": [
        "# Getting the reduced features of the top artists the user had listened to\n",
        "\n",
        "user_1_lartists = []\n",
        "user_1_lartists_x = []\n",
        "user_1_lartists_y = []\n",
        "\n",
        "user_2_lartists = []\n",
        "user_2_lartists_x = []\n",
        "user_2_lartists_y = []\n",
        "\n",
        "user_3_lartists = []\n",
        "user_3_lartists_x = []\n",
        "user_3_lartists_y = []\n",
        "\n",
        "# Only need one artist joining condition\n",
        "for i in user_1_artist:\n",
        "  coordinate = artistdF_pca.filter(artistdF_pca.artists == i.artistname).select('pca_features').collect()[0]['pca_features'].toArray()\n",
        "  user_1_lartists.append((i.artistname, coordinate))\n",
        "  user_1_lartists_x.append(coordinate[0])\n",
        "  user_1_lartists_y.append(coordinate[1])\n",
        "\n",
        "for i in user_2_artist:\n",
        "  coordinate = artistdF_pca.filter(artistdF_pca.artists == i.artistname).select('pca_features').collect()[0]['pca_features'].toArray()\n",
        "  user_2_lartists.append((i.artistname, coordinate))\n",
        "  user_2_lartists_x.append(coordinate[0])\n",
        "  user_2_lartists_y.append(coordinate[1])\n",
        "\n",
        "for i in user_3_artist:\n",
        "  coordinate = artistdF_pca.filter(artistdF_pca.artists == i.artistname).select('pca_features').collect()[0]['pca_features'].toArray()\n",
        "  user_3_lartists.append((i.artistname, coordinate))\n",
        "  user_3_lartists_x.append(coordinate[0])\n",
        "  user_3_lartists_y.append(coordinate[1])"
      ],
      "execution_count": null,
      "outputs": []
    },
    {
      "cell_type": "code",
      "metadata": {
        "colab": {
          "base_uri": "https://localhost:8080/",
          "height": 934
        },
        "id": "HWmVvrMhetzM",
        "outputId": "c3305926-0f86-4c32-f4dd-3aa234e04aca"
      },
      "source": [
        "# PLotting Recommendations\n",
        "# from google.colab import files\n",
        "fig = plt.figure(figsize=(8,16))\n",
        "\n",
        "ax1 = fig.add_subplot(311)\n",
        "ax2 = fig.add_subplot(312)\n",
        "ax3 = fig.add_subplot(313)\n",
        "\n",
        "\n",
        "ax1.scatter(user_1_lsongs_x, user_1_lsongs_y, s=65, c='b', marker=\"o\", label='Current Songs')\n",
        "ax1.scatter(user_1_rsongs_x, user_1_rsongs_y, s=85, c='r', marker=\"v\", label='Recommended Songs')\n",
        "ax1.scatter(user_1_lartists_x, user_1_lartists_y, s=65, c='g', marker=\"s\", label='Current Artists')\n",
        "\n",
        "ax2.scatter(user_2_lsongs_x, user_2_lsongs_y, s=65, c='b', marker=\"o\", label='Current Songs')\n",
        "ax2.scatter(user_2_rsongs_x, user_2_rsongs_y, s=85, c='r', marker=\"v\", label='Recommended Songs')\n",
        "ax2.scatter(user_2_lartists_x, user_2_lartists_y, s=65, c='g', marker=\"s\", label='Current Artists')\n",
        "\n",
        "ax3.scatter(user_3_lsongs_x, user_3_lsongs_y, s=65, c='b', marker=\"o\", label='Current Songs')\n",
        "ax3.scatter(user_3_rsongs_x, user_3_rsongs_y, s=85, c='r', marker=\"v\", label='Recommended Songs')\n",
        "ax3.scatter(user_3_lartists_x, user_3_lartists_y, s=65, c='g', marker=\"s\", label='Current Artists')\n",
        "\n",
        "ax1.set_title('User 1')\n",
        "ax2.set_title('User 2')\n",
        "ax3.set_title('User 3')\n",
        "\n",
        "ax1.legend(loc='upper right')\n",
        "ax2.legend(loc='upper right')\n",
        "ax3.legend(loc='upper right')\n",
        "\n",
        "plt.show()\n",
        "# plt.savefig('User-Song Recommendations.png')\n",
        "# files.download('User-Song Recommendations.png.pdf')"
      ],
      "execution_count": null,
      "outputs": [
        {
          "output_type": "display_data",
          "data": {
            "text/plain": [
              "<Figure size 576x1152 with 3 Axes>"
            ],
            "image/png": "[encoded data removed]"
          },
          "metadata": {
            "tags": [],
            "needs_background": "light"
          }
        }
      ]
    },
    {
      "cell_type": "markdown",
      "metadata": {
        "id": "ofkaUtwglD2u"
      },
      "source": [
        "# Clustering before performing User - Song Recommendation"
      ]
    },
    {
      "cell_type": "code",
      "metadata": {
        "id": "Tje_Mbw5hp9T"
      },
      "source": [
        "from pyspark.ml.clustering import KMeans, KMeansModel, KMeansSummary"
      ],
      "execution_count": null,
      "outputs": []
    },
    {
      "cell_type": "code",
      "metadata": {
        "colab": {
          "base_uri": "https://localhost:8080/"
        },
        "id": "sqw6Ea5_giMM",
        "outputId": "2bc435a5-20a8-4488-c76e-26eaeb3e6c15"
      },
      "source": [
        "joinedDF_1.show(2, truncate=False)"
      ],
      "execution_count": null,
      "outputs": [
        {
          "output_type": "stream",
          "text": [
            "+--------------------------------+----------+--------------------------------+----------------+------------------------------------------------------------------------------------------------------------------------------------------------------------------------------------------------------------------------+\n",
            "|user_id                         |artistname|trackname                       |playlistname    |scaled_features                                                                                                                                                                                                         |\n",
            "+--------------------------------+----------+--------------------------------+----------------+------------------------------------------------------------------------------------------------------------------------------------------------------------------------------------------------------------------------+\n",
            "|8104bd55908290abee621a2851d48e37|Les Brown |'S Wonderful                    |Jazz            |[0.8594377510040161,0.5799595141700404,0.365,0.04416156101764337,4.09E-5,0.539,0.05154639175257732,0.6954127763825788,0.0261,0.7865633074935401,0.08090815273477812,1.0,0.0,0.0,0.0,0.0,0.0,0.0,0.0,0.0,0.0,0.0,1.0,0.0]|\n",
            "|0865fac6e53b2acadb4bbd3f37a61217|Four Tops |(It's The Way) Nature Planned It|Low Rider Oldies|[0.5411646586345382,0.584008097165992,0.604,0.05594940978555566,0.00418,0.721,0.32989690721649484,0.37811717760998975,0.0794,0.807892882311487,0.0347781217750258,1.0,0.0,0.0,1.0,0.0,0.0,0.0,0.0,0.0,0.0,0.0,0.0,0.0]  |\n",
            "+--------------------------------+----------+--------------------------------+----------------+------------------------------------------------------------------------------------------------------------------------------------------------------------------------------------------------------------------------+\n",
            "only showing top 2 rows\n",
            "\n"
          ],
          "name": "stdout"
        }
      ]
    },
    {
      "cell_type": "code",
      "metadata": {
        "id": "CoWiaHpwfyaW"
      },
      "source": [
        "user_3_clusters = joinedDF_1.filter(col('user_id') == '57718f1dbda00caa0bf6e1e3c12f59bf').select(['trackname', 'scaled_features'])"
      ],
      "execution_count": null,
      "outputs": []
    },
    {
      "cell_type": "code",
      "metadata": {
        "id": "d5AiDzLrhpKo"
      },
      "source": [
        "kmeans = KMeans(featuresCol='scaled_features', predictionCol='cluster_prediction', k=2, maxIter=10, distanceMeasure='euclidean')\n",
        "model = kmeans.fit(user_3_clusters)\n",
        "centers = model.clusterCenters()\n",
        "summary = model.summary\n",
        "summary.trainingCost"
      ],
      "execution_count": null,
      "outputs": []
    },
    {
      "cell_type": "code",
      "metadata": {
        "id": "ElqvHBXGjAJ5"
      },
      "source": [
        "center_1, center_2 = DenseVector(centers[0]), DenseVector(centers[1])"
      ],
      "execution_count": null,
      "outputs": []
    },
    {
      "cell_type": "code",
      "metadata": {
        "id": "WFcI_Wtmj4Y9"
      },
      "source": [
        "# Getting recommendations from cluster centers\n",
        "center_1_neighbour = brp_model_song.approxNearestNeighbors(dataDF2_hashed, center_1, 10, distCol='Distance_Measure').collect()\n",
        "center_2_neighbour = brp_model_song.approxNearestNeighbors(dataDF2_hashed, center_2, 10, distCol='Distance_Measure').collect()"
      ],
      "execution_count": null,
      "outputs": []
    },
    {
      "cell_type": "code",
      "metadata": {
        "id": "_Ip0bJGckLsn"
      },
      "source": [
        "# Getting 2-D coordinates of the song recommendations for both clusters\n",
        "center_1_rsongs = []\n",
        "center_1_rsongs_x = []\n",
        "center_1_rsongs_y = []\n",
        "\n",
        "center_2_rsongs = []\n",
        "center_2_rsongs_x = []\n",
        "center_2_rsongs_y = []\n",
        "\n",
        "for i in center_1_neighbour:\n",
        "  coordinate = dataDF2_pca.filter((dataDF2_pca.name == i.name) & (dataDF2_pca.artistname == i.artistname)).select('pca_features').collect()[0]['pca_features'].toArray()\n",
        "  center_1_rsongs.append((i.name, coordinate))\n",
        "  center_1_rsongs_x.append(coordinate[0])\n",
        "  center_1_rsongs_y.append(coordinate[1])\n",
        "\n",
        "for i in center_2_neighbour:\n",
        "  coordinate = dataDF2_pca.filter((dataDF2_pca.name == i.name) & (dataDF2_pca.artistname == i.artistname)).select('pca_features').collect()[0]['pca_features'].toArray()\n",
        "  center_2_rsongs.append((i.name, coordinate))\n",
        "  center_2_rsongs_x.append(coordinate[0])\n",
        "  center_2_rsongs_y.append(coordinate[1])"
      ],
      "execution_count": null,
      "outputs": []
    },
    {
      "cell_type": "code",
      "metadata": {
        "colab": {
          "base_uri": "https://localhost:8080/",
          "height": 715
        },
        "id": "v0Cohb1Rk2ha",
        "outputId": "6ed32dc7-45c6-4e05-fda1-7a304fcea381"
      },
      "source": [
        "# Comparing simple average vs clustered quering\n",
        "\n",
        "fig = plt.figure(figsize=(8,12))\n",
        "\n",
        "ax1 = fig.add_subplot(211)\n",
        "ax2 = fig.add_subplot(212)\n",
        "\n",
        "ax1.scatter(user_3_lsongs_x, user_3_lsongs_y, s=65, c='b', marker=\"o\", label='Current Songs')\n",
        "ax1.scatter(center_1_rsongs_x, center_1_rsongs_y, s=65, c='r', marker=\"v\", label='Cluster 1 Recommended Songs')\n",
        "ax1.scatter(center_2_rsongs_x, center_2_rsongs_y, s=85, c='r', marker=\"v\", label='Cluster 2 Recommended Songs')\n",
        "\n",
        "ax2.scatter(user_3_lsongs_x, user_3_lsongs_y, s=65, c='b', marker=\"o\", label='Current Songs')\n",
        "ax2.scatter(user_3_rsongs_x, user_3_rsongs_y, s=85, c='r', marker=\"v\", label='Recommended Songs by initial model')\n",
        "# ax2.scatter(user_3_lartists_x, user_3_lartists_y, s=65, c='g', marker=\"s\", label='Current Artists')\n",
        "\n",
        "ax1.set_title('Recommendations After Clustering')\n",
        "ax2.set_title('Recommendations Before Clustering')\n",
        "\n",
        "ax1.legend(loc='center')\n",
        "ax2.legend(loc='center')\n",
        "\n",
        "plt.show()"
      ],
      "execution_count": null,
      "outputs": [
        {
          "output_type": "display_data",
          "data": {
            "text/plain": [
              "<Figure size 576x864 with 2 Axes>"
            ],
            "image/png": "[encoded data removed]"
          },
          "metadata": {
            "tags": [],
            "needs_background": "light"
          }
        }
      ]
    },
    {
      "cell_type": "markdown",
      "metadata": {
        "id": "1Vgz5Xqc1kKR"
      },
      "source": [
        "# User Genre Tagging"
      ]
    },
    {
      "cell_type": "code",
      "metadata": {
        "id": "i97GIVrxRe9n"
      },
      "source": [
        "import time"
      ],
      "execution_count": null,
      "outputs": []
    },
    {
      "cell_type": "code",
      "metadata": {
        "id": "UW_y3ca01rzf"
      },
      "source": [
        "# Encode the genre dataframe into features and create their has projections\n",
        "# Create user profiles of 3 randomly selected users (based on the distinct no of artists they listen to) and find similarity with hashed genres\n",
        "# Can be used for user tagging (can be used as a part of bio for the user (similar to fb and twitter))\n",
        "# Create user profiles from the joinedDF_1 and groupby user and calculate mean featuers and then hash projections to calculate similarity"
      ],
      "execution_count": null,
      "outputs": []
    },
    {
      "cell_type": "code",
      "metadata": {
        "id": "P1niTCki2Wun"
      },
      "source": [
        "# Removing exlpicit from user profiles\n",
        "# Ecoding the key variable into one hot encoded vector in the joined df\n",
        "\n",
        "joinedDF_user_p = spotifydf.join(dataDF2,(dataDF2.name==spotifydf.trackname)&(dataDF2.artistname_1==spotifydf.artistname))\n",
        "ohe = OneHotEncoder()\n",
        "ohe.setInputCols([\"key\"])\n",
        "ohe.setOutputCols([\"key_vector\"])\n",
        "model_1 = ohe.fit(joinedDF_user_p)\n",
        "joinedDF_user_key_encoded = model_1.transform(joinedDF_user_p)\n",
        "\n",
        "audio_feature_columns = ['acousticness', 'danceability', 'energy', 'duration', 'instrumentalness', 'valence', 'popularity',\n",
        "                                    'tempo', 'liveness', 'loudness', 'speechiness', 'mode', 'key_vector']\n",
        "                                    \n",
        "joinedDF_user_key_encoded = joinedDF_user_key_encoded.select(['user_id', 'name', 'artistname', 'playlistname'] + audio_feature_columns)\n",
        "\n",
        "# Assembling it into one vector\n",
        "\n",
        "assembler_1 = VectorAssembler(\n",
        "    inputCols=audio_feature_columns,\n",
        "    outputCol=\"features\")\n",
        "joinedDF_user_feature = assembler_1.transform(joinedDF_user_key_encoded)\n",
        "# dataDF2_feature.show(2, truncate=False)\n",
        "\n",
        "# Scale all features using MinMax scaling method\n",
        "mmScaler = MinMaxScaler(outputCol=\"scaled_features\")\n",
        "mmScaler.setInputCol(\"features\")\n",
        "model_2 = mmScaler.fit(joinedDF_user_feature)\n",
        "joinedDF_user_feature = model_2.transform(joinedDF_user_feature)"
      ],
      "execution_count": null,
      "outputs": []
    },
    {
      "cell_type": "code",
      "metadata": {
        "colab": {
          "base_uri": "https://localhost:8080/"
        },
        "id": "V9mIAhhFnXpk",
        "outputId": "7520ab0c-9984-4898-d5a5-66bbc89e2f6d"
      },
      "source": [
        "joinedDF_user_feature.show(2, truncate=False)"
      ],
      "execution_count": null,
      "outputs": [
        {
          "output_type": "stream",
          "text": [
            "+--------------------------------+--------------------------------+----------+-------------------------------------+------------+------------------+------+------------------+----------------+-------+----------+------------------+--------+--------+-----------+----+--------------+----------------------------------------------------------------------------------------------------------------------------------------------+------------------------------------------------------------------------------------------------------------------------------------------------------------------------------------------------------------------------------------------+\n",
            "|user_id                         |name                            |artistname|playlistname                         |acousticness|danceability      |energy|duration          |instrumentalness|valence|popularity|tempo             |liveness|loudness|speechiness|mode|key_vector    |features                                                                                                                                      |scaled_features                                                                                                                                                                                                                           |\n",
            "+--------------------------------+--------------------------------+----------+-------------------------------------+------------+------------------+------+------------------+----------------+-------+----------+------------------+--------+--------+-----------+----+--------------+----------------------------------------------------------------------------------------------------------------------------------------------+------------------------------------------------------------------------------------------------------------------------------------------------------------------------------------------------------------------------------------------+\n",
            "|8104bd55908290abee621a2851d48e37|'S Wonderful                    |Les Brown |Jazz                                 |0.856       |0.573             |0.365 |3.0966666666666667|4.09E-5         |0.539  |5.0       |169.74400000000003|0.0261  |-9.774  |0.0784     |1   |(11,[9],[1.0])|(23,[0,1,2,3,4,5,6,7,8,9,10,11,21],[0.856,0.573,0.365,3.0966666666666667,4.09E-5,0.539,5.0,169.74400000000003,0.0261,-9.774,0.0784,1.0,1.0])  |(23,[0,1,2,3,4,5,6,7,8,9,10,11,21],[0.8594377510040161,0.5799595141700404,0.365,0.04572025727253487,4.114688128772635E-5,0.539,0.058823529411764705,0.6954127763825788,0.02612612612612613,0.8196817625458996,0.0814968814968815,1.0,1.0])|\n",
            "|872e0baf7655b1b3e3ead68e9707b455|(It's The Way) Nature Planned It|Four Tops |Four Tops – The Definitive Collection|0.539       |0.5770000000000001|0.604 |3.7897833333333333|0.00418         |0.721  |32.0      |92.295            |0.0794  |-8.412  |0.0337     |1   |(11,[1],[1.0])|(23,[0,1,2,3,4,5,6,7,8,9,10,11,13],[0.539,0.5770000000000001,0.604,3.7897833333333333,0.00418,0.721,32.0,92.295,0.0794,-8.412,0.0337,1.0,1.0])|(23,[0,1,2,3,4,5,6,7,8,9,10,11,13],[0.5411646586345382,0.584008097165992,0.604,0.05794511205700445,0.0042052313883299795,0.721,0.3764705882352941,0.37811717760998975,0.07947947947947949,0.8419094247246023,0.03503118503118503,1.0,1.0])|\n",
            "+--------------------------------+--------------------------------+----------+-------------------------------------+------------+------------------+------+------------------+----------------+-------+----------+------------------+--------+--------+-----------+----+--------------+----------------------------------------------------------------------------------------------------------------------------------------------+------------------------------------------------------------------------------------------------------------------------------------------------------------------------------------------------------------------------------------------+\n",
            "only showing top 2 rows\n",
            "\n"
          ],
          "name": "stdout"
        }
      ]
    },
    {
      "cell_type": "code",
      "metadata": {
        "colab": {
          "base_uri": "https://localhost:8080/"
        },
        "id": "0D37KAnCQJNS",
        "outputId": "b7775b90-4b87-444b-aeae-fdc9d65e2fbb"
      },
      "source": [
        "# Creating user profiles\n",
        "joinedDF_user_feature_rdd = joinedDF_user_feature.select(['user_id', 'name', 'artistname', 'scaled_features']).rdd.map(list)\n",
        "joinedDF_user_feature_rdd.take(2)"
      ],
      "execution_count": null,
      "outputs": [
        {
          "output_type": "execute_result",
          "data": {
            "text/plain": [
              "[['8104bd55908290abee621a2851d48e37',\n",
              "  \"'S Wonderful\",\n",
              "  'Les Brown',\n",
              "  SparseVector(23, {0: 0.8594, 1: 0.58, 2: 0.365, 3: 0.0457, 4: 0.0, 5: 0.539, 6: 0.0588, 7: 0.6954, 8: 0.0261, 9: 0.8197, 10: 0.0815, 11: 1.0, 21: 1.0})],\n",
              " ['872e0baf7655b1b3e3ead68e9707b455',\n",
              "  \"(It's The Way) Nature Planned It\",\n",
              "  'Four Tops',\n",
              "  SparseVector(23, {0: 0.5412, 1: 0.584, 2: 0.604, 3: 0.0579, 4: 0.0042, 5: 0.721, 6: 0.3765, 7: 0.3781, 8: 0.0795, 9: 0.8419, 10: 0.035, 11: 1.0, 13: 1.0})]]"
            ]
          },
          "metadata": {
            "tags": []
          },
          "execution_count": 74
        }
      ]
    },
    {
      "cell_type": "code",
      "metadata": {
        "id": "Hl8w0DpHp156"
      },
      "source": [
        "user_artist_count_master = joinedDF_user_feature_rdd.map(lambda l: ( (l[0],l[2]), 1 ))\\\n",
        "                                                    .filter(lambda kv: kv[0][0] == '57718f1dbda00caa0bf6e1e3c12f59bf')\\\n",
        "                                                    .reduceByKey(lambda a,b: a + b)\\\n",
        "                                                    .collect()"
      ],
      "execution_count": null,
      "outputs": []
    },
    {
      "cell_type": "code",
      "metadata": {
        "colab": {
          "base_uri": "https://localhost:8080/"
        },
        "id": "BmPMePGQrV9z",
        "outputId": "1256a5d5-0b80-4302-a50b-58328594982f"
      },
      "source": [
        "user_artist_count_master[0]"
      ],
      "execution_count": null,
      "outputs": [
        {
          "output_type": "execute_result",
          "data": {
            "text/plain": [
              "(('57718f1dbda00caa0bf6e1e3c12f59bf', 'Maze'), 3)"
            ]
          },
          "metadata": {
            "tags": []
          },
          "execution_count": 17
        }
      ]
    },
    {
      "cell_type": "code",
      "metadata": {
        "id": "DxLuz9SsrRLM"
      },
      "source": [
        "def getweights(t):\n",
        "  for i in user_artist_count_master:\n",
        "    if t[0] == i[0][0]:\n",
        "      if t[1] == i[0][1]:\n",
        "        return (t[0], (i[1]*t[-1], 1))"
      ],
      "execution_count": null,
      "outputs": []
    },
    {
      "cell_type": "code",
      "metadata": {
        "id": "FneRCQyenVhy"
      },
      "source": [
        "user_profiles_1 = joinedDF_user_feature_rdd.map(lambda l: (l[0], l[2], DenseVector(l[-1].toArray()) ))\\\n",
        "                                            .filter(lambda kv: kv[0] == '57718f1dbda00caa0bf6e1e3c12f59bf')\\\n",
        "                                            .map(getweights)\\\n",
        "                                            .reduceByKey(lambda a,b: (a[0]+b[0], a[1]+b[1]))\\\n",
        "                                            .map(lambda kv: (kv[0], kv[1][0] / kv[1][1]))\\\n",
        "                                            .collect()"
      ],
      "execution_count": null,
      "outputs": []
    },
    {
      "cell_type": "code",
      "metadata": {
        "colab": {
          "base_uri": "https://localhost:8080/"
        },
        "id": "834znyA1RWY-",
        "outputId": "49128457-cc5f-4744-c241-7f90c2197e0e"
      },
      "source": [
        "# Calculating the user profile for all users based on the songs they listen to\n",
        "start_time = time.time()\n",
        "user_profiles = joinedDF_user_feature_rdd.map(lambda l: (l[0], (DenseVector(l[-1].toArray()), 1)))\\\n",
        "                          .reduceByKey(lambda a,b: (a[0]+b[0], a[1]+b[1]))\\\n",
        "                          .map(lambda kv: (kv[0], kv[1][0] / kv[1][1]))\\\n",
        "                          .collect()\n",
        "print(\"Time taken\", time.time() - start_time)                       "
      ],
      "execution_count": null,
      "outputs": [
        {
          "output_type": "stream",
          "text": [
            "Time taken 160.36447191238403\n"
          ],
          "name": "stdout"
        }
      ]
    },
    {
      "cell_type": "code",
      "metadata": {
        "colab": {
          "base_uri": "https://localhost:8080/"
        },
        "id": "BEZT5zCsTvpf",
        "outputId": "a2554d3e-f458-4eea-a5c1-d30b34d0529f"
      },
      "source": [
        "for i in user_profiles:\n",
        "  if i[0] == '57718f1dbda00caa0bf6e1e3c12f59bf':\n",
        "    user_profile_vector = i[1] \n",
        "user_profile_vector"
      ],
      "execution_count": null,
      "outputs": [
        {
          "output_type": "execute_result",
          "data": {
            "text/plain": [
              "DenseVector([0.3527, 0.5845, 0.5172, 0.0956, 0.1267, 0.5863, 0.4603, 0.4751, 0.1855, 0.7882, 0.0524, 0.5614, 0.0877, 0.0, 0.0877, 0.0, 0.1228, 0.0877, 0.0351, 0.2105, 0.0, 0.193, 0.0877])"
            ]
          },
          "metadata": {
            "tags": []
          },
          "execution_count": 82
        }
      ]
    },
    {
      "cell_type": "code",
      "metadata": {
        "id": "H2vukKItNNvJ"
      },
      "source": [
        "genredf = ss.read.csv(genreDataPath,header=True,inferSchema=True)\n",
        "genredf = genredf.withColumn(\"duration_ms\",col(\"duration_ms\")/60000).withColumnRenamed(\"duration_ms\",\"duration\")\n",
        "\n",
        "ohe = OneHotEncoder()\n",
        "ohe.setInputCols([\"key\"])\n",
        "ohe.setOutputCols([\"key_vector\"])\n",
        "model = ohe.fit(genredf)\n",
        "genredf_key_encoded = model.transform(genredf)\n",
        "# genredf_key_encoded.show(5, truncate=False)\n",
        "\n",
        "audio_feature_columns = ['acousticness', 'danceability', 'energy', 'duration', 'instrumentalness', 'valence', 'popularity',\n",
        "                                    'tempo', 'liveness', 'loudness', 'speechiness', 'mode', 'key_vector']\n",
        "assembler = VectorAssembler(\n",
        "    inputCols=audio_feature_columns,\n",
        "    outputCol=\"features\")\n",
        "genredf_features = assembler.transform(genredf_key_encoded)\n",
        "# genredf_features.show(5, truncate=False)\n",
        "\n",
        "mmScaler = MinMaxScaler(outputCol=\"scaled_features\")\n",
        "mmScaler.setInputCol(\"features\")\n",
        "model = mmScaler.fit(genredf_features)\n",
        "genredf_scaled = model.transform(genredf_features)"
      ],
      "execution_count": null,
      "outputs": []
    },
    {
      "cell_type": "code",
      "metadata": {
        "colab": {
          "base_uri": "https://localhost:8080/"
        },
        "id": "AhGDagGy2WeS",
        "outputId": "b92b3da2-7ac1-458a-8b42-e1ce0d9035ee"
      },
      "source": [
        "# Convert to dense vector by rdd\n",
        "genredf_scaled = genredf_scaled.filter(col('genres') != '[]')\n",
        "genredf_scaled.show(2, truncate=False)"
      ],
      "execution_count": null,
      "outputs": [
        {
          "output_type": "stream",
          "text": [
            "+----------+-------------------+------------------+------------------+-------------------+---------------------+-------------------+-------------------+-------------------+------------------+------------------+-----------------+---+----+--------------+-------------------------------------------------------------------------------------------------------------------------------------------------------------------------------------------------------------------------------------------------------------+--------------------------------------------------------------------------------------------------------------------------------------------------------------------------------------------------------------------------------------------------------------+\n",
            "|genres    |acousticness       |danceability      |duration          |energy             |instrumentalness     |liveness           |loudness           |speechiness        |tempo             |valence           |popularity       |key|mode|key_vector    |features                                                                                                                                                                                                                                                     |scaled_features                                                                                                                                                                                                                                               |\n",
            "+----------+-------------------+------------------+------------------+-------------------+---------------------+-------------------+-------------------+-------------------+------------------+------------------+-----------------+---+----+--------------+-------------------------------------------------------------------------------------------------------------------------------------------------------------------------------------------------------------------------------------------------------------+--------------------------------------------------------------------------------------------------------------------------------------------------------------------------------------------------------------------------------------------------------------+\n",
            "|432hz     |0.49477999999999994|0.2993333333333333|17.481455555555556|0.45067833333333324|0.47776166666666664  |0.131              |-16.854            |0.07681666666666667|120.28566666666666|0.22175           |52.16666666666667|5  |1   |(11,[5],[1.0])|(23,[0,1,2,3,4,5,6,7,8,9,10,11,17],[0.49477999999999994,0.2993333333333333,0.45067833333333324,17.481455555555556,0.47776166666666664,0.22175,52.16666666666667,120.28566666666666,0.131,-16.854,0.07681666666666667,1.0,1.0])                               |(23,[0,1,2,3,4,5,6,7,8,9,10,11,17],[0.4967654110346869,0.266837705489432,0.4493474134831647,0.6307622335474965,0.4816145833333333,0.22239874476236543,0.6361788617886179,0.478853085291079,0.1202475685234306,0.5538520784139208,0.05913891096157619,1.0,1.0])|\n",
            "|a cappella|0.6215317193348844 |0.5770169060398996|3.2275367451499446|0.34569408644304817|0.0037989220040791152|0.12708681770995536|-12.770211025518897|0.09532427363658015|111.81323023766345|0.4531856348581163|43.35181880911817|11 |1   |(11,[],[])    |(23,[0,1,2,3,4,5,6,7,8,9,10,11],[0.6215317193348844,0.5770169060398996,0.34569408644304817,3.2275367451499446,0.0037989220040791152,0.4531856348581163,43.35181880911817,111.81323023766345,0.12708681770995536,-12.770211025518897,0.09532427363658015,1.0])|(23,[0,1,2,3,4,5,6,7,8,9,10,11],[0.6240265925121564,0.576240631497697,0.3440129294334142,0.10082008238943987,0.003829558471853947,0.4597408353293158,0.5286807171843679,0.4296891071034835,0.115922654409765,0.6628055221670014,0.07929019766335774,1.0])     |\n",
            "+----------+-------------------+------------------+------------------+-------------------+---------------------+-------------------+-------------------+-------------------+------------------+------------------+-----------------+---+----+--------------+-------------------------------------------------------------------------------------------------------------------------------------------------------------------------------------------------------------------------------------------------------------+--------------------------------------------------------------------------------------------------------------------------------------------------------------------------------------------------------------------------------------------------------------+\n",
            "only showing top 2 rows\n",
            "\n"
          ],
          "name": "stdout"
        }
      ]
    },
    {
      "cell_type": "code",
      "metadata": {
        "colab": {
          "base_uri": "https://localhost:8080/"
        },
        "id": "nIWjmNw5UfJY",
        "outputId": "4cbe0596-ca5d-4594-a0c1-405c19544617"
      },
      "source": [
        "genredf_scaled_rdd = genredf_scaled.select(['genres', 'scaled_features']).rdd.map(list)\n",
        "genredf_dense = genredf_scaled_rdd.map(lambda l: (l[0], DenseVector(l[1].toArray()))).toDF()\n",
        "genredf_dense = genredf_dense.withColumnRenamed('_1', 'genres').withColumnRenamed('_2', 'scaled_features_dense')\n",
        "genredf_dense.show(2, truncate=False)"
      ],
      "execution_count": null,
      "outputs": [
        {
          "output_type": "stream",
          "text": [
            "+----------+--------------------------------------------------------------------------------------------------------------------------------------------------------------------------------------------------------------------------------------------------------------------+\n",
            "|genres    |scaled_features_dense                                                                                                                                                                                                                                               |\n",
            "+----------+--------------------------------------------------------------------------------------------------------------------------------------------------------------------------------------------------------------------------------------------------------------------+\n",
            "|432hz     |[0.4967654110346869,0.266837705489432,0.4493474134831647,0.6307622335474965,0.4816145833333333,0.22239874476236543,0.6361788617886179,0.478853085291079,0.1202475685234306,0.5538520784139208,0.05913891096157619,1.0,0.0,0.0,0.0,0.0,0.0,1.0,0.0,0.0,0.0,0.0,0.0]  |\n",
            "|a cappella|[0.6240265925121564,0.576240631497697,0.3440129294334142,0.10082008238943987,0.003829558471853947,0.4597408353293158,0.5286807171843679,0.4296891071034835,0.115922654409765,0.6628055221670014,0.07929019766335774,1.0,0.0,0.0,0.0,0.0,0.0,0.0,0.0,0.0,0.0,0.0,0.0]|\n",
            "+----------+--------------------------------------------------------------------------------------------------------------------------------------------------------------------------------------------------------------------------------------------------------------------+\n",
            "only showing top 2 rows\n",
            "\n"
          ],
          "name": "stdout"
        }
      ]
    },
    {
      "cell_type": "code",
      "metadata": {
        "colab": {
          "base_uri": "https://localhost:8080/"
        },
        "id": "YyFVVho01qq7",
        "outputId": "51f3c5eb-43fb-411b-fe3d-eeae894f3604"
      },
      "source": [
        "# Creating Hash projections of genres\n",
        "brp = BucketedRandomProjectionLSH(inputCol='scaled_features_dense', outputCol='hashed_projections', seed=123, numHashTables=5, bucketLength=10)\n",
        "brp_model_genre = brp.fit(genredf_dense)\n",
        "genredf_hashed = brp_model_genre.transform(genredf_dense)\n",
        "genredf_hashed.show(2, truncate=False)"
      ],
      "execution_count": null,
      "outputs": [
        {
          "output_type": "stream",
          "text": [
            "+----------+--------------------------------------------------------------------------------------------------------------------------------------------------------------------------------------------------------------------------------------------------------------------+-------------------------------------+\n",
            "|genres    |scaled_features_dense                                                                                                                                                                                                                                               |hashed_projections                   |\n",
            "+----------+--------------------------------------------------------------------------------------------------------------------------------------------------------------------------------------------------------------------------------------------------------------------+-------------------------------------+\n",
            "|432hz     |[0.4967654110346869,0.266837705489432,0.4493474134831647,0.6307622335474965,0.4816145833333333,0.22239874476236543,0.6361788617886179,0.478853085291079,0.1202475685234306,0.5538520784139208,0.05913891096157619,1.0,0.0,0.0,0.0,0.0,0.0,1.0,0.0,0.0,0.0,0.0,0.0]  |[[-1.0], [0.0], [-1.0], [0.0], [0.0]]|\n",
            "|a cappella|[0.6240265925121564,0.576240631497697,0.3440129294334142,0.10082008238943987,0.003829558471853947,0.4597408353293158,0.5286807171843679,0.4296891071034835,0.115922654409765,0.6628055221670014,0.07929019766335774,1.0,0.0,0.0,0.0,0.0,0.0,0.0,0.0,0.0,0.0,0.0,0.0]|[[-1.0], [0.0], [0.0], [0.0], [-1.0]]|\n",
            "+----------+--------------------------------------------------------------------------------------------------------------------------------------------------------------------------------------------------------------------------------------------------------------------+-------------------------------------+\n",
            "only showing top 2 rows\n",
            "\n"
          ],
          "name": "stdout"
        }
      ]
    },
    {
      "cell_type": "code",
      "metadata": {
        "colab": {
          "base_uri": "https://localhost:8080/"
        },
        "id": "tcyNLiybgDXt",
        "outputId": "cc852a93-3ef4-44cb-d8a5-0af8213946b6"
      },
      "source": [
        "w_genredf = ss.read.csv(wgenresDataPath,header=True,inferSchema=True)\n",
        "w_genredf.show(2, truncate=False)"
      ],
      "execution_count": null,
      "outputs": [
        {
          "output_type": "stream",
          "text": [
            "+------------------------------------+------------------+------------------+-----------+------------------+--------------------+-------------------+-------------------+-------------------+------------------+------------------+-----------------+---+----+-----+--------------+\n",
            "|artists                             |acousticness      |danceability      |duration_ms|energy            |instrumentalness    |liveness           |loudness           |speechiness        |tempo             |valence           |popularity       |key|mode|count|genres        |\n",
            "+------------------------------------+------------------+------------------+-----------+------------------+--------------------+-------------------+-------------------+-------------------+------------------+------------------+-----------------+---+----+-----+--------------+\n",
            "|\"\"\"Cats\"\" 1981 Original London Cast\"|0.5750833333333334|0.44275           |247260.0   |0.3863358333333334|0.022717396666666667|0.2877083333333333 |-14.205416666666665|0.18067500000000009|115.9835          |0.3344333333333333|38.0             |5  |1   |12   |['show tunes']|\n",
            "|\"\"\"Cats\"\" 1983 Broadway Cast\"       |0.8625384615384614|0.4417307692307693|287280.0   |0.4068076923076924|0.08115826423076923 |0.31521538461538456|-10.69             |0.17621153846153847|103.04415384615385|0.2688653846153846|33.07692307692308|5  |1   |26   |[]            |\n",
            "+------------------------------------+------------------+------------------+-----------+------------------+--------------------+-------------------+-------------------+-------------------+------------------+------------------+-----------------+---+----+-----+--------------+\n",
            "only showing top 2 rows\n",
            "\n"
          ],
          "name": "stdout"
        }
      ]
    },
    {
      "cell_type": "code",
      "metadata": {
        "id": "rYHipt1B1qhV"
      },
      "source": [
        "# Getting the artists and genres of a selected user \n",
        "w_genredf.createOrReplaceTempView('genre_artist_table')\n",
        "joinedDF_user_p.createOrReplaceTempView('song_joined_table_1')\n",
        "artist_user3_list = ss.sql(\"SELECT artistname FROM song_joined_table_1 WHERE user_id = '57718f1dbda00caa0bf6e1e3c12f59bf' GROUP BY artistname ORDER BY COUNT(artistname) DESC LIMIT 10\").collect()\n",
        "genre_names_user3 = []\n",
        "for i in artist_user3_list:\n",
        "  genre_names_user3.append(i.artistname)\n",
        "# ss.sql(\"SELECT artists, genres FROM genre_artist_table WHERE artists == 'Bread' OR artists == 'Miles Davis' OR artists == 'Steely Dan' OR artists == 'Steely Dan' OR artists == 'Steely Dan'\").show(truncate=False)"
      ],
      "execution_count": null,
      "outputs": []
    },
    {
      "cell_type": "code",
      "metadata": {
        "colab": {
          "base_uri": "https://localhost:8080/"
        },
        "id": "BOipI_CglO3u",
        "outputId": "948432ca-09cf-419e-cf48-63a93c84d001"
      },
      "source": [
        "w_genredf.filter(col('artists').isin(genre_names_user3)).select(['artists', 'genres']).show(truncate=False)"
      ],
      "execution_count": null,
      "outputs": [
        {
          "output_type": "stream",
          "text": [
            "+-------------+-------------------------------------------------------------------------------------------------------------------------------------------------------------------+\n",
            "|artists      |genres                                                                                                                                                             |\n",
            "+-------------+-------------------------------------------------------------------------------------------------------------------------------------------------------------------+\n",
            "|Boz Scaggs   |['adult standards', 'album rock', 'classic rock', 'country rock', 'folk', 'folk rock', 'mellow gold', 'roots rock', 'singer-songwriter', 'soft rock', 'yacht rock']|\n",
            "|Bread        |['adult standards', 'folk', 'folk rock', 'mellow gold', 'soft rock']                                                                                               |\n",
            "|China Crisis |['art rock', 'dance rock', 'new romantic', 'new wave', 'new wave pop', 'synthpop']                                                                                 |\n",
            "|Gino Vannelli|['adult standards', 'classic canadian rock', 'mellow gold', 'soft rock', 'yacht rock']                                                                             |\n",
            "|Joe Sample   |['jazz funk', 'jazz fusion', 'jazz piano', 'smooth jazz', 'vocal jazz']                                                                                            |\n",
            "|Maze         |['funk', 'motown', 'neo soul', 'new jack swing', 'post-disco', 'quiet storm', 'r&b', 'soul', 'urban contemporary']                                                 |\n",
            "|Miles Davis  |['bebop', 'contemporary post-bop', 'cool jazz', 'hard bop', 'jazz', 'jazz fusion', 'jazz trumpet']                                                                 |\n",
            "|Player       |['banda', 'banda caliente', 'duranguense', 'grupera']                                                                                                              |\n",
            "|Spyro Gyra   |['jazz funk', 'jazz fusion', 'progressive jazz fusion', 'smooth jazz']                                                                                             |\n",
            "|Steely Dan   |['album rock', 'art rock', 'classic rock', 'country rock', 'folk', 'folk rock', 'mellow gold', 'psychedelic rock', 'rock', 'roots rock', 'soft rock', 'yacht rock']|\n",
            "+-------------+-------------------------------------------------------------------------------------------------------------------------------------------------------------------+\n",
            "\n"
          ],
          "name": "stdout"
        }
      ]
    },
    {
      "cell_type": "code",
      "metadata": {
        "colab": {
          "base_uri": "https://localhost:8080/"
        },
        "id": "tEN1wfzrV3B8",
        "outputId": "3d336b19-7380-420a-8140-084d3097d1cf"
      },
      "source": [
        "# Finding the genre tag of the selected user \n",
        "brp_model_genre.approxNearestNeighbors(genredf_hashed, user_profiles_1[0][1], 10, distCol='Distance_Measure').show()"
      ],
      "execution_count": null,
      "outputs": [
        {
          "output_type": "stream",
          "text": [
            "+-----------------+---------------------+--------------------+-----------------+\n",
            "|           genres|scaled_features_dense|  hashed_projections| Distance_Measure|\n",
            "+-----------------+---------------------+--------------------+-----------------+\n",
            "|      ukg revival| [0.02630201432791...|[[0.0], [0.0], [0...|9.397137144600748|\n",
            "| folklore peruano| [0.63805101687483...|[[-1.0], [0.0], [...|9.435207454217926|\n",
            "|  panamanian rock| [0.06877203370709...|[[-1.0], [0.0], [...|  9.4723833793897|\n",
            "|          circuit| [0.00906300173358...|[[0.0], [0.0], [0...|9.475702969159096|\n",
            "|         guaracha| [0.00906300173358...|[[0.0], [0.0], [0...|9.475702969159096|\n",
            "|             coco| [0.58019440064019...|[[0.0], [0.0], [-...|9.488919912954218|\n",
            "| cumbia paraguaya| [0.20331062937636...|[[-1.0], [0.0], [...|9.497632907682734|\n",
            "|              vbs| [0.34181510155977...|[[0.0], [0.0], [0...|9.499870928295916|\n",
            "|   cumbia villera| [0.19941726537234...|[[-1.0], [0.0], [...|9.503039823822188|\n",
            "|musica ayacuchana| [0.68373389824014...|[[-1.0], [0.0], [...|9.503279634531324|\n",
            "+-----------------+---------------------+--------------------+-----------------+\n",
            "\n"
          ],
          "name": "stdout"
        }
      ]
    },
    {
      "cell_type": "markdown",
      "metadata": {
        "id": "gTdBIIkq3-Wj"
      },
      "source": [
        "## Creating user profile using the artists"
      ]
    },
    {
      "cell_type": "code",
      "metadata": {
        "id": "hzqwITu24DJE"
      },
      "source": [
        "# Creating user profiles based on the artists the user has listened to "
      ],
      "execution_count": null,
      "outputs": []
    },
    {
      "cell_type": "code",
      "metadata": {
        "id": "l7_Po2Je45fN"
      },
      "source": [
        "joined_artist_df_rdd = joined_artist_df_id.rdd.map(list)\n",
        "# joined_artist_df_rdd.map(lambda l: l[-1].shape).take(2)\n",
        "\n",
        "user_3_artist_profile_id = joined_artist_df_rdd.map(lambda l: (l[0], (l[-1], 1)))\\\n",
        "                                        .filter(lambda l: l[0] == '57718f1dbda00caa0bf6e1e3c12f59bf')\\\n",
        "                                        .reduceByKey(lambda a,b: (a[0]+b[0], a[1]+b[1]))\\\n",
        "                                        .map(lambda kv: kv[1][0] / kv[1][1])\\\n",
        "                                        .collect()"
      ],
      "execution_count": null,
      "outputs": []
    },
    {
      "cell_type": "code",
      "metadata": {
        "colab": {
          "base_uri": "https://localhost:8080/"
        },
        "id": "lsBUsFLa5r5E",
        "outputId": "0fee5281-c5c9-4725-9cdc-29f004151bcf"
      },
      "source": [
        "# User Profile created soley based on song features\n",
        "user_profile_vector\n",
        "# User profile created soley based on artist features\n",
        "user_3_artist_profile_id[0]\n",
        "# User profile created based on weighted song features (weights assigned to songs based on artists count)\n",
        "user_profiles_1[0][1]"
      ],
      "execution_count": null,
      "outputs": [
        {
          "output_type": "execute_result",
          "data": {
            "text/plain": [
              "DenseVector([0.3378, 0.5973, 0.5273, 0.0493, 0.2029, 0.5458, 0.4078, 0.5343, 0.1748, 0.7986, 0.0551, 0.7391, 0.1377, 0.0797, 0.1413, 0.0217, 0.0036, 0.0725, 0.1232, 0.1812, 0.0688, 0.0978, 0.0145])"
            ]
          },
          "metadata": {
            "tags": []
          },
          "execution_count": 69
        }
      ]
    },
    {
      "cell_type": "code",
      "metadata": {
        "colab": {
          "base_uri": "https://localhost:8080/"
        },
        "id": "QPb46MJwKI48",
        "outputId": "18ffc9bc-7e65-4bfd-c595-f7f0f57e4274"
      },
      "source": [
        "user_profile_vector"
      ],
      "execution_count": null,
      "outputs": [
        {
          "output_type": "execute_result",
          "data": {
            "text/plain": [
              "DenseVector([0.3527, 0.5845, 0.5172, 0.0956, 0.1267, 0.5863, 0.4603, 0.4751, 0.1855, 0.7882, 0.0524, 0.5614, 0.0877, 0.0, 0.0877, 0.0, 0.1228, 0.0877, 0.0351, 0.2105, 0.0, 0.193, 0.0877])"
            ]
          },
          "metadata": {
            "tags": []
          },
          "execution_count": 83
        }
      ]
    },
    {
      "cell_type": "code",
      "metadata": {
        "colab": {
          "base_uri": "https://localhost:8080/"
        },
        "id": "ft0MZAN_KTc1",
        "outputId": "6ef0ce4a-2deb-45fc-deb2-d72aef0b2005"
      },
      "source": [
        "# Genre Prediction based soley on song features\n",
        "brp_model_genre.approxNearestNeighbors(genredf_hashed, user_profile_vector, 10, distCol='Distance_Measure').show()"
      ],
      "execution_count": null,
      "outputs": [
        {
          "output_type": "stream",
          "text": [
            "+--------------------+---------------------+--------------------+------------------+\n",
            "|              genres|scaled_features_dense|  hashed_projections|  Distance_Measure|\n",
            "+--------------------+---------------------+--------------------+------------------+\n",
            "|          dutch rock| [0.32657197907238...|[[-1.0], [0.0], [...|0.5797586550139888|\n",
            "|         quiet storm| [0.30485968092295...|[[-1.0], [0.0], [...|0.5882001536244413|\n",
            "|        jovem guarda| [0.49322538345723...|[[-1.0], [0.0], [...|0.5999131569816505|\n",
            "|          piano rock| [0.38457228674870...|[[-1.0], [0.0], [...|0.6076507637694536|\n",
            "|     one-person band| [0.43322145010009...|[[-1.0], [0.0], [...|0.6077361044673869|\n",
            "|            neo soul| [0.27371523916278...|[[-1.0], [0.0], [...|0.6077947500393084|\n",
            "|      new jack swing| [0.22967488141549...|[[-1.0], [0.0], [...|0.6081093895878967|\n",
            "|          synth funk| [0.22209466131717...|[[-1.0], [0.0], [...|0.6082128188083553|\n",
            "|sertanejo univers...| [0.49951663328101...|[[-1.0], [0.0], [...|0.6100272300880054|\n",
            "|south carolina indie| [0.40285497145420...|[[-1.0], [0.0], [...|0.6105757250737144|\n",
            "+--------------------+---------------------+--------------------+------------------+\n",
            "\n"
          ],
          "name": "stdout"
        }
      ]
    },
    {
      "cell_type": "code",
      "metadata": {
        "id": "gBJAwPA85PXF",
        "colab": {
          "base_uri": "https://localhost:8080/"
        },
        "outputId": "7a3d1e23-671c-406b-c5c2-2af613e728ac"
      },
      "source": [
        "# Finding the closest genres that explains the users taste in music based on the artists the user listens to \n",
        "brp_model_genre.approxNearestNeighbors(genredf_hashed, user_3_artist_profile_id[0], 10, distCol='Distance_Measure').show()"
      ],
      "execution_count": null,
      "outputs": [
        {
          "output_type": "stream",
          "text": [
            "+--------------------+---------------------+--------------------+-------------------+\n",
            "|              genres|scaled_features_dense|  hashed_projections|   Distance_Measure|\n",
            "+--------------------+---------------------+--------------------+-------------------+\n",
            "|          dutch rock| [0.32657197907238...|[[-1.0], [0.0], [...|0.46017068572104947|\n",
            "|          synth funk| [0.22209466131717...|[[-1.0], [0.0], [...|0.49302179359458764|\n",
            "|         quiet storm| [0.30485968092295...|[[-1.0], [0.0], [...| 0.4967222745612981|\n",
            "|alternative ameri...| [0.31995162355459...|[[-1.0], [0.0], [...| 0.5001752639488984|\n",
            "|south carolina indie| [0.40285497145420...|[[-1.0], [0.0], [...| 0.5034827246803009|\n",
            "|     one-person band| [0.43322145010009...|[[-1.0], [0.0], [...| 0.5060414154324744|\n",
            "|          piano rock| [0.38457228674870...|[[-1.0], [0.0], [...|  0.509639118268468|\n",
            "|        jovem guarda| [0.49322538345723...|[[-1.0], [0.0], [...| 0.5151677217040239|\n",
            "|  south african jazz| [0.43058203297696...|[[-1.0], [0.0], [...| 0.5162663888972935|\n",
            "|      new jack swing| [0.22967488141549...|[[-1.0], [0.0], [...| 0.5181261697995011|\n",
            "+--------------------+---------------------+--------------------+-------------------+\n",
            "\n"
          ],
          "name": "stdout"
        }
      ]
    },
    {
      "cell_type": "code",
      "metadata": {
        "colab": {
          "base_uri": "https://localhost:8080/"
        },
        "id": "d5w5n4hB-3fc",
        "outputId": "a52421dd-88e5-46f9-beb1-8cb78fc2240f"
      },
      "source": [
        "# Finding the closest genres that explains the users taste in music based on a weighted average of song and artists\n",
        "brp_model_genre.approxNearestNeighbors(genredf_hashed, user_profiles_1[0][1], 10, distCol='Distance_Measure').show()"
      ],
      "execution_count": null,
      "outputs": [
        {
          "output_type": "stream",
          "text": [
            "+-----------------+---------------------+--------------------+-----------------+\n",
            "|           genres|scaled_features_dense|  hashed_projections| Distance_Measure|\n",
            "+-----------------+---------------------+--------------------+-----------------+\n",
            "|      ukg revival| [0.02630201432791...|[[0.0], [0.0], [0...|9.397137144600748|\n",
            "| folklore peruano| [0.63805101687483...|[[-1.0], [0.0], [...|9.435207454217926|\n",
            "|  panamanian rock| [0.06877203370709...|[[-1.0], [0.0], [...|  9.4723833793897|\n",
            "|          circuit| [0.00906300173358...|[[0.0], [0.0], [0...|9.475702969159096|\n",
            "|         guaracha| [0.00906300173358...|[[0.0], [0.0], [0...|9.475702969159096|\n",
            "|             coco| [0.58019440064019...|[[0.0], [0.0], [-...|9.488919912954218|\n",
            "| cumbia paraguaya| [0.20331062937636...|[[-1.0], [0.0], [...|9.497632907682734|\n",
            "|              vbs| [0.34181510155977...|[[0.0], [0.0], [0...|9.499870928295916|\n",
            "|   cumbia villera| [0.19941726537234...|[[-1.0], [0.0], [...|9.503039823822188|\n",
            "|musica ayacuchana| [0.68373389824014...|[[-1.0], [0.0], [...|9.503279634531324|\n",
            "+-----------------+---------------------+--------------------+-----------------+\n",
            "\n"
          ],
          "name": "stdout"
        }
      ]
    },
    {
      "cell_type": "markdown",
      "metadata": {
        "id": "_UDFkW5SIj3H"
      },
      "source": [
        "According to the artists this user listens to we can infer that the user at large likes the following genre of music:\n",
        "\n",
        "\n",
        "*   Rock - folk rock, country rock, etc ..\n",
        "*   Jazz - funk, classic jazz etc.. \n",
        "\n",
        "The genres provided by the artist profiles are as follows:\n",
        "\n",
        "\n",
        "\n",
        "1.   Profile build soley using song features\n",
        "\n",
        "> *   dutch rock\n",
        " \n",
        "> *   quiet storm\n",
        "\n",
        "> *   jovem guarda\n",
        "\n",
        "\n",
        "2.   Profile build soley based on artist features \n",
        "\n",
        "> *   dutch rock\n",
        " \n",
        "> *   synth funk\n",
        "\n",
        "> *   quiet storm\n",
        "\n",
        "3.   Profile build by taking a weighted average of songs and artist (weighing the features of songs more if that song is from a artist that the user frequently listens to)\n",
        "\n",
        "> *   ukg revival\n",
        " \n",
        "> *   folklore peruano\n",
        "\n",
        "> *   panamanian rock\n",
        "\n",
        "\n",
        "\n",
        "\n"
      ]
    },
    {
      "cell_type": "markdown",
      "metadata": {
        "id": "6J61V-Lbd3mc"
      },
      "source": [
        "# User - Artist Recommendation using Matrix Factorization"
      ]
    },
    {
      "cell_type": "code",
      "metadata": {
        "id": "0LwMKLqPgrch"
      },
      "source": [
        "from pyspark.mllib.recommendation import ALS, MatrixFactorizationModel, Rating\n",
        "import matplotlib\n",
        "import matplotlib.pyplot\n",
        "import matplotlib.pyplot as plt\n",
        "%matplotlib inline "
      ],
      "execution_count": null,
      "outputs": []
    },
    {
      "cell_type": "code",
      "metadata": {
        "id": "pgUcHQRwmTcK"
      },
      "source": [
        "# Model evaluation with increasing rank\n",
        "# Model evaluation with increasing value of alpha. The alpha parameter controls the confidence in the positive feedback. \n",
        "# The relation of the confidence and alpha is given as follows: c = 1 + alpha*r(u,i) -> r(u,i) is the implicit feed back given by user u for item i\n",
        "# The matrix maps any (r(u,i) > 0 -> 1) and (r(u,i) = 0 -> 0) and formulates a binary feedback to each user item interaction\n",
        "# (https://ieeexplore.ieee.org/document/4781121/authors#authors)"
      ],
      "execution_count": null,
      "outputs": []
    },
    {
      "cell_type": "code",
      "metadata": {
        "id": "VnqXI0NCatpU",
        "colab": {
          "base_uri": "https://localhost:8080/"
        },
        "outputId": "14a6f606-f425-4f97-a4c1-3665d1ea7a40"
      },
      "source": [
        "spotifydf = ss.read.csv(spotifyDataPath,header=True,inferSchema=True)\n",
        "spotifydf = spotifydf.select('user_id',col(' \"artistname\"').alias('artistname'), col(' \"trackname\"').alias(\"trackname\"),col(' \"playlistname\"').alias('playlistname'))\n",
        "spotifyRDD = spotifydf.rdd.map(list) \n",
        "artistdf = ss.read.csv(artistDataPath,header=True,inferSchema=True)\n",
        "# artistdf.printSchema()\n",
        "artistdf.show(2, truncate=False)"
      ],
      "execution_count": null,
      "outputs": [
        {
          "output_type": "stream",
          "text": [
            "+------------------------------------+------------------+------------------+-----------+------------------+--------------------+-------------------+-------------------+-------------------+------------------+------------------+-----------------+---+----+-----+\n",
            "|artists                             |acousticness      |danceability      |duration_ms|energy            |instrumentalness    |liveness           |loudness           |speechiness        |tempo             |valence           |popularity       |key|mode|count|\n",
            "+------------------------------------+------------------+------------------+-----------+------------------+--------------------+-------------------+-------------------+-------------------+------------------+------------------+-----------------+---+----+-----+\n",
            "|\"\"\"Cats\"\" 1981 Original London Cast\"|0.5750833333333334|0.44275           |247260.0   |0.3863358333333334|0.022717396666666667|0.2877083333333333 |-14.205416666666665|0.18067500000000009|115.9835          |0.3344333333333333|38.0             |5  |1   |12   |\n",
            "|\"\"\"Cats\"\" 1983 Broadway Cast\"       |0.8625384615384614|0.4417307692307693|287280.0   |0.4068076923076924|0.08115826423076923 |0.31521538461538456|-10.69             |0.17621153846153847|103.04415384615385|0.2688653846153846|33.07692307692308|5  |1   |26   |\n",
            "+------------------------------------+------------------+------------------+-----------+------------------+--------------------+-------------------+-------------------+-------------------+------------------+------------------+-----------------+---+----+-----+\n",
            "only showing top 2 rows\n",
            "\n"
          ],
          "name": "stdout"
        }
      ]
    },
    {
      "cell_type": "code",
      "metadata": {
        "colab": {
          "base_uri": "https://localhost:8080/"
        },
        "id": "mqrrV1wvd8m1",
        "outputId": "0cbe3eda-b6b6-4728-fec5-5b2e84b53966"
      },
      "source": [
        "artistdf = artistdf.withColumn('artists',translate('artists', '\"','')).withColumn('artists',translate('artists', '”', ''))\n",
        "artistdf.select('artists').show(2, truncate=False)\n",
        "artistdf.printSchema()"
      ],
      "execution_count": null,
      "outputs": [
        {
          "output_type": "stream",
          "text": [
            "+------------------------------+\n",
            "|artists                       |\n",
            "+------------------------------+\n",
            "|Cats 1981 Original London Cast|\n",
            "|Cats 1983 Broadway Cast       |\n",
            "+------------------------------+\n",
            "only showing top 2 rows\n",
            "\n",
            "root\n",
            " |-- artists: string (nullable = true)\n",
            " |-- acousticness: double (nullable = true)\n",
            " |-- danceability: double (nullable = true)\n",
            " |-- duration_ms: double (nullable = true)\n",
            " |-- energy: double (nullable = true)\n",
            " |-- instrumentalness: double (nullable = true)\n",
            " |-- liveness: double (nullable = true)\n",
            " |-- loudness: double (nullable = true)\n",
            " |-- speechiness: double (nullable = true)\n",
            " |-- tempo: double (nullable = true)\n",
            " |-- valence: double (nullable = true)\n",
            " |-- popularity: double (nullable = true)\n",
            " |-- key: integer (nullable = true)\n",
            " |-- mode: integer (nullable = true)\n",
            " |-- count: integer (nullable = true)\n",
            "\n"
          ],
          "name": "stdout"
        }
      ]
    },
    {
      "cell_type": "code",
      "metadata": {
        "colab": {
          "base_uri": "https://localhost:8080/"
        },
        "id": "YoA8mcf9ihiE",
        "outputId": "e3c105ca-ba07-471c-d558-7ac0321293f3"
      },
      "source": [
        "# Total number of distinct users and artists in our dataset\n",
        "unique_users = spotifyRDD.map(lambda l: l[0]).distinct().count()\n",
        "unique_artists = spotifyRDD.map(lambda l: l[1]).distinct().count()\n",
        "\n",
        "print(\"The number of unique users in the spotify playlist dataset is \", unique_users)\n",
        "print(\"The number of unique artists in the spotify playlist dataset is \", unique_artists)"
      ],
      "execution_count": null,
      "outputs": [
        {
          "output_type": "stream",
          "text": [
            "The number of unique users in the spotify playlist dataset is  15918\n",
            "The number of unique artists in the spotify playlist dataset is  289816\n"
          ],
          "name": "stdout"
        }
      ]
    },
    {
      "cell_type": "code",
      "metadata": {
        "id": "2A9CFqjAn2tM"
      },
      "source": [
        "# Creating users and artists dictionaries\n",
        "user_dic = {}\n",
        "artists_dic = {}\n",
        "users_list = spotifyRDD.map(lambda l: l[0]).distinct().collect()\n",
        "artists_list = spotifyRDD.map(lambda l: l[1]).distinct().collect()\n",
        "\n",
        "for index, user in enumerate(users_list):\n",
        "  user_dic[user] = index\n",
        "for index, artists in enumerate(artists_list):\n",
        "  artists_dic[artists] = index"
      ],
      "execution_count": null,
      "outputs": []
    },
    {
      "cell_type": "code",
      "metadata": {
        "id": "9d6r5t7eatXg"
      },
      "source": [
        "# Creating (user, artist, count) raiting tuples for the ALS model to train on\n",
        "user_artist_rdd = spotifyRDD.map(lambda l: ((user_dic[l[0]], artists_dic[l[1]]), 1))\\\n",
        "                            .reduceByKey(lambda a,b: a+b)\\\n",
        "                            .map(lambda kv: Rating(int(kv[0][0]), int(kv[0][1]), int(kv[1])))"
      ],
      "execution_count": null,
      "outputs": []
    },
    {
      "cell_type": "code",
      "metadata": {
        "id": "XOQs8guXganW"
      },
      "source": [
        "# Splitting the original rdd into training and testing rdd randomly in proportion of 60-40\n",
        "training_rdd, testing_rdd = user_artist_rdd.randomSplit([0.6, 0.4], 10)"
      ],
      "execution_count": null,
      "outputs": []
    },
    {
      "cell_type": "code",
      "metadata": {
        "id": "Pmls82Hh4-ez"
      },
      "source": [
        "# Mapping our testing rdd to binary inputs\n",
        "def confidence(r):\n",
        "  if r.rating > 0:\n",
        "    return Rating(r.user, r.product, 1)\n",
        "  else:\n",
        "    return Rating(r.user, r.product, 0)\n",
        "    \n",
        "testing_rdd = testing_rdd.map(confidence)"
      ],
      "execution_count": null,
      "outputs": []
    },
    {
      "cell_type": "code",
      "metadata": {
        "id": "ldhMAdxWfPxn"
      },
      "source": [
        "testing_rdd_1 = testing_rdd.map(lambda r: (r.user, r.product))"
      ],
      "execution_count": null,
      "outputs": []
    },
    {
      "cell_type": "markdown",
      "metadata": {
        "id": "uiDPAODaEdcC"
      },
      "source": [
        "Training Log:\n",
        "\n",
        "Parameters: rank (=10) and iterations (=10)\n",
        "\n",
        "MSE: \n",
        "alpha (0.0001) - 0.8391973259581571\n",
        "\n",
        "alpha (0.001) - 0.8394621245021734\n",
        "\n",
        "alpha (0.01) - 0.839114778736289\n",
        "\n",
        "alpha (0.1) - 0.8714874682599405\n",
        "\n",
        "alpha (1) - 0.9999811140655851\n",
        "\n",
        "alpha (10) - 1\n",
        "\n",
        "Parmeters: rank (=20) and iterations (=10) alpha (=0.01)\n",
        "\n",
        "MSE - 0.8152529887243596"
      ]
    },
    {
      "cell_type": "code",
      "metadata": {
        "colab": {
          "base_uri": "https://localhost:8080/"
        },
        "id": "U_N8WGukDpDK",
        "outputId": "9804f7c1-e69e-4f8f-8710-66d5bf7fc295"
      },
      "source": [
        "alpha = 0.0001\n",
        "rank = 10\n",
        "numIterations = 10\n",
        "\n",
        "model = ALS.trainImplicit(training_rdd, rank, numIterations, alpha)\n",
        "predictions = model.predictAll(testing_rdd_1).map(lambda r: ((r[0], r[1]), r[2]))\n",
        "ratesAndPreds = testing_rdd.map(lambda r: ((r[0], r[1]), r[2])).join(predictions)\n",
        "MSE = ratesAndPreds.map(lambda r: (r[1][0] - r[1][1])**2).mean()\n",
        "\n",
        "print(\"Mean Squared Error = \" + str(MSE))"
      ],
      "execution_count": null,
      "outputs": [
        {
          "output_type": "stream",
          "text": [
            "Mean Squared Error = 0.8391973259581571\n"
          ],
          "name": "stdout"
        }
      ]
    },
    {
      "cell_type": "code",
      "metadata": {
        "colab": {
          "base_uri": "https://localhost:8080/"
        },
        "id": "d_3Hp4ZhDJdX",
        "outputId": "da9e5ff0-b55c-4af6-ffa4-18b4a29325d3"
      },
      "source": [
        "alpha = 0.001\n",
        "rank = 10\n",
        "numIterations = 10\n",
        "\n",
        "model = ALS.trainImplicit(training_rdd, rank, numIterations, alpha)\n",
        "predictions = model.predictAll(testing_rdd_1).map(lambda r: ((r[0], r[1]), r[2]))\n",
        "ratesAndPreds = testing_rdd.map(lambda r: ((r[0], r[1]), r[2])).join(predictions)\n",
        "MSE = ratesAndPreds.map(lambda r: (r[1][0] - r[1][1])**2).mean()\n",
        "\n",
        "print(\"Mean Squared Error = \" + str(MSE))"
      ],
      "execution_count": null,
      "outputs": [
        {
          "output_type": "stream",
          "text": [
            "Mean Squared Error = 0.8394621245021734\n"
          ],
          "name": "stdout"
        }
      ]
    },
    {
      "cell_type": "code",
      "metadata": {
        "id": "c3tBVIjOI56b"
      },
      "source": [
        "a = [0.839114778736289, 0.8152529887243596]"
      ],
      "execution_count": null,
      "outputs": []
    },
    {
      "cell_type": "code",
      "metadata": {
        "id": "iXA8c8oWfPWk"
      },
      "source": [
        "# Building an implict ALS model based on the number of times \n",
        "# alpha = 0.01\n",
        "# rank = 500\n",
        "# numIterations = 10\n",
        "\n",
        "# model = ALS.trainImplicit(training_rdd, rank, numIterations, alpha)\n",
        "# predictions = model.predictAll(testing_rdd_1).map(lambda r: ((r[0], r[1]), r[2]))\n",
        "# ratesAndPreds = testing_rdd.map(lambda r: ((r[0], r[1]), r[2])).join(predictions)\n",
        "# MSE = ratesAndPreds.map(lambda r: (r[1][0] - r[1][1])**2).mean()\n",
        "# rank_MSE_1.append(MSE)\n",
        "# print(\"Mean Squared Error = \" + str(MSE))"
      ],
      "execution_count": null,
      "outputs": []
    },
    {
      "cell_type": "code",
      "metadata": {
        "colab": {
          "base_uri": "https://localhost:8080/"
        },
        "id": "xS__kUt9LLoE",
        "outputId": "7e57ced3-5869-4eb0-9e62-e09457e7cc58"
      },
      "source": [
        "rank_MSE_1"
      ],
      "execution_count": null,
      "outputs": [
        {
          "output_type": "execute_result",
          "data": {
            "text/plain": [
              "[0.839114778736289,\n",
              " 0.8152529887243596,\n",
              " 0.8021789685727874,\n",
              " 0.7946116267339124,\n",
              " 0.7612373931533974]"
            ]
          },
          "metadata": {
            "tags": []
          },
          "execution_count": 41
        }
      ]
    },
    {
      "cell_type": "code",
      "metadata": {
        "colab": {
          "base_uri": "https://localhost:8080/",
          "height": 265
        },
        "id": "k05ct0RvK88u",
        "outputId": "c159f8e7-1c92-44d0-818a-273d01920035"
      },
      "source": [
        "rank_list = [10,20,30,40,100,500,1000]\n",
        "plt.plot(rank_list, rank_MSE_1)\n",
        "plt.show()"
      ],
      "execution_count": null,
      "outputs": [
        {
          "output_type": "display_data",
          "data": {
            "text/plain": [
              "<Figure size 432x288 with 1 Axes>"
            ],
            "image/png": "[encoded data removed]"
          },
          "metadata": {
            "tags": [],
            "needs_background": "light"
          }
        }
      ]
    },
    {
      "cell_type": "code",
      "metadata": {
        "colab": {
          "base_uri": "https://localhost:8080/"
        },
        "id": "Wqp88Rg5BDa1",
        "outputId": "65f701ab-0bd0-47bb-d393-b43e9762e226"
      },
      "source": [
        "alpha = 0.1\n",
        "rank = 10\n",
        "numIterations = 10\n",
        "\n",
        "model = ALS.trainImplicit(training_rdd, rank, numIterations, alpha)\n",
        "predictions = model.predictAll(testing_rdd_1).map(lambda r: ((r[0], r[1]), r[2]))\n",
        "ratesAndPreds = testing_rdd.map(lambda r: ((r[0], r[1]), r[2])).join(predictions)\n",
        "MSE = ratesAndPreds.map(lambda r: (r[1][0] - r[1][1])**2).mean()\n",
        "\n",
        "print(\"Mean Squared Error = \" + str(MSE))"
      ],
      "execution_count": null,
      "outputs": [
        {
          "output_type": "stream",
          "text": [
            "Mean Squared Error = 0.8714874682599405\n"
          ],
          "name": "stdout"
        }
      ]
    },
    {
      "cell_type": "code",
      "metadata": {
        "colab": {
          "base_uri": "https://localhost:8080/"
        },
        "id": "u4K7C-keChvZ",
        "outputId": "6b2467ae-aefe-43a9-f40e-93d71a1c8e0d"
      },
      "source": [
        "alpha = 1.0\n",
        "rank = 10\n",
        "numIterations = 10\n",
        "\n",
        "model = ALS.trainImplicit(training_rdd, rank, numIterations, alpha)\n",
        "predictions = model.predictAll(testing_rdd_1).map(lambda r: ((r[0], r[1]), r[2]))\n",
        "ratesAndPreds = testing_rdd.map(lambda r: ((r[0], r[1]), r[2])).join(predictions)\n",
        "MSE = ratesAndPreds.map(lambda r: (r[1][0] - r[1][1])**2).mean()\n",
        "\n",
        "print(\"Mean Squared Error = \" + str(MSE))"
      ],
      "execution_count": null,
      "outputs": [
        {
          "output_type": "stream",
          "text": [
            "Mean Squared Error = 0.9999811140655851\n"
          ],
          "name": "stdout"
        }
      ]
    },
    {
      "cell_type": "code",
      "metadata": {
        "colab": {
          "base_uri": "https://localhost:8080/"
        },
        "id": "O9JkSzOEHhY6",
        "outputId": "a54a0532-2c73-4e2c-9d53-a13799b6df8a"
      },
      "source": [
        "alpha = 10.0\n",
        "rank = 10\n",
        "numIterations = 10\n",
        "\n",
        "model = ALS.trainImplicit(training_rdd, rank, numIterations, alpha)\n",
        "predictions = model.predictAll(testing_rdd_1).map(lambda r: ((r[0], r[1]), r[2]))\n",
        "ratesAndPreds = testing_rdd.map(lambda r: ((r[0], r[1]), r[2])).join(predictions)\n",
        "MSE = ratesAndPreds.map(lambda r: (r[1][0] - r[1][1])**2).mean()\n",
        "\n",
        "print(\"Mean Squared Error = \" + str(MSE))"
      ],
      "execution_count": null,
      "outputs": [
        {
          "output_type": "stream",
          "text": [
            "Mean Squared Error = 1.0\n"
          ],
          "name": "stdout"
        }
      ]
    },
    {
      "cell_type": "code",
      "metadata": {
        "id": "gUtFZ_-ru1YO"
      },
      "source": [
        "# Plotting MSE with the increasing number of rank\n",
        "plt.plot(rank_list, rank_MSE)\n",
        "plt.show()"
      ],
      "execution_count": null,
      "outputs": []
    },
    {
      "cell_type": "code",
      "metadata": {
        "id": "dBzEG50Q7F8p"
      },
      "source": [
        ""
      ],
      "execution_count": null,
      "outputs": []
    },
    {
      "cell_type": "code",
      "metadata": {
        "id": "xUt-WG1OEQ5a"
      },
      "source": [
        "sc.stop()"
      ],
      "execution_count": null,
      "outputs": []
    },
    {
      "cell_type": "code",
      "metadata": {
        "id": "AEPxaypLpKXV"
      },
      "source": [
        "ss.stop()"
      ],
      "execution_count": null,
      "outputs": []
    }
  ]
}